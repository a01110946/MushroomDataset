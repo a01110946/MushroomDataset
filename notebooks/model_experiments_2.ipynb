{
 "cells": [
  {
   "cell_type": "markdown",
   "metadata": {},
   "source": [
    "## Entrenamiento de Modelo"
   ]
  },
  {
   "cell_type": "markdown",
   "metadata": {},
   "source": [
    "### Relevancia de la Estrategia de MLOps"
   ]
  },
  {
   "cell_type": "markdown",
   "metadata": {},
   "source": [
    "La implementación de una estrategia de MLOps en el análisis del dataset de hongos cobra una importancia crucial, especialmente cuando abordamos la pregunta: *\"¿podemos determinar si un hongo es comestible basándonos en sus características físicas?\"*. Esta pregunta no solo plantea un desafío analítico y de modelado significativo, sino que también implica una profunda responsabilidad ética y de seguridad. En ámbitos donde la salud humana podría estar en juego, la precisión y fiabilidad de las predicciones de nuestro modelo no son meramente objetivos deseables, sino imperativos críticos.\n",
    "\n",
    "En este contexto, una estrategia de MLOps es esencial, ya que permite la iteración continua y sistemática sobre el modelo, buscando optimizar su desempeño mientras se asegura la precisión y fiabilidad del sistema. La incorporación de MLOps facilita una mejora constante mediante la automatización, la integración y la entrega continuas, junto con el monitoreo y mantenimiento en producción, lo que es crucial para manejar la delicada naturaleza de la pregunta de investigación y garantizar la seguridad de las predicciones.\n",
    "\n",
    "En consonancia con este enfoque iterativo y basado en la necesidad de equilibrar la precisión con la responsabilidad, elegimos comenzar nuestro proceso de modelado con un modelo base sencillo: la regresión logística. Esta elección se fundamenta en su interpretabilidad, simplicidad y eficacia probada como punto de partida en problemas de clasificación. A partir de este modelo base, podemos evaluar su desempeño como línea de base y, apoyados por la infraestructura y prácticas que MLOps facilita, proceder a experimentar y mejorar iterativamente. Esto nos permite explorar modelos más complejos y ajustar parámetros con el objetivo final de optimizar la precisión y la seguridad de nuestras predicciones, garantizando así que nuestro sistema de predicción evolucione de manera responsable y efectiva para proteger la salud y el bienestar de las personas."
   ]
  },
  {
   "cell_type": "markdown",
   "metadata": {},
   "source": [
    "### Importación de Librerías"
   ]
  },
  {
   "cell_type": "code",
   "execution_count": 171,
   "metadata": {},
   "outputs": [],
   "source": [
    "import os\n",
    "import pandas as pd\n",
    "import matplotlib.pyplot as plt\n",
    "import seaborn as sns\n",
    "import time\n",
    "\n",
    "from scipy.stats import randint\n",
    "from scipy.stats import uniform\n",
    "\n",
    "from sklearn.model_selection import train_test_split\n",
    "from sklearn.model_selection import GridSearchCV\n",
    "from sklearn.model_selection import RandomizedSearchCV\n",
    "from sklearn.model_selection import StratifiedKFold\n",
    "\n",
    "from sklearn.pipeline import Pipeline\n",
    "from sklearn.impute import SimpleImputer\n",
    "from sklearn.preprocessing import MinMaxScaler\n",
    "from sklearn.preprocessing import StandardScaler\n",
    "from sklearn.compose import ColumnTransformer\n",
    "from sklearn.preprocessing import OneHotEncoder\n",
    "from sklearn.preprocessing import LabelEncoder\n",
    "\n",
    "from sklearn.linear_model import LogisticRegression\n",
    "from sklearn.tree import DecisionTreeClassifier\n",
    "from sklearn.ensemble import RandomForestClassifier\n",
    "from sklearn.ensemble import GradientBoostingClassifier\n",
    "from sklearn.neural_network import MLPClassifier\n",
    "\n",
    "from sklearn.metrics import accuracy_score\n",
    "from sklearn.metrics import precision_score\n",
    "from sklearn.metrics import recall_score\n",
    "from sklearn.metrics import f1_score\n",
    "from sklearn.metrics import roc_auc_score\n",
    "from sklearn.metrics import confusion_matrix\n",
    "from sklearn.metrics import classification_report\n",
    "from sklearn.metrics import make_scorer\n",
    "\n",
    "import mlflow\n",
    "import mlflow.sklearn\n",
    "\n",
    "from rich import print\n",
    "\n",
    "%matplotlib inline\n",
    "\n",
    "import warnings\n",
    "warnings.filterwarnings(\"ignore\", category=UserWarning, module=\"distutils\")"
   ]
  },
  {
   "cell_type": "markdown",
   "metadata": {},
   "source": [
    "### Carga del Dataset"
   ]
  },
  {
   "cell_type": "code",
   "execution_count": 172,
   "metadata": {},
   "outputs": [
    {
     "name": "stdout",
     "output_type": "stream",
     "text": [
      "<class 'pandas.core.frame.DataFrame'>\n",
      "RangeIndex: 61069 entries, 0 to 61068\n",
      "Data columns (total 21 columns):\n",
      " #   Column                Non-Null Count  Dtype  \n",
      "---  ------                --------------  -----  \n",
      " 0   class                 61069 non-null  object \n",
      " 1   cap-diameter          61069 non-null  float64\n",
      " 2   cap-shape             61069 non-null  object \n",
      " 3   cap-surface           46949 non-null  object \n",
      " 4   cap-color             61069 non-null  object \n",
      " 5   does-bruise-or-bleed  61069 non-null  object \n",
      " 6   gill-attachment       51185 non-null  object \n",
      " 7   gill-spacing          36006 non-null  object \n",
      " 8   gill-color            61069 non-null  object \n",
      " 9   stem-height           61069 non-null  float64\n",
      " 10  stem-width            61069 non-null  float64\n",
      " 11  stem-root             9531 non-null   object \n",
      " 12  stem-surface          22945 non-null  object \n",
      " 13  stem-color            61069 non-null  object \n",
      " 14  veil-type             3177 non-null   object \n",
      " 15  veil-color            7413 non-null   object \n",
      " 16  has-ring              61069 non-null  object \n",
      " 17  ring-type             58598 non-null  object \n",
      " 18  spore-print-color     6354 non-null   object \n",
      " 19  habitat               61069 non-null  object \n",
      " 20  season                61069 non-null  object \n",
      "dtypes: float64(3), object(18)\n",
      "memory usage: 9.8+ MB\n"
     ]
    }
   ],
   "source": [
    "parent_directory = os.path.dirname(os.getcwd())\n",
    "path_primary_data = os.path.join(parent_directory, \"data\", \"secondary_data.csv\")\n",
    "df = pd.read_csv(path_primary_data, sep=\";\")\n",
    "df.info()"
   ]
  },
  {
   "cell_type": "markdown",
   "metadata": {},
   "source": [
    "### Validación de Datos"
   ]
  },
  {
   "cell_type": "code",
   "execution_count": 173,
   "metadata": {},
   "outputs": [
    {
     "data": {
      "text/html": [
       "<pre style=\"white-space:pre;overflow-x:auto;line-height:normal;font-family:Menlo,'DejaVu Sans Mono',consolas,'Courier New',monospace\">Number of duplicate rows: <span style=\"color: #008080; text-decoration-color: #008080; font-weight: bold\">146</span>\n",
       "</pre>\n"
      ],
      "text/plain": [
       "Number of duplicate rows: \u001b[1;36m146\u001b[0m\n"
      ]
     },
     "metadata": {},
     "output_type": "display_data"
    }
   ],
   "source": [
    "# Verificar si hay filas duplicadas\n",
    "duplicates = df.duplicated()\n",
    "print(f\"Number of duplicate rows: {duplicates.sum()}\")"
   ]
  },
  {
   "cell_type": "code",
   "execution_count": 174,
   "metadata": {},
   "outputs": [
    {
     "data": {
      "text/html": [
       "<pre style=\"white-space:pre;overflow-x:auto;line-height:normal;font-family:Menlo,'DejaVu Sans Mono',consolas,'Courier New',monospace\">Missing values per column:\n",
       "</pre>\n"
      ],
      "text/plain": [
       "Missing values per column:\n"
      ]
     },
     "metadata": {},
     "output_type": "display_data"
    },
    {
     "data": {
      "text/html": [
       "<pre style=\"white-space:pre;overflow-x:auto;line-height:normal;font-family:Menlo,'DejaVu Sans Mono',consolas,'Courier New',monospace\">class                       <span style=\"color: #008080; text-decoration-color: #008080; font-weight: bold\">0</span>\n",
       "cap-diameter                <span style=\"color: #008080; text-decoration-color: #008080; font-weight: bold\">0</span>\n",
       "cap-shape                   <span style=\"color: #008080; text-decoration-color: #008080; font-weight: bold\">0</span>\n",
       "cap-surface             <span style=\"color: #008080; text-decoration-color: #008080; font-weight: bold\">14120</span>\n",
       "cap-color                   <span style=\"color: #008080; text-decoration-color: #008080; font-weight: bold\">0</span>\n",
       "does-bruise-or-bleed        <span style=\"color: #008080; text-decoration-color: #008080; font-weight: bold\">0</span>\n",
       "gill-attachment          <span style=\"color: #008080; text-decoration-color: #008080; font-weight: bold\">9884</span>\n",
       "gill-spacing            <span style=\"color: #008080; text-decoration-color: #008080; font-weight: bold\">25063</span>\n",
       "gill-color                  <span style=\"color: #008080; text-decoration-color: #008080; font-weight: bold\">0</span>\n",
       "stem-height                 <span style=\"color: #008080; text-decoration-color: #008080; font-weight: bold\">0</span>\n",
       "stem-width                  <span style=\"color: #008080; text-decoration-color: #008080; font-weight: bold\">0</span>\n",
       "stem-root               <span style=\"color: #008080; text-decoration-color: #008080; font-weight: bold\">51538</span>\n",
       "stem-surface            <span style=\"color: #008080; text-decoration-color: #008080; font-weight: bold\">38124</span>\n",
       "stem-color                  <span style=\"color: #008080; text-decoration-color: #008080; font-weight: bold\">0</span>\n",
       "veil-type               <span style=\"color: #008080; text-decoration-color: #008080; font-weight: bold\">57892</span>\n",
       "veil-color              <span style=\"color: #008080; text-decoration-color: #008080; font-weight: bold\">53656</span>\n",
       "has-ring                    <span style=\"color: #008080; text-decoration-color: #008080; font-weight: bold\">0</span>\n",
       "ring-type                <span style=\"color: #008080; text-decoration-color: #008080; font-weight: bold\">2471</span>\n",
       "spore-print-color       <span style=\"color: #008080; text-decoration-color: #008080; font-weight: bold\">54715</span>\n",
       "habitat                     <span style=\"color: #008080; text-decoration-color: #008080; font-weight: bold\">0</span>\n",
       "season                      <span style=\"color: #008080; text-decoration-color: #008080; font-weight: bold\">0</span>\n",
       "dtype: int64\n",
       "</pre>\n"
      ],
      "text/plain": [
       "class                       \u001b[1;36m0\u001b[0m\n",
       "cap-diameter                \u001b[1;36m0\u001b[0m\n",
       "cap-shape                   \u001b[1;36m0\u001b[0m\n",
       "cap-surface             \u001b[1;36m14120\u001b[0m\n",
       "cap-color                   \u001b[1;36m0\u001b[0m\n",
       "does-bruise-or-bleed        \u001b[1;36m0\u001b[0m\n",
       "gill-attachment          \u001b[1;36m9884\u001b[0m\n",
       "gill-spacing            \u001b[1;36m25063\u001b[0m\n",
       "gill-color                  \u001b[1;36m0\u001b[0m\n",
       "stem-height                 \u001b[1;36m0\u001b[0m\n",
       "stem-width                  \u001b[1;36m0\u001b[0m\n",
       "stem-root               \u001b[1;36m51538\u001b[0m\n",
       "stem-surface            \u001b[1;36m38124\u001b[0m\n",
       "stem-color                  \u001b[1;36m0\u001b[0m\n",
       "veil-type               \u001b[1;36m57892\u001b[0m\n",
       "veil-color              \u001b[1;36m53656\u001b[0m\n",
       "has-ring                    \u001b[1;36m0\u001b[0m\n",
       "ring-type                \u001b[1;36m2471\u001b[0m\n",
       "spore-print-color       \u001b[1;36m54715\u001b[0m\n",
       "habitat                     \u001b[1;36m0\u001b[0m\n",
       "season                      \u001b[1;36m0\u001b[0m\n",
       "dtype: int64\n"
      ]
     },
     "metadata": {},
     "output_type": "display_data"
    }
   ],
   "source": [
    "# Verificar si hay valores faltantes en cada columna\n",
    "missing_values = df.isnull().sum()\n",
    "print(\"Missing values per column:\")\n",
    "print(missing_values)"
   ]
  },
  {
   "cell_type": "code",
   "execution_count": 175,
   "metadata": {},
   "outputs": [],
   "source": [
    "def detect_outliers_iqr(dataframe):\n",
    "    \"\"\"\n",
    "    Detecta outliers en todas las columnas numéricas de un DataFrame usando el método del rango intercuartílico (IQR).\n",
    "    \n",
    "    Parámetros:\n",
    "    - dataframe: DataFrame de pandas que contiene las variables numéricas.\n",
    "    \n",
    "    Retorna:\n",
    "    - Un DataFrame que contiene solo las filas que son consideradas outliers en alguna de las columnas numéricas.\n",
    "    \"\"\"\n",
    "    outliers_df = pd.DataFrame(columns=dataframe.columns)\n",
    "    \n",
    "    # Selecciona solo las columnas numéricas; en caso de que se haya ingresado un DataFrame con columnas categóricas\n",
    "    numeric_cols = dataframe.select_dtypes(include=['int64', 'float64'])\n",
    "    \n",
    "    for column in numeric_cols:\n",
    "        Q1 = dataframe[column].quantile(0.25)\n",
    "        Q3 = dataframe[column].quantile(0.75)\n",
    "        IQR = Q3 - Q1\n",
    "        lower_bound = Q1 - 1.5 * IQR\n",
    "        upper_bound = Q3 + 1.5 * IQR\n",
    "        \n",
    "        # Filtra los outliers\n",
    "        filter_outliers = (dataframe[column] < lower_bound) | (dataframe[column] > upper_bound)\n",
    "        outliers_in_column = dataframe[filter_outliers]\n",
    "        \n",
    "        # Agrega los outliers al DataFrame de outliers\n",
    "        outliers_df = pd.concat([outliers_df, outliers_in_column], axis=0).drop_duplicates().reset_index(drop=True)\n",
    "    \n",
    "    return outliers_df\n"
   ]
  },
  {
   "cell_type": "code",
   "execution_count": 176,
   "metadata": {},
   "outputs": [
    {
     "name": "stderr",
     "output_type": "stream",
     "text": [
      "C:\\Users\\ferna\\AppData\\Local\\Temp\\ipykernel_13364\\2658367427.py:28: FutureWarning: The behavior of DataFrame concatenation with empty or all-NA entries is deprecated. In a future version, this will no longer exclude empty or all-NA columns when determining the result dtypes. To retain the old behavior, exclude the relevant entries before the concat operation.\n",
      "  outliers_df = pd.concat([outliers_df, outliers_in_column], axis=0).drop_duplicates().reset_index(drop=True)\n"
     ]
    }
   ],
   "source": [
    "# %%capture --no-display\n",
    "# Detectando outliers en el DataFrame de variables numéricas\n",
    "outliers_df = detect_outliers_iqr(df)"
   ]
  },
  {
   "cell_type": "markdown",
   "metadata": {},
   "source": [
    "### Limpieza de Datos"
   ]
  },
  {
   "cell_type": "markdown",
   "metadata": {},
   "source": [
    "- Tratar los valores faltantes (imputación, eliminación de filas/columnas, etc.).\n",
    "- Identificar y manejar valores atípicos (outliers).\n",
    "- Manejar datos duplicados y/o inconsistentes."
   ]
  },
  {
   "cell_type": "markdown",
   "metadata": {},
   "source": [
    "#### Eliminación de outliers"
   ]
  },
  {
   "cell_type": "code",
   "execution_count": 177,
   "metadata": {},
   "outputs": [
    {
     "name": "stdout",
     "output_type": "stream",
     "text": [
      "<class 'pandas.core.frame.DataFrame'>\n",
      "RangeIndex: 55729 entries, 5340 to 61068\n",
      "Data columns (total 21 columns):\n",
      " #   Column                Non-Null Count  Dtype  \n",
      "---  ------                --------------  -----  \n",
      " 0   class                 55729 non-null  object \n",
      " 1   cap-diameter          55729 non-null  float64\n",
      " 2   cap-shape             55729 non-null  object \n",
      " 3   cap-surface           43419 non-null  object \n",
      " 4   cap-color             55729 non-null  object \n",
      " 5   does-bruise-or-bleed  55729 non-null  object \n",
      " 6   gill-attachment       47257 non-null  object \n",
      " 7   gill-spacing          33843 non-null  object \n",
      " 8   gill-color            55729 non-null  object \n",
      " 9   stem-height           55729 non-null  float64\n",
      " 10  stem-width            55729 non-null  float64\n",
      " 11  stem-root             8074 non-null   object \n",
      " 12  stem-surface          20474 non-null  object \n",
      " 13  stem-color            55729 non-null  object \n",
      " 14  veil-type             353 non-null    object \n",
      " 15  veil-color            4589 non-null   object \n",
      " 16  has-ring              55729 non-null  object \n",
      " 17  ring-type             53611 non-null  object \n",
      " 18  spore-print-color     6354 non-null   object \n",
      " 19  habitat               55729 non-null  object \n",
      " 20  season                55729 non-null  object \n",
      "dtypes: float64(3), object(18)\n",
      "memory usage: 8.9+ MB\n"
     ]
    }
   ],
   "source": [
    "# Eliminar filas con outliers del conjunto de datos original\n",
    "df_no_outliers = df.drop(outliers_df.index)\n",
    "df_no_outliers.info()"
   ]
  },
  {
   "cell_type": "markdown",
   "metadata": {},
   "source": [
    "#### Eliminación de Variables No Deseadas"
   ]
  },
  {
   "cell_type": "code",
   "execution_count": 178,
   "metadata": {},
   "outputs": [
    {
     "data": {
      "text/html": [
       "<div>\n",
       "<style scoped>\n",
       "    .dataframe tbody tr th:only-of-type {\n",
       "        vertical-align: middle;\n",
       "    }\n",
       "\n",
       "    .dataframe tbody tr th {\n",
       "        vertical-align: top;\n",
       "    }\n",
       "\n",
       "    .dataframe thead th {\n",
       "        text-align: right;\n",
       "    }\n",
       "</style>\n",
       "<table border=\"1\" class=\"dataframe\">\n",
       "  <thead>\n",
       "    <tr style=\"text-align: right;\">\n",
       "      <th></th>\n",
       "      <th>class</th>\n",
       "      <th>cap-diameter</th>\n",
       "      <th>cap-shape</th>\n",
       "      <th>cap-surface</th>\n",
       "      <th>cap-color</th>\n",
       "      <th>does-bruise-or-bleed</th>\n",
       "      <th>gill-attachment</th>\n",
       "      <th>gill-color</th>\n",
       "      <th>stem-height</th>\n",
       "      <th>stem-width</th>\n",
       "      <th>stem-color</th>\n",
       "      <th>has-ring</th>\n",
       "      <th>ring-type</th>\n",
       "      <th>habitat</th>\n",
       "      <th>season</th>\n",
       "    </tr>\n",
       "  </thead>\n",
       "  <tbody>\n",
       "    <tr>\n",
       "      <th>5340</th>\n",
       "      <td>e</td>\n",
       "      <td>9.58</td>\n",
       "      <td>f</td>\n",
       "      <td>NaN</td>\n",
       "      <td>g</td>\n",
       "      <td>f</td>\n",
       "      <td>s</td>\n",
       "      <td>g</td>\n",
       "      <td>7.46</td>\n",
       "      <td>21.69</td>\n",
       "      <td>u</td>\n",
       "      <td>f</td>\n",
       "      <td>f</td>\n",
       "      <td>g</td>\n",
       "      <td>w</td>\n",
       "    </tr>\n",
       "    <tr>\n",
       "      <th>5341</th>\n",
       "      <td>e</td>\n",
       "      <td>8.19</td>\n",
       "      <td>f</td>\n",
       "      <td>NaN</td>\n",
       "      <td>n</td>\n",
       "      <td>f</td>\n",
       "      <td>s</td>\n",
       "      <td>g</td>\n",
       "      <td>6.77</td>\n",
       "      <td>20.02</td>\n",
       "      <td>u</td>\n",
       "      <td>f</td>\n",
       "      <td>f</td>\n",
       "      <td>g</td>\n",
       "      <td>w</td>\n",
       "    </tr>\n",
       "    <tr>\n",
       "      <th>5342</th>\n",
       "      <td>e</td>\n",
       "      <td>9.04</td>\n",
       "      <td>f</td>\n",
       "      <td>NaN</td>\n",
       "      <td>g</td>\n",
       "      <td>f</td>\n",
       "      <td>s</td>\n",
       "      <td>g</td>\n",
       "      <td>7.00</td>\n",
       "      <td>21.65</td>\n",
       "      <td>u</td>\n",
       "      <td>f</td>\n",
       "      <td>f</td>\n",
       "      <td>g</td>\n",
       "      <td>w</td>\n",
       "    </tr>\n",
       "    <tr>\n",
       "      <th>5343</th>\n",
       "      <td>e</td>\n",
       "      <td>9.49</td>\n",
       "      <td>x</td>\n",
       "      <td>NaN</td>\n",
       "      <td>n</td>\n",
       "      <td>f</td>\n",
       "      <td>s</td>\n",
       "      <td>g</td>\n",
       "      <td>7.77</td>\n",
       "      <td>19.68</td>\n",
       "      <td>u</td>\n",
       "      <td>f</td>\n",
       "      <td>f</td>\n",
       "      <td>g</td>\n",
       "      <td>w</td>\n",
       "    </tr>\n",
       "    <tr>\n",
       "      <th>5344</th>\n",
       "      <td>e</td>\n",
       "      <td>10.01</td>\n",
       "      <td>x</td>\n",
       "      <td>NaN</td>\n",
       "      <td>n</td>\n",
       "      <td>f</td>\n",
       "      <td>s</td>\n",
       "      <td>g</td>\n",
       "      <td>7.62</td>\n",
       "      <td>21.06</td>\n",
       "      <td>u</td>\n",
       "      <td>f</td>\n",
       "      <td>f</td>\n",
       "      <td>g</td>\n",
       "      <td>a</td>\n",
       "    </tr>\n",
       "    <tr>\n",
       "      <th>5345</th>\n",
       "      <td>e</td>\n",
       "      <td>7.63</td>\n",
       "      <td>f</td>\n",
       "      <td>NaN</td>\n",
       "      <td>n</td>\n",
       "      <td>f</td>\n",
       "      <td>s</td>\n",
       "      <td>p</td>\n",
       "      <td>6.35</td>\n",
       "      <td>20.53</td>\n",
       "      <td>u</td>\n",
       "      <td>f</td>\n",
       "      <td>f</td>\n",
       "      <td>g</td>\n",
       "      <td>a</td>\n",
       "    </tr>\n",
       "    <tr>\n",
       "      <th>5346</th>\n",
       "      <td>e</td>\n",
       "      <td>7.80</td>\n",
       "      <td>f</td>\n",
       "      <td>NaN</td>\n",
       "      <td>n</td>\n",
       "      <td>f</td>\n",
       "      <td>s</td>\n",
       "      <td>p</td>\n",
       "      <td>5.52</td>\n",
       "      <td>18.09</td>\n",
       "      <td>u</td>\n",
       "      <td>f</td>\n",
       "      <td>f</td>\n",
       "      <td>d</td>\n",
       "      <td>a</td>\n",
       "    </tr>\n",
       "    <tr>\n",
       "      <th>5347</th>\n",
       "      <td>e</td>\n",
       "      <td>9.11</td>\n",
       "      <td>f</td>\n",
       "      <td>NaN</td>\n",
       "      <td>g</td>\n",
       "      <td>f</td>\n",
       "      <td>s</td>\n",
       "      <td>p</td>\n",
       "      <td>7.71</td>\n",
       "      <td>18.91</td>\n",
       "      <td>u</td>\n",
       "      <td>f</td>\n",
       "      <td>f</td>\n",
       "      <td>g</td>\n",
       "      <td>a</td>\n",
       "    </tr>\n",
       "    <tr>\n",
       "      <th>5348</th>\n",
       "      <td>e</td>\n",
       "      <td>6.72</td>\n",
       "      <td>f</td>\n",
       "      <td>NaN</td>\n",
       "      <td>n</td>\n",
       "      <td>f</td>\n",
       "      <td>s</td>\n",
       "      <td>p</td>\n",
       "      <td>6.90</td>\n",
       "      <td>19.54</td>\n",
       "      <td>u</td>\n",
       "      <td>f</td>\n",
       "      <td>f</td>\n",
       "      <td>g</td>\n",
       "      <td>a</td>\n",
       "    </tr>\n",
       "    <tr>\n",
       "      <th>5349</th>\n",
       "      <td>e</td>\n",
       "      <td>9.69</td>\n",
       "      <td>f</td>\n",
       "      <td>NaN</td>\n",
       "      <td>n</td>\n",
       "      <td>f</td>\n",
       "      <td>s</td>\n",
       "      <td>g</td>\n",
       "      <td>5.47</td>\n",
       "      <td>21.30</td>\n",
       "      <td>u</td>\n",
       "      <td>f</td>\n",
       "      <td>f</td>\n",
       "      <td>d</td>\n",
       "      <td>a</td>\n",
       "    </tr>\n",
       "  </tbody>\n",
       "</table>\n",
       "</div>"
      ],
      "text/plain": [
       "     class  cap-diameter cap-shape cap-surface cap-color does-bruise-or-bleed  \\\n",
       "5340     e          9.58         f         NaN         g                    f   \n",
       "5341     e          8.19         f         NaN         n                    f   \n",
       "5342     e          9.04         f         NaN         g                    f   \n",
       "5343     e          9.49         x         NaN         n                    f   \n",
       "5344     e         10.01         x         NaN         n                    f   \n",
       "5345     e          7.63         f         NaN         n                    f   \n",
       "5346     e          7.80         f         NaN         n                    f   \n",
       "5347     e          9.11         f         NaN         g                    f   \n",
       "5348     e          6.72         f         NaN         n                    f   \n",
       "5349     e          9.69         f         NaN         n                    f   \n",
       "\n",
       "     gill-attachment gill-color  stem-height  stem-width stem-color has-ring  \\\n",
       "5340               s          g         7.46       21.69          u        f   \n",
       "5341               s          g         6.77       20.02          u        f   \n",
       "5342               s          g         7.00       21.65          u        f   \n",
       "5343               s          g         7.77       19.68          u        f   \n",
       "5344               s          g         7.62       21.06          u        f   \n",
       "5345               s          p         6.35       20.53          u        f   \n",
       "5346               s          p         5.52       18.09          u        f   \n",
       "5347               s          p         7.71       18.91          u        f   \n",
       "5348               s          p         6.90       19.54          u        f   \n",
       "5349               s          g         5.47       21.30          u        f   \n",
       "\n",
       "     ring-type habitat season  \n",
       "5340         f       g      w  \n",
       "5341         f       g      w  \n",
       "5342         f       g      w  \n",
       "5343         f       g      w  \n",
       "5344         f       g      a  \n",
       "5345         f       g      a  \n",
       "5346         f       d      a  \n",
       "5347         f       g      a  \n",
       "5348         f       g      a  \n",
       "5349         f       d      a  "
      ]
     },
     "execution_count": 178,
     "metadata": {},
     "output_type": "execute_result"
    }
   ],
   "source": [
    "# Eliminar columnas de acuerdo con observaciones en el análisis exploratorio\n",
    "features_to_drop = ['cap-shape', 'does-bruise-or-bleed', 'gill-spacing', 'gill-color', 'stem-height', 'stem-color', 'ring-type', 'habitat', 'season']\n",
    "df_clean = df_no_outliers.drop(columns=features_to_drop)\n",
    "df_clean.head(10)"
   ]
  },
  {
   "cell_type": "markdown",
   "metadata": {},
   "source": [
    "### División de Datos"
   ]
  },
  {
   "cell_type": "markdown",
   "metadata": {},
   "source": [
    "#### Conjunto de Entrenamiento y Prueba"
   ]
  },
  {
   "cell_type": "code",
   "execution_count": 179,
   "metadata": {},
   "outputs": [
    {
     "data": {
      "text/html": [
       "<pre style=\"white-space:pre;overflow-x:auto;line-height:normal;font-family:Menlo,'DejaVu Sans Mono',consolas,'Courier New',monospace\">Tamaño del conjunto de entrenamiento:\n",
       "<span style=\"font-weight: bold\">(</span><span style=\"color: #008080; text-decoration-color: #008080; font-weight: bold\">39010</span>, <span style=\"color: #008080; text-decoration-color: #008080; font-weight: bold\">14</span><span style=\"font-weight: bold\">)</span>\n",
       "</pre>\n"
      ],
      "text/plain": [
       "Tamaño del conjunto de entrenamiento:\n",
       "\u001b[1m(\u001b[0m\u001b[1;36m39010\u001b[0m, \u001b[1;36m14\u001b[0m\u001b[1m)\u001b[0m\n"
      ]
     },
     "metadata": {},
     "output_type": "display_data"
    },
    {
     "data": {
      "text/html": [
       "<pre style=\"white-space:pre;overflow-x:auto;line-height:normal;font-family:Menlo,'DejaVu Sans Mono',consolas,'Courier New',monospace\">Tamaño del conjunto de validación:\n",
       "<span style=\"font-weight: bold\">(</span><span style=\"color: #008080; text-decoration-color: #008080; font-weight: bold\">8359</span>, <span style=\"color: #008080; text-decoration-color: #008080; font-weight: bold\">14</span><span style=\"font-weight: bold\">)</span>\n",
       "</pre>\n"
      ],
      "text/plain": [
       "Tamaño del conjunto de validación:\n",
       "\u001b[1m(\u001b[0m\u001b[1;36m8359\u001b[0m, \u001b[1;36m14\u001b[0m\u001b[1m)\u001b[0m\n"
      ]
     },
     "metadata": {},
     "output_type": "display_data"
    },
    {
     "data": {
      "text/html": [
       "<pre style=\"white-space:pre;overflow-x:auto;line-height:normal;font-family:Menlo,'DejaVu Sans Mono',consolas,'Courier New',monospace\">Tamaño del conjunto de prueba:\n",
       "<span style=\"font-weight: bold\">(</span><span style=\"color: #008080; text-decoration-color: #008080; font-weight: bold\">8360</span>, <span style=\"color: #008080; text-decoration-color: #008080; font-weight: bold\">14</span><span style=\"font-weight: bold\">)</span>\n",
       "</pre>\n"
      ],
      "text/plain": [
       "Tamaño del conjunto de prueba:\n",
       "\u001b[1m(\u001b[0m\u001b[1;36m8360\u001b[0m, \u001b[1;36m14\u001b[0m\u001b[1m)\u001b[0m\n"
      ]
     },
     "metadata": {},
     "output_type": "display_data"
    }
   ],
   "source": [
    "# División de datos en variables independientes (X) y dependientes (y)\n",
    "X = df_clean.drop('class', axis=1)  # Características o variables independientes\n",
    "y = df_clean['class']  # Variable objetivo o dependiente\n",
    "\n",
    "# División estratificada en conjunto de entrenamiento (70%), validación (15%) y prueba (15%)\n",
    "X_train, X_val_test, y_train, y_val_test = train_test_split(X, y, test_size=0.3, stratify=y, random_state=42)\n",
    "X_val, X_test, y_val, y_test = train_test_split(X_val_test, y_val_test, test_size=0.5, stratify=y_val_test, random_state=42)\n",
    "\n",
    "# Imprimir información sobre la división de datos\n",
    "print(\"Tamaño del conjunto de entrenamiento:\", X_train.shape)\n",
    "print(\"Tamaño del conjunto de validación:\", X_val.shape)\n",
    "print(\"Tamaño del conjunto de prueba:\", X_test.shape)"
   ]
  },
  {
   "cell_type": "markdown",
   "metadata": {},
   "source": [
    "#### Conjunto de Entrenamiento: Variables Numéricas y Categóricas"
   ]
  },
  {
   "cell_type": "code",
   "execution_count": 180,
   "metadata": {},
   "outputs": [],
   "source": [
    "# Identificar características numéricas y categóricas en el conjunto de entrenamiento\n",
    "numeric_features = X_train.select_dtypes(include=['int64', 'float64']).columns\n",
    "categorical_features = X_train.select_dtypes(include=['object']).columns"
   ]
  },
  {
   "cell_type": "markdown",
   "metadata": {},
   "source": [
    "### Transformación de Datos"
   ]
  },
  {
   "cell_type": "code",
   "execution_count": 181,
   "metadata": {},
   "outputs": [],
   "source": [
    "# Definir transformadores para variables numéricas y categóricas\n",
    "numeric_transformer = Pipeline(steps=[\n",
    "    ('imputer', SimpleImputer(strategy='median')),  # Imputación utilizando la mediana, debido a la distribución sesgada de los datos\n",
    "    ('standard_scaler', StandardScaler()),  # Estandarización\n",
    "    ('min_max_scaler', MinMaxScaler())  # Normalización\n",
    "])\n",
    "\n",
    "categorical_transformer = Pipeline(steps=[\n",
    "    ('imputer', SimpleImputer(strategy='most_frequent')),  # Imputación utilizando la moda\n",
    "    ('encoder', OneHotEncoder(handle_unknown='ignore'))  # Codificación utilizando OneHotEncoder, solo tenemos variables categóricas nominales\n",
    "    # ('selector', Add a selector estimator)\n",
    "    # ('dim_reducer', Add a dimensionality reduction estimator)\n",
    "])"
   ]
  },
  {
   "cell_type": "code",
   "execution_count": 182,
   "metadata": {},
   "outputs": [],
   "source": [
    "# Crear el preprocesador con ColumnTransformer\n",
    "preprocessor = ColumnTransformer(\n",
    "    transformers=[\n",
    "        ('numeric', numeric_transformer, numeric_features),\n",
    "        ('categorical', categorical_transformer, categorical_features)\n",
    "    ])\n"
   ]
  },
  {
   "cell_type": "code",
   "execution_count": 183,
   "metadata": {},
   "outputs": [],
   "source": [
    "# Especificar los modelos a entrenar y evaluar\n",
    "models = {\n",
    "    'Logistic Regression': LogisticRegression(),\n",
    "    'Decision Tree': DecisionTreeClassifier(),\n",
    "    'Random Forest': RandomForestClassifier(),\n",
    "    'Gradient Boosting': GradientBoostingClassifier(),\n",
    "    'MLP Classifier': MLPClassifier()\n",
    "}\n",
    "\n",
    "# Crear el pipeline final con el preprocesador y el modelo de regresión logística\n",
    "pipelines = {}\n",
    "for model_name, model in models.items():\n",
    "    pipeline = Pipeline([\n",
    "        ('preprocessor', preprocessor),\n",
    "        ('classifier', model)\n",
    "    ])\n",
    "    pipelines[model_name] = pipeline"
   ]
  },
  {
   "cell_type": "markdown",
   "metadata": {},
   "source": [
    "### Entrenamiento y Validación del Modelo"
   ]
  },
  {
   "cell_type": "code",
   "execution_count": 184,
   "metadata": {},
   "outputs": [
    {
     "data": {
      "text/plain": [
       "\"\\nparam_grids = {\\n    'Logistic Regression': {\\n        'classifier__C': [0.1, 1, 10],                          # Controls regularization strength (smaller C -> stronger regularization)\\n        'classifier__max_iter': [100, 200, 500],                # Maximum number of iterations for the solver, important in large datasets to allow data to converge\\n        'classifier__solver': ['liblinear', 'sag', 'saga'],     # Algorithm used for optimization; 'liblinear' is often good for smaller datasets; 'sag' or 'saga' can handle larger datasets better.\\n        'classifier__penalty': ['l1', 'l2']                     # Type of regularization penalty (l1 for sparser models, l2 for preventing overfitting)\\n    },\\n    'Decision Tree': {\\n        'classifier__max_depth': [3, 5, 7],                     # Maximum depth of the tree; deeper trees can model more complex relationships but are more prone to overfitting\\n        'classifier__min_samples_split': [2, 5, 10],            # Minimum number of samples required to split an internal node; higher values prevent overfitting\\n        'classifier__min_samples_leaf': [1, 2, 5],              # Minimum samples allowed in a leaf node; higher values prevent overfitting\\n        'classifier__criterion': ['gini', 'entropy']            # Function to measure the quality or impurity of a split; 'gini' for Gini impurity, 'entropy' for information gain\\n    },\\n    'Random Forest': {\\n        'classifier__n_estimators': [50, 100, 200],             # Number of trees in the forest; higher values reduce overfitting\\n        'classifier__max_depth': [3, 5, 7],                     # Maximum depth of each tree; deeper trees can model more complex relationships but are more prone to overfitting\\n        'classifier__min_samples_split': [2, 5, 10],            # Minimum number of samples required to split an internal node; higher values prevent overfitting\\n        'classifier__min_samples_leaf': [1, 2, 5],              # Minimum samples allowed in a leaf node; higher values prevent overfitting\\n        'classifier__max_features': ['auto', 'sqrt', 'log2']    # Number of features to consider when looking for the best split; 'auto' uses all features, 'sqrt' uses the square root of the number of features, 'log2' uses the base-2 logarithm of the number of features\\n    },\\n    'Gradient Boosting': {\\n        'classifier__learning_rate': [0.01, 0.1, 1],            # Step size shrinkage used to prevent overfitting; lower values are more robust but require more trees\\n        'classifier__n_estimators': [50, 100, 200],             # Number of boosting stages to be run; more trees reduce overfitting\\n        'classifier__max_depth': [3, 5, 7],                     # Maximum depth of each tree; deeper trees can model more complex relationships but are more prone to overfitting\\n        'classifier__subsample': [0.5, 0.8, 1.0]                # Fraction of samples used to fit each base learner; lower values prevent overfitting\\n    },\\n    'MLP Classifier': {\\n        'classifier__hidden_layer_sizes': [\\n            (50,), (100,), (50, 50), (50, 50, 50)],             # Number of neurons in each hidden layer; deeper architectures can model more complex relationships but are more prone to overfitting\\n        'classifier__activation': ['relu', 'tanh'],             # Activation function for the hidden layers; 'relu' is often used for deeper networks, 'tanh' can prevent vanishing gradients\\n        'classifier__solver': ['adam', 'lbfgs', 'sgd'],         # Algorithm used for optimization; 'adam' is often a good choice for large datasets\\n        'classifier__learning_rate': [\\n            'constant', 'adaptive', 'invscaling']               # Learning rate schedule for weight updates; 'constant' keeps the learning rate constant, 'adaptive' keeps it constant as long as training loss keeps decreasing, 'invscaling' gradually decreases the learning rate\\n    }\\n}\\n\""
      ]
     },
     "execution_count": 184,
     "metadata": {},
     "output_type": "execute_result"
    }
   ],
   "source": [
    "# Define la cuadrícula de hiperparámetros para cada modelo (for GridSearchCV)\n",
    "\"\"\"\n",
    "param_grids = {\n",
    "    'Logistic Regression': {\n",
    "        'classifier__C': [0.1, 1, 10],                          # Controls regularization strength (smaller C -> stronger regularization)\n",
    "        'classifier__max_iter': [100, 200, 500],                # Maximum number of iterations for the solver, important in large datasets to allow data to converge\n",
    "        'classifier__solver': ['liblinear', 'sag', 'saga'],     # Algorithm used for optimization; 'liblinear' is often good for smaller datasets; 'sag' or 'saga' can handle larger datasets better.\n",
    "        'classifier__penalty': ['l1', 'l2']                     # Type of regularization penalty (l1 for sparser models, l2 for preventing overfitting)\n",
    "    },\n",
    "    'Decision Tree': {\n",
    "        'classifier__max_depth': [3, 5, 7],                     # Maximum depth of the tree; deeper trees can model more complex relationships but are more prone to overfitting\n",
    "        'classifier__min_samples_split': [2, 5, 10],            # Minimum number of samples required to split an internal node; higher values prevent overfitting\n",
    "        'classifier__min_samples_leaf': [1, 2, 5],              # Minimum samples allowed in a leaf node; higher values prevent overfitting\n",
    "        'classifier__criterion': ['gini', 'entropy']            # Function to measure the quality or impurity of a split; 'gini' for Gini impurity, 'entropy' for information gain\n",
    "    },\n",
    "    'Random Forest': {\n",
    "        'classifier__n_estimators': [50, 100, 200],             # Number of trees in the forest; higher values reduce overfitting\n",
    "        'classifier__max_depth': [3, 5, 7],                     # Maximum depth of each tree; deeper trees can model more complex relationships but are more prone to overfitting\n",
    "        'classifier__min_samples_split': [2, 5, 10],            # Minimum number of samples required to split an internal node; higher values prevent overfitting\n",
    "        'classifier__min_samples_leaf': [1, 2, 5],              # Minimum samples allowed in a leaf node; higher values prevent overfitting\n",
    "        'classifier__max_features': ['auto', 'sqrt', 'log2']    # Number of features to consider when looking for the best split; 'auto' uses all features, 'sqrt' uses the square root of the number of features, 'log2' uses the base-2 logarithm of the number of features\n",
    "    },\n",
    "    'Gradient Boosting': {\n",
    "        'classifier__learning_rate': [0.01, 0.1, 1],            # Step size shrinkage used to prevent overfitting; lower values are more robust but require more trees\n",
    "        'classifier__n_estimators': [50, 100, 200],             # Number of boosting stages to be run; more trees reduce overfitting\n",
    "        'classifier__max_depth': [3, 5, 7],                     # Maximum depth of each tree; deeper trees can model more complex relationships but are more prone to overfitting\n",
    "        'classifier__subsample': [0.5, 0.8, 1.0]                # Fraction of samples used to fit each base learner; lower values prevent overfitting\n",
    "    },\n",
    "    'MLP Classifier': {\n",
    "        'classifier__hidden_layer_sizes': [\n",
    "            (50,), (100,), (50, 50), (50, 50, 50)],             # Number of neurons in each hidden layer; deeper architectures can model more complex relationships but are more prone to overfitting\n",
    "        'classifier__activation': ['relu', 'tanh'],             # Activation function for the hidden layers; 'relu' is often used for deeper networks, 'tanh' can prevent vanishing gradients\n",
    "        'classifier__solver': ['adam', 'lbfgs', 'sgd'],         # Algorithm used for optimization; 'adam' is often a good choice for large datasets\n",
    "        'classifier__learning_rate': [\n",
    "            'constant', 'adaptive', 'invscaling']               # Learning rate schedule for weight updates; 'constant' keeps the learning rate constant, 'adaptive' keeps it constant as long as training loss keeps decreasing, 'invscaling' gradually decreases the learning rate\n",
    "    }\n",
    "}\n",
    "\"\"\""
   ]
  },
  {
   "cell_type": "code",
   "execution_count": 185,
   "metadata": {},
   "outputs": [],
   "source": [
    "# Define la cuadrícula de hiperparámetros para cada modelo (for RandomizedSearchCV)\n",
    "param_distributions = {\n",
    "    'Logistic Regression': {\n",
    "        'classifier__C': uniform(loc=0.01, scale=9.99), \n",
    "        'classifier__max_iter': randint(100, 501),  \n",
    "        'classifier__solver': ['liblinear', 'saga'], \n",
    "        'classifier__penalty': ['l1', 'l2'] \n",
    "    },\n",
    "    'Decision Tree': {\n",
    "        'classifier__max_depth': randint(3, 8),  \n",
    "        'classifier__min_samples_split': randint(2, 11), \n",
    "        'classifier__min_samples_leaf': randint(1, 6), \n",
    "        'classifier__criterion': ['gini', 'entropy'] \n",
    "    },\n",
    "    'Random Forest': {\n",
    "        'classifier__n_estimators': randint(50, 201), \n",
    "        'classifier__max_depth': randint(3, 8), \n",
    "        'classifier__min_samples_split': randint(2, 11),\n",
    "        'classifier__min_samples_leaf': randint(1, 6), \n",
    "        'classifier__max_features': ['sqrt', 'log2']\n",
    "    },\n",
    "    'Gradient Boosting': {\n",
    "        'classifier__learning_rate': uniform(loc=0.01, scale=0.99), \n",
    "        'classifier__n_estimators': randint(50, 201), \n",
    "        'classifier__max_depth': randint(3, 8),\n",
    "        'classifier__subsample': uniform(loc=0.4, scale=0.6)  \n",
    "    },\n",
    "    'MLP Classifier': {\n",
    "        'classifier__hidden_layer_sizes': [\n",
    "            (50,),\n",
    "            (100,),\n",
    "            (50, 50),\n",
    "            (50, 50, 50)            \n",
    "        ], \n",
    "        'classifier__activation': ['relu', 'tanh'], \n",
    "        'classifier__solver': ['adam', 'lbfgs', 'sgd'],  \n",
    "        'classifier__learning_rate': ['constant', 'adaptive', 'invscaling'] \n",
    "    }\n",
    "}"
   ]
  },
  {
   "cell_type": "code",
   "execution_count": 186,
   "metadata": {},
   "outputs": [
    {
     "data": {
      "text/plain": [
       "\"\\nparam_distributions = {\\n    'Logistic Regression': {\\n        'classifier__C': uniform(loc=0.01, scale=9.99),  \\n        'classifier__solver': ['liblinear', 'saga'], \\n        'classifier__penalty': ['l2'] \\n    },\\n    'Decision Tree': {\\n        'classifier__max_depth': randint(3, 8),  \\n        'classifier__min_samples_split': randint(2, 11), \\n        'classifier__min_samples_leaf': randint(1, 6), \\n        'classifier__criterion': ['gini', 'entropy'] \\n    },\\n    'Random Forest': {\\n        'classifier__n_estimators': randint(50, 201), \\n        'classifier__max_depth': randint(3, 8), \\n        'classifier__max_features': ['sqrt', 'log2']\\n    },\\n    'Gradient Boosting': {\\n        'classifier__learning_rate': uniform(loc=0.01, scale=0.99),\\n        'classifier__subsample': uniform(loc=0.4, scale=0.6)  \\n    },\\n    'MLP Classifier': {\\n        'classifier__hidden_layer_sizes': [\\n            (50,),\\n            (50, 50, 50)            \\n        ], \\n        'classifier__activation': ['relu', 'tanh'], \\n        'classifier__solver': ['adam', 'lbfgs', 'sgd']\\n    }\\n}\\n\""
      ]
     },
     "execution_count": 186,
     "metadata": {},
     "output_type": "execute_result"
    }
   ],
   "source": [
    "# Define la cuadrícula de hiperparámetros para cada modelo (for RandomizedSearchCV; short version)\n",
    "\"\"\"\n",
    "param_distributions = {\n",
    "    'Logistic Regression': {\n",
    "        'classifier__C': uniform(loc=0.01, scale=9.99),  \n",
    "        'classifier__solver': ['liblinear', 'saga'], \n",
    "        'classifier__penalty': ['l2'] \n",
    "    },\n",
    "    'Decision Tree': {\n",
    "        'classifier__max_depth': randint(3, 8),  \n",
    "        'classifier__min_samples_split': randint(2, 11), \n",
    "        'classifier__min_samples_leaf': randint(1, 6), \n",
    "        'classifier__criterion': ['gini', 'entropy'] \n",
    "    },\n",
    "    'Random Forest': {\n",
    "        'classifier__n_estimators': randint(50, 201), \n",
    "        'classifier__max_depth': randint(3, 8), \n",
    "        'classifier__max_features': ['sqrt', 'log2']\n",
    "    },\n",
    "    'Gradient Boosting': {\n",
    "        'classifier__learning_rate': uniform(loc=0.01, scale=0.99),\n",
    "        'classifier__subsample': uniform(loc=0.4, scale=0.6)  \n",
    "    },\n",
    "    'MLP Classifier': {\n",
    "        'classifier__hidden_layer_sizes': [\n",
    "            (50,),\n",
    "            (50, 50, 50)            \n",
    "        ], \n",
    "        'classifier__activation': ['relu', 'tanh'], \n",
    "        'classifier__solver': ['adam', 'lbfgs', 'sgd']\n",
    "    }\n",
    "}\n",
    "\"\"\""
   ]
  },
  {
   "cell_type": "code",
   "execution_count": 187,
   "metadata": {},
   "outputs": [],
   "source": [
    "# Update the param_grids dictionary with the transformed feature names (when using GridSearchCV)\n",
    "\"\"\"\n",
    "for model_name, grid in param_grids.items():\n",
    "    updated_grid = {}\n",
    "    for param, values in grid.items():\n",
    "        if param.startswith('classifier__'):\n",
    "            updated_grid[param] = values\n",
    "    param_grids[model_name] = updated_grid\n",
    "\"\"\"\n",
    "\n",
    "# Update the param_distributions dictionary with the transformed feature names (when using RandomizerSearchCV)\n",
    "for model_name, pipeline in pipelines.items():\n",
    "    updated_dist = {}\n",
    "    for step, params in pipeline.steps:\n",
    "        if step == 'classifier':  # Detectar el paso del clasificador\n",
    "            for param, values in param_distributions[model_name].items():\n",
    "                updated_dist[param] = values\n",
    "    param_distributions[model_name] = updated_dist\n"
   ]
  },
  {
   "cell_type": "code",
   "execution_count": 188,
   "metadata": {},
   "outputs": [
    {
     "data": {
      "text/plain": [
       "StratifiedKFold(n_splits=5, random_state=42, shuffle=True)"
      ]
     },
     "execution_count": 188,
     "metadata": {},
     "output_type": "execute_result"
    }
   ],
   "source": [
    "# Crea un objeto de tipo StratifiedKFold para la validación cruzada\n",
    "cv = StratifiedKFold(n_splits=5, shuffle=True, random_state=42) # Al terminar de experimentar, aumentar n_splits a 10 para una validación cruzada más robusta\n",
    "cv"
   ]
  },
  {
   "cell_type": "code",
   "execution_count": 189,
   "metadata": {},
   "outputs": [
    {
     "data": {
      "text/plain": [
       "{'precision': make_scorer(precision_score, response_method='predict', pos_label=1),\n",
       " 'recall': make_scorer(recall_score, response_method='predict', pos_label=1),\n",
       " 'f1': make_scorer(f1_score, response_method='predict', pos_label=1),\n",
       " 'auc_roc': make_scorer(roc_auc_score, response_method='predict')}"
      ]
     },
     "execution_count": 189,
     "metadata": {},
     "output_type": "execute_result"
    }
   ],
   "source": [
    "# Define los scorers para cada métrica\n",
    "scoring = {\n",
    "    'precision': make_scorer(precision_score, pos_label=1),\n",
    "    'recall': make_scorer(recall_score, pos_label=1),\n",
    "    'f1': make_scorer(f1_score, pos_label=1),\n",
    "    'auc_roc': make_scorer(roc_auc_score, response_method='predict')\n",
    "}\n",
    "scoring"
   ]
  },
  {
   "cell_type": "code",
   "execution_count": 190,
   "metadata": {},
   "outputs": [],
   "source": [
    "# Encode the target variable\n",
    "label_encoder = LabelEncoder()\n",
    "y_train_encoded = label_encoder.fit_transform(y_train)\n",
    "y_val_encoded = label_encoder.transform(y_val)"
   ]
  },
  {
   "cell_type": "code",
   "execution_count": 191,
   "metadata": {},
   "outputs": [
    {
     "name": "stderr",
     "output_type": "stream",
     "text": [
      "c:\\Users\\ferna\\.vscode\\GitHub\\a01110946\\MushroomDataset\\env\\env_mlops\\Lib\\site-packages\\_distutils_hack\\__init__.py:11: UserWarning: Distutils was imported before Setuptools, but importing Setuptools also replaces the `distutils` module in `sys.modules`. This may lead to undesirable behaviors or errors. To avoid these issues, avoid using distutils directly, ensure that setuptools is installed in the traditional way (e.g. not an editable install), and/or make sure that setuptools is always imported before distutils.\n",
      "  warnings.warn(\n",
      "c:\\Users\\ferna\\.vscode\\GitHub\\a01110946\\MushroomDataset\\env\\env_mlops\\Lib\\site-packages\\_distutils_hack\\__init__.py:26: UserWarning: Setuptools is replacing distutils.\n",
      "  warnings.warn(\"Setuptools is replacing distutils.\")\n"
     ]
    },
    {
     "data": {
      "text/html": [
       "<pre style=\"white-space:pre;overflow-x:auto;line-height:normal;font-family:Menlo,'DejaVu Sans Mono',consolas,'Courier New',monospace\">Model: Logistic Regression\n",
       "</pre>\n"
      ],
      "text/plain": [
       "Model: Logistic Regression\n"
      ]
     },
     "metadata": {},
     "output_type": "display_data"
    },
    {
     "data": {
      "text/html": [
       "<pre style=\"white-space:pre;overflow-x:auto;line-height:normal;font-family:Menlo,'DejaVu Sans Mono',consolas,'Courier New',monospace\">Best parameters: <span style=\"font-weight: bold\">{</span><span style=\"color: #008000; text-decoration-color: #008000\">'classifier__C'</span>: <span style=\"color: #008080; text-decoration-color: #008080; font-weight: bold\">0.21563909801506645</span>, <span style=\"color: #008000; text-decoration-color: #008000\">'classifier__max_iter'</span>: <span style=\"color: #008080; text-decoration-color: #008080; font-weight: bold\">357</span>, <span style=\"color: #008000; text-decoration-color: #008000\">'classifier__penalty'</span>: <span style=\"color: #008000; text-decoration-color: #008000\">'l2'</span>, \n",
       "<span style=\"color: #008000; text-decoration-color: #008000\">'classifier__solver'</span>: <span style=\"color: #008000; text-decoration-color: #008000\">'saga'</span><span style=\"font-weight: bold\">}</span>\n",
       "</pre>\n"
      ],
      "text/plain": [
       "Best parameters: \u001b[1m{\u001b[0m\u001b[32m'classifier__C'\u001b[0m: \u001b[1;36m0.21563909801506645\u001b[0m, \u001b[32m'classifier__max_iter'\u001b[0m: \u001b[1;36m357\u001b[0m, \u001b[32m'classifier__penalty'\u001b[0m: \u001b[32m'l2'\u001b[0m, \n",
       "\u001b[32m'classifier__solver'\u001b[0m: \u001b[32m'saga'\u001b[0m\u001b[1m}\u001b[0m\n"
      ]
     },
     "metadata": {},
     "output_type": "display_data"
    },
    {
     "data": {
      "text/html": [
       "<pre style=\"white-space:pre;overflow-x:auto;line-height:normal;font-family:Menlo,'DejaVu Sans Mono',consolas,'Courier New',monospace\">Precision: <span style=\"color: #008080; text-decoration-color: #008080; font-weight: bold\">0.8325165139569571</span>\n",
       "</pre>\n"
      ],
      "text/plain": [
       "Precision: \u001b[1;36m0.8325165139569571\u001b[0m\n"
      ]
     },
     "metadata": {},
     "output_type": "display_data"
    },
    {
     "data": {
      "text/html": [
       "<pre style=\"white-space:pre;overflow-x:auto;line-height:normal;font-family:Menlo,'DejaVu Sans Mono',consolas,'Courier New',monospace\">Recall: <span style=\"color: #008080; text-decoration-color: #008080; font-weight: bold\">0.8291595925297114</span>\n",
       "</pre>\n"
      ],
      "text/plain": [
       "Recall: \u001b[1;36m0.8291595925297114\u001b[0m\n"
      ]
     },
     "metadata": {},
     "output_type": "display_data"
    },
    {
     "data": {
      "text/html": [
       "<pre style=\"white-space:pre;overflow-x:auto;line-height:normal;font-family:Menlo,'DejaVu Sans Mono',consolas,'Courier New',monospace\">F1-score: <span style=\"color: #008080; text-decoration-color: #008080; font-weight: bold\">0.8308346624136098</span>\n",
       "</pre>\n"
      ],
      "text/plain": [
       "F1-score: \u001b[1;36m0.8308346624136098\u001b[0m\n"
      ]
     },
     "metadata": {},
     "output_type": "display_data"
    },
    {
     "data": {
      "text/html": [
       "<pre style=\"white-space:pre;overflow-x:auto;line-height:normal;font-family:Menlo,'DejaVu Sans Mono',consolas,'Courier New',monospace\">AUC-ROC: <span style=\"color: #008080; text-decoration-color: #008080; font-weight: bold\">0.8802648687224841</span>\n",
       "</pre>\n"
      ],
      "text/plain": [
       "AUC-ROC: \u001b[1;36m0.8802648687224841\u001b[0m\n"
      ]
     },
     "metadata": {},
     "output_type": "display_data"
    },
    {
     "data": {
      "text/html": [
       "<pre style=\"white-space:pre;overflow-x:auto;line-height:normal;font-family:Menlo,'DejaVu Sans Mono',consolas,'Courier New',monospace\">Training time: <span style=\"color: #008080; text-decoration-color: #008080; font-weight: bold\">399.50</span> seconds\n",
       "</pre>\n"
      ],
      "text/plain": [
       "Training time: \u001b[1;36m399.50\u001b[0m seconds\n"
      ]
     },
     "metadata": {},
     "output_type": "display_data"
    },
    {
     "data": {
      "text/html": [
       "<pre style=\"white-space:pre;overflow-x:auto;line-height:normal;font-family:Menlo,'DejaVu Sans Mono',consolas,'Courier New',monospace\">Confusion Matrix:\n",
       "</pre>\n"
      ],
      "text/plain": [
       "Confusion Matrix:\n"
      ]
     },
     "metadata": {},
     "output_type": "display_data"
    },
    {
     "data": {
      "text/html": [
       "<pre style=\"white-space:pre;overflow-x:auto;line-height:normal;font-family:Menlo,'DejaVu Sans Mono',consolas,'Courier New',monospace\"><span style=\"font-weight: bold\">[[</span><span style=\"color: #008080; text-decoration-color: #008080; font-weight: bold\">2861</span>  <span style=\"color: #008080; text-decoration-color: #008080; font-weight: bold\">786</span><span style=\"font-weight: bold\">]</span>\n",
       " <span style=\"font-weight: bold\">[</span> <span style=\"color: #008080; text-decoration-color: #008080; font-weight: bold\">805</span> <span style=\"color: #008080; text-decoration-color: #008080; font-weight: bold\">3907</span><span style=\"font-weight: bold\">]]</span>\n",
       "</pre>\n"
      ],
      "text/plain": [
       "\u001b[1m[\u001b[0m\u001b[1m[\u001b[0m\u001b[1;36m2861\u001b[0m  \u001b[1;36m786\u001b[0m\u001b[1m]\u001b[0m\n",
       " \u001b[1m[\u001b[0m \u001b[1;36m805\u001b[0m \u001b[1;36m3907\u001b[0m\u001b[1m]\u001b[0m\u001b[1m]\u001b[0m\n"
      ]
     },
     "metadata": {},
     "output_type": "display_data"
    },
    {
     "data": {
      "text/html": [
       "<pre style=\"white-space:pre;overflow-x:auto;line-height:normal;font-family:Menlo,'DejaVu Sans Mono',consolas,'Courier New',monospace\">\n",
       "</pre>\n"
      ],
      "text/plain": [
       "\n"
      ]
     },
     "metadata": {},
     "output_type": "display_data"
    },
    {
     "name": "stderr",
     "output_type": "stream",
     "text": [
      "c:\\Users\\ferna\\.vscode\\GitHub\\a01110946\\MushroomDataset\\env\\env_mlops\\Lib\\site-packages\\_distutils_hack\\__init__.py:11: UserWarning: Distutils was imported before Setuptools, but importing Setuptools also replaces the `distutils` module in `sys.modules`. This may lead to undesirable behaviors or errors. To avoid these issues, avoid using distutils directly, ensure that setuptools is installed in the traditional way (e.g. not an editable install), and/or make sure that setuptools is always imported before distutils.\n",
      "  warnings.warn(\n",
      "c:\\Users\\ferna\\.vscode\\GitHub\\a01110946\\MushroomDataset\\env\\env_mlops\\Lib\\site-packages\\_distutils_hack\\__init__.py:26: UserWarning: Setuptools is replacing distutils.\n",
      "  warnings.warn(\"Setuptools is replacing distutils.\")\n"
     ]
    },
    {
     "data": {
      "text/html": [
       "<pre style=\"white-space:pre;overflow-x:auto;line-height:normal;font-family:Menlo,'DejaVu Sans Mono',consolas,'Courier New',monospace\">Model: Decision Tree\n",
       "</pre>\n"
      ],
      "text/plain": [
       "Model: Decision Tree\n"
      ]
     },
     "metadata": {},
     "output_type": "display_data"
    },
    {
     "data": {
      "text/html": [
       "<pre style=\"white-space:pre;overflow-x:auto;line-height:normal;font-family:Menlo,'DejaVu Sans Mono',consolas,'Courier New',monospace\">Best parameters: <span style=\"font-weight: bold\">{</span><span style=\"color: #008000; text-decoration-color: #008000\">'classifier__criterion'</span>: <span style=\"color: #008000; text-decoration-color: #008000\">'gini'</span>, <span style=\"color: #008000; text-decoration-color: #008000\">'classifier__max_depth'</span>: <span style=\"color: #008080; text-decoration-color: #008080; font-weight: bold\">7</span>, <span style=\"color: #008000; text-decoration-color: #008000\">'classifier__min_samples_leaf'</span>: <span style=\"color: #008080; text-decoration-color: #008080; font-weight: bold\">1</span>, \n",
       "<span style=\"color: #008000; text-decoration-color: #008000\">'classifier__min_samples_split'</span>: <span style=\"color: #008080; text-decoration-color: #008080; font-weight: bold\">2</span><span style=\"font-weight: bold\">}</span>\n",
       "</pre>\n"
      ],
      "text/plain": [
       "Best parameters: \u001b[1m{\u001b[0m\u001b[32m'classifier__criterion'\u001b[0m: \u001b[32m'gini'\u001b[0m, \u001b[32m'classifier__max_depth'\u001b[0m: \u001b[1;36m7\u001b[0m, \u001b[32m'classifier__min_samples_leaf'\u001b[0m: \u001b[1;36m1\u001b[0m, \n",
       "\u001b[32m'classifier__min_samples_split'\u001b[0m: \u001b[1;36m2\u001b[0m\u001b[1m}\u001b[0m\n"
      ]
     },
     "metadata": {},
     "output_type": "display_data"
    },
    {
     "data": {
      "text/html": [
       "<pre style=\"white-space:pre;overflow-x:auto;line-height:normal;font-family:Menlo,'DejaVu Sans Mono',consolas,'Courier New',monospace\">Precision: <span style=\"color: #008080; text-decoration-color: #008080; font-weight: bold\">0.8911883934286324</span>\n",
       "</pre>\n"
      ],
      "text/plain": [
       "Precision: \u001b[1;36m0.8911883934286324\u001b[0m\n"
      ]
     },
     "metadata": {},
     "output_type": "display_data"
    },
    {
     "data": {
      "text/html": [
       "<pre style=\"white-space:pre;overflow-x:auto;line-height:normal;font-family:Menlo,'DejaVu Sans Mono',consolas,'Courier New',monospace\">Recall: <span style=\"color: #008080; text-decoration-color: #008080; font-weight: bold\">0.8864601018675722</span>\n",
       "</pre>\n"
      ],
      "text/plain": [
       "Recall: \u001b[1;36m0.8864601018675722\u001b[0m\n"
      ]
     },
     "metadata": {},
     "output_type": "display_data"
    },
    {
     "data": {
      "text/html": [
       "<pre style=\"white-space:pre;overflow-x:auto;line-height:normal;font-family:Menlo,'DejaVu Sans Mono',consolas,'Courier New',monospace\">F1-score: <span style=\"color: #008080; text-decoration-color: #008080; font-weight: bold\">0.8888179593573784</span>\n",
       "</pre>\n"
      ],
      "text/plain": [
       "F1-score: \u001b[1;36m0.8888179593573784\u001b[0m\n"
      ]
     },
     "metadata": {},
     "output_type": "display_data"
    },
    {
     "data": {
      "text/html": [
       "<pre style=\"white-space:pre;overflow-x:auto;line-height:normal;font-family:Menlo,'DejaVu Sans Mono',consolas,'Courier New',monospace\">AUC-ROC: <span style=\"color: #008080; text-decoration-color: #008080; font-weight: bold\">0.9384651047003305</span>\n",
       "</pre>\n"
      ],
      "text/plain": [
       "AUC-ROC: \u001b[1;36m0.9384651047003305\u001b[0m\n"
      ]
     },
     "metadata": {},
     "output_type": "display_data"
    },
    {
     "data": {
      "text/html": [
       "<pre style=\"white-space:pre;overflow-x:auto;line-height:normal;font-family:Menlo,'DejaVu Sans Mono',consolas,'Courier New',monospace\">Training time: <span style=\"color: #008080; text-decoration-color: #008080; font-weight: bold\">42.35</span> seconds\n",
       "</pre>\n"
      ],
      "text/plain": [
       "Training time: \u001b[1;36m42.35\u001b[0m seconds\n"
      ]
     },
     "metadata": {},
     "output_type": "display_data"
    },
    {
     "data": {
      "text/html": [
       "<pre style=\"white-space:pre;overflow-x:auto;line-height:normal;font-family:Menlo,'DejaVu Sans Mono',consolas,'Courier New',monospace\">Confusion Matrix:\n",
       "</pre>\n"
      ],
      "text/plain": [
       "Confusion Matrix:\n"
      ]
     },
     "metadata": {},
     "output_type": "display_data"
    },
    {
     "data": {
      "text/html": [
       "<pre style=\"white-space:pre;overflow-x:auto;line-height:normal;font-family:Menlo,'DejaVu Sans Mono',consolas,'Courier New',monospace\"><span style=\"font-weight: bold\">[[</span><span style=\"color: #008080; text-decoration-color: #008080; font-weight: bold\">3137</span>  <span style=\"color: #008080; text-decoration-color: #008080; font-weight: bold\">510</span><span style=\"font-weight: bold\">]</span>\n",
       " <span style=\"font-weight: bold\">[</span> <span style=\"color: #008080; text-decoration-color: #008080; font-weight: bold\">535</span> <span style=\"color: #008080; text-decoration-color: #008080; font-weight: bold\">4177</span><span style=\"font-weight: bold\">]]</span>\n",
       "</pre>\n"
      ],
      "text/plain": [
       "\u001b[1m[\u001b[0m\u001b[1m[\u001b[0m\u001b[1;36m3137\u001b[0m  \u001b[1;36m510\u001b[0m\u001b[1m]\u001b[0m\n",
       " \u001b[1m[\u001b[0m \u001b[1;36m535\u001b[0m \u001b[1;36m4177\u001b[0m\u001b[1m]\u001b[0m\u001b[1m]\u001b[0m\n"
      ]
     },
     "metadata": {},
     "output_type": "display_data"
    },
    {
     "data": {
      "text/html": [
       "<pre style=\"white-space:pre;overflow-x:auto;line-height:normal;font-family:Menlo,'DejaVu Sans Mono',consolas,'Courier New',monospace\">\n",
       "</pre>\n"
      ],
      "text/plain": [
       "\n"
      ]
     },
     "metadata": {},
     "output_type": "display_data"
    },
    {
     "name": "stderr",
     "output_type": "stream",
     "text": [
      "c:\\Users\\ferna\\.vscode\\GitHub\\a01110946\\MushroomDataset\\env\\env_mlops\\Lib\\site-packages\\_distutils_hack\\__init__.py:11: UserWarning: Distutils was imported before Setuptools, but importing Setuptools also replaces the `distutils` module in `sys.modules`. This may lead to undesirable behaviors or errors. To avoid these issues, avoid using distutils directly, ensure that setuptools is installed in the traditional way (e.g. not an editable install), and/or make sure that setuptools is always imported before distutils.\n",
      "  warnings.warn(\n",
      "c:\\Users\\ferna\\.vscode\\GitHub\\a01110946\\MushroomDataset\\env\\env_mlops\\Lib\\site-packages\\_distutils_hack\\__init__.py:26: UserWarning: Setuptools is replacing distutils.\n",
      "  warnings.warn(\"Setuptools is replacing distutils.\")\n"
     ]
    },
    {
     "data": {
      "text/html": [
       "<pre style=\"white-space:pre;overflow-x:auto;line-height:normal;font-family:Menlo,'DejaVu Sans Mono',consolas,'Courier New',monospace\">Model: Random Forest\n",
       "</pre>\n"
      ],
      "text/plain": [
       "Model: Random Forest\n"
      ]
     },
     "metadata": {},
     "output_type": "display_data"
    },
    {
     "data": {
      "text/html": [
       "<pre style=\"white-space:pre;overflow-x:auto;line-height:normal;font-family:Menlo,'DejaVu Sans Mono',consolas,'Courier New',monospace\">Best parameters: <span style=\"font-weight: bold\">{</span><span style=\"color: #008000; text-decoration-color: #008000\">'classifier__max_depth'</span>: <span style=\"color: #008080; text-decoration-color: #008080; font-weight: bold\">7</span>, <span style=\"color: #008000; text-decoration-color: #008000\">'classifier__max_features'</span>: <span style=\"color: #008000; text-decoration-color: #008000\">'sqrt'</span>, <span style=\"color: #008000; text-decoration-color: #008000\">'classifier__min_samples_leaf'</span>: \n",
       "<span style=\"color: #008080; text-decoration-color: #008080; font-weight: bold\">3</span>, <span style=\"color: #008000; text-decoration-color: #008000\">'classifier__min_samples_split'</span>: <span style=\"color: #008080; text-decoration-color: #008080; font-weight: bold\">3</span>, <span style=\"color: #008000; text-decoration-color: #008000\">'classifier__n_estimators'</span>: <span style=\"color: #008080; text-decoration-color: #008080; font-weight: bold\">70</span><span style=\"font-weight: bold\">}</span>\n",
       "</pre>\n"
      ],
      "text/plain": [
       "Best parameters: \u001b[1m{\u001b[0m\u001b[32m'classifier__max_depth'\u001b[0m: \u001b[1;36m7\u001b[0m, \u001b[32m'classifier__max_features'\u001b[0m: \u001b[32m'sqrt'\u001b[0m, \u001b[32m'classifier__min_samples_leaf'\u001b[0m: \n",
       "\u001b[1;36m3\u001b[0m, \u001b[32m'classifier__min_samples_split'\u001b[0m: \u001b[1;36m3\u001b[0m, \u001b[32m'classifier__n_estimators'\u001b[0m: \u001b[1;36m70\u001b[0m\u001b[1m}\u001b[0m\n"
      ]
     },
     "metadata": {},
     "output_type": "display_data"
    },
    {
     "data": {
      "text/html": [
       "<pre style=\"white-space:pre;overflow-x:auto;line-height:normal;font-family:Menlo,'DejaVu Sans Mono',consolas,'Courier New',monospace\">Precision: <span style=\"color: #008080; text-decoration-color: #008080; font-weight: bold\">0.8921784356871374</span>\n",
       "</pre>\n"
      ],
      "text/plain": [
       "Precision: \u001b[1;36m0.8921784356871374\u001b[0m\n"
      ]
     },
     "metadata": {},
     "output_type": "display_data"
    },
    {
     "data": {
      "text/html": [
       "<pre style=\"white-space:pre;overflow-x:auto;line-height:normal;font-family:Menlo,'DejaVu Sans Mono',consolas,'Courier New',monospace\">Recall: <span style=\"color: #008080; text-decoration-color: #008080; font-weight: bold\">0.9465195246179966</span>\n",
       "</pre>\n"
      ],
      "text/plain": [
       "Recall: \u001b[1;36m0.9465195246179966\u001b[0m\n"
      ]
     },
     "metadata": {},
     "output_type": "display_data"
    },
    {
     "data": {
      "text/html": [
       "<pre style=\"white-space:pre;overflow-x:auto;line-height:normal;font-family:Menlo,'DejaVu Sans Mono',consolas,'Courier New',monospace\">F1-score: <span style=\"color: #008080; text-decoration-color: #008080; font-weight: bold\">0.9185459787869427</span>\n",
       "</pre>\n"
      ],
      "text/plain": [
       "F1-score: \u001b[1;36m0.9185459787869427\u001b[0m\n"
      ]
     },
     "metadata": {},
     "output_type": "display_data"
    },
    {
     "data": {
      "text/html": [
       "<pre style=\"white-space:pre;overflow-x:auto;line-height:normal;font-family:Menlo,'DejaVu Sans Mono',consolas,'Courier New',monospace\">AUC-ROC: <span style=\"color: #008080; text-decoration-color: #008080; font-weight: bold\">0.9730084917575346</span>\n",
       "</pre>\n"
      ],
      "text/plain": [
       "AUC-ROC: \u001b[1;36m0.9730084917575346\u001b[0m\n"
      ]
     },
     "metadata": {},
     "output_type": "display_data"
    },
    {
     "data": {
      "text/html": [
       "<pre style=\"white-space:pre;overflow-x:auto;line-height:normal;font-family:Menlo,'DejaVu Sans Mono',consolas,'Courier New',monospace\">Training time: <span style=\"color: #008080; text-decoration-color: #008080; font-weight: bold\">230.11</span> seconds\n",
       "</pre>\n"
      ],
      "text/plain": [
       "Training time: \u001b[1;36m230.11\u001b[0m seconds\n"
      ]
     },
     "metadata": {},
     "output_type": "display_data"
    },
    {
     "data": {
      "text/html": [
       "<pre style=\"white-space:pre;overflow-x:auto;line-height:normal;font-family:Menlo,'DejaVu Sans Mono',consolas,'Courier New',monospace\">Confusion Matrix:\n",
       "</pre>\n"
      ],
      "text/plain": [
       "Confusion Matrix:\n"
      ]
     },
     "metadata": {},
     "output_type": "display_data"
    },
    {
     "data": {
      "text/html": [
       "<pre style=\"white-space:pre;overflow-x:auto;line-height:normal;font-family:Menlo,'DejaVu Sans Mono',consolas,'Courier New',monospace\"><span style=\"font-weight: bold\">[[</span><span style=\"color: #008080; text-decoration-color: #008080; font-weight: bold\">3108</span>  <span style=\"color: #008080; text-decoration-color: #008080; font-weight: bold\">539</span><span style=\"font-weight: bold\">]</span>\n",
       " <span style=\"font-weight: bold\">[</span> <span style=\"color: #008080; text-decoration-color: #008080; font-weight: bold\">252</span> <span style=\"color: #008080; text-decoration-color: #008080; font-weight: bold\">4460</span><span style=\"font-weight: bold\">]]</span>\n",
       "</pre>\n"
      ],
      "text/plain": [
       "\u001b[1m[\u001b[0m\u001b[1m[\u001b[0m\u001b[1;36m3108\u001b[0m  \u001b[1;36m539\u001b[0m\u001b[1m]\u001b[0m\n",
       " \u001b[1m[\u001b[0m \u001b[1;36m252\u001b[0m \u001b[1;36m4460\u001b[0m\u001b[1m]\u001b[0m\u001b[1m]\u001b[0m\n"
      ]
     },
     "metadata": {},
     "output_type": "display_data"
    },
    {
     "data": {
      "text/html": [
       "<pre style=\"white-space:pre;overflow-x:auto;line-height:normal;font-family:Menlo,'DejaVu Sans Mono',consolas,'Courier New',monospace\">\n",
       "</pre>\n"
      ],
      "text/plain": [
       "\n"
      ]
     },
     "metadata": {},
     "output_type": "display_data"
    },
    {
     "name": "stderr",
     "output_type": "stream",
     "text": [
      "c:\\Users\\ferna\\.vscode\\GitHub\\a01110946\\MushroomDataset\\env\\env_mlops\\Lib\\site-packages\\_distutils_hack\\__init__.py:11: UserWarning: Distutils was imported before Setuptools, but importing Setuptools also replaces the `distutils` module in `sys.modules`. This may lead to undesirable behaviors or errors. To avoid these issues, avoid using distutils directly, ensure that setuptools is installed in the traditional way (e.g. not an editable install), and/or make sure that setuptools is always imported before distutils.\n",
      "  warnings.warn(\n",
      "c:\\Users\\ferna\\.vscode\\GitHub\\a01110946\\MushroomDataset\\env\\env_mlops\\Lib\\site-packages\\_distutils_hack\\__init__.py:26: UserWarning: Setuptools is replacing distutils.\n",
      "  warnings.warn(\"Setuptools is replacing distutils.\")\n"
     ]
    },
    {
     "data": {
      "text/html": [
       "<pre style=\"white-space:pre;overflow-x:auto;line-height:normal;font-family:Menlo,'DejaVu Sans Mono',consolas,'Courier New',monospace\">Model: Gradient Boosting\n",
       "</pre>\n"
      ],
      "text/plain": [
       "Model: Gradient Boosting\n"
      ]
     },
     "metadata": {},
     "output_type": "display_data"
    },
    {
     "data": {
      "text/html": [
       "<pre style=\"white-space:pre;overflow-x:auto;line-height:normal;font-family:Menlo,'DejaVu Sans Mono',consolas,'Courier New',monospace\">Best parameters: <span style=\"font-weight: bold\">{</span><span style=\"color: #008000; text-decoration-color: #008000\">'classifier__learning_rate'</span>: <span style=\"color: #008080; text-decoration-color: #008080; font-weight: bold\">0.5596488034834677</span>, <span style=\"color: #008000; text-decoration-color: #008000\">'classifier__max_depth'</span>: <span style=\"color: #008080; text-decoration-color: #008080; font-weight: bold\">6</span>, \n",
       "<span style=\"color: #008000; text-decoration-color: #008000\">'classifier__n_estimators'</span>: <span style=\"color: #008080; text-decoration-color: #008080; font-weight: bold\">162</span>, <span style=\"color: #008000; text-decoration-color: #008000\">'classifier__subsample'</span>: <span style=\"color: #008080; text-decoration-color: #008080; font-weight: bold\">0.545111374540271</span><span style=\"font-weight: bold\">}</span>\n",
       "</pre>\n"
      ],
      "text/plain": [
       "Best parameters: \u001b[1m{\u001b[0m\u001b[32m'classifier__learning_rate'\u001b[0m: \u001b[1;36m0.5596488034834677\u001b[0m, \u001b[32m'classifier__max_depth'\u001b[0m: \u001b[1;36m6\u001b[0m, \n",
       "\u001b[32m'classifier__n_estimators'\u001b[0m: \u001b[1;36m162\u001b[0m, \u001b[32m'classifier__subsample'\u001b[0m: \u001b[1;36m0.545111374540271\u001b[0m\u001b[1m}\u001b[0m\n"
      ]
     },
     "metadata": {},
     "output_type": "display_data"
    },
    {
     "data": {
      "text/html": [
       "<pre style=\"white-space:pre;overflow-x:auto;line-height:normal;font-family:Menlo,'DejaVu Sans Mono',consolas,'Courier New',monospace\">Precision: <span style=\"color: #008080; text-decoration-color: #008080; font-weight: bold\">0.9993634627625716</span>\n",
       "</pre>\n"
      ],
      "text/plain": [
       "Precision: \u001b[1;36m0.9993634627625716\u001b[0m\n"
      ]
     },
     "metadata": {},
     "output_type": "display_data"
    },
    {
     "data": {
      "text/html": [
       "<pre style=\"white-space:pre;overflow-x:auto;line-height:normal;font-family:Menlo,'DejaVu Sans Mono',consolas,'Courier New',monospace\">Recall: <span style=\"color: #008080; text-decoration-color: #008080; font-weight: bold\">0.9995755517826825</span>\n",
       "</pre>\n"
      ],
      "text/plain": [
       "Recall: \u001b[1;36m0.9995755517826825\u001b[0m\n"
      ]
     },
     "metadata": {},
     "output_type": "display_data"
    },
    {
     "data": {
      "text/html": [
       "<pre style=\"white-space:pre;overflow-x:auto;line-height:normal;font-family:Menlo,'DejaVu Sans Mono',consolas,'Courier New',monospace\">F1-score: <span style=\"color: #008080; text-decoration-color: #008080; font-weight: bold\">0.9994694960212201</span>\n",
       "</pre>\n"
      ],
      "text/plain": [
       "F1-score: \u001b[1;36m0.9994694960212201\u001b[0m\n"
      ]
     },
     "metadata": {},
     "output_type": "display_data"
    },
    {
     "data": {
      "text/html": [
       "<pre style=\"white-space:pre;overflow-x:auto;line-height:normal;font-family:Menlo,'DejaVu Sans Mono',consolas,'Courier New',monospace\">AUC-ROC: <span style=\"color: #008080; text-decoration-color: #008080; font-weight: bold\">0.9999995344686401</span>\n",
       "</pre>\n"
      ],
      "text/plain": [
       "AUC-ROC: \u001b[1;36m0.9999995344686401\u001b[0m\n"
      ]
     },
     "metadata": {},
     "output_type": "display_data"
    },
    {
     "data": {
      "text/html": [
       "<pre style=\"white-space:pre;overflow-x:auto;line-height:normal;font-family:Menlo,'DejaVu Sans Mono',consolas,'Courier New',monospace\">Training time: <span style=\"color: #008080; text-decoration-color: #008080; font-weight: bold\">1631.51</span> seconds\n",
       "</pre>\n"
      ],
      "text/plain": [
       "Training time: \u001b[1;36m1631.51\u001b[0m seconds\n"
      ]
     },
     "metadata": {},
     "output_type": "display_data"
    },
    {
     "data": {
      "text/html": [
       "<pre style=\"white-space:pre;overflow-x:auto;line-height:normal;font-family:Menlo,'DejaVu Sans Mono',consolas,'Courier New',monospace\">Confusion Matrix:\n",
       "</pre>\n"
      ],
      "text/plain": [
       "Confusion Matrix:\n"
      ]
     },
     "metadata": {},
     "output_type": "display_data"
    },
    {
     "data": {
      "text/html": [
       "<pre style=\"white-space:pre;overflow-x:auto;line-height:normal;font-family:Menlo,'DejaVu Sans Mono',consolas,'Courier New',monospace\"><span style=\"font-weight: bold\">[[</span><span style=\"color: #008080; text-decoration-color: #008080; font-weight: bold\">3644</span>    <span style=\"color: #008080; text-decoration-color: #008080; font-weight: bold\">3</span><span style=\"font-weight: bold\">]</span>\n",
       " <span style=\"font-weight: bold\">[</span>   <span style=\"color: #008080; text-decoration-color: #008080; font-weight: bold\">2</span> <span style=\"color: #008080; text-decoration-color: #008080; font-weight: bold\">4710</span><span style=\"font-weight: bold\">]]</span>\n",
       "</pre>\n"
      ],
      "text/plain": [
       "\u001b[1m[\u001b[0m\u001b[1m[\u001b[0m\u001b[1;36m3644\u001b[0m    \u001b[1;36m3\u001b[0m\u001b[1m]\u001b[0m\n",
       " \u001b[1m[\u001b[0m   \u001b[1;36m2\u001b[0m \u001b[1;36m4710\u001b[0m\u001b[1m]\u001b[0m\u001b[1m]\u001b[0m\n"
      ]
     },
     "metadata": {},
     "output_type": "display_data"
    },
    {
     "data": {
      "text/html": [
       "<pre style=\"white-space:pre;overflow-x:auto;line-height:normal;font-family:Menlo,'DejaVu Sans Mono',consolas,'Courier New',monospace\">\n",
       "</pre>\n"
      ],
      "text/plain": [
       "\n"
      ]
     },
     "metadata": {},
     "output_type": "display_data"
    },
    {
     "name": "stderr",
     "output_type": "stream",
     "text": [
      "c:\\Users\\ferna\\.vscode\\GitHub\\a01110946\\MushroomDataset\\env\\env_mlops\\Lib\\site-packages\\sklearn\\model_selection\\_search.py:318: UserWarning: The total space of parameters 72 is smaller than n_iter=100. Running 72 iterations. For exhaustive searches, use GridSearchCV.\n",
      "  warnings.warn(\n",
      "c:\\Users\\ferna\\.vscode\\GitHub\\a01110946\\MushroomDataset\\env\\env_mlops\\Lib\\site-packages\\_distutils_hack\\__init__.py:11: UserWarning: Distutils was imported before Setuptools, but importing Setuptools also replaces the `distutils` module in `sys.modules`. This may lead to undesirable behaviors or errors. To avoid these issues, avoid using distutils directly, ensure that setuptools is installed in the traditional way (e.g. not an editable install), and/or make sure that setuptools is always imported before distutils.\n",
      "  warnings.warn(\n",
      "c:\\Users\\ferna\\.vscode\\GitHub\\a01110946\\MushroomDataset\\env\\env_mlops\\Lib\\site-packages\\_distutils_hack\\__init__.py:26: UserWarning: Setuptools is replacing distutils.\n",
      "  warnings.warn(\"Setuptools is replacing distutils.\")\n"
     ]
    },
    {
     "data": {
      "text/html": [
       "<pre style=\"white-space:pre;overflow-x:auto;line-height:normal;font-family:Menlo,'DejaVu Sans Mono',consolas,'Courier New',monospace\">Model: MLP Classifier\n",
       "</pre>\n"
      ],
      "text/plain": [
       "Model: MLP Classifier\n"
      ]
     },
     "metadata": {},
     "output_type": "display_data"
    },
    {
     "data": {
      "text/html": [
       "<pre style=\"white-space:pre;overflow-x:auto;line-height:normal;font-family:Menlo,'DejaVu Sans Mono',consolas,'Courier New',monospace\">Best parameters: <span style=\"font-weight: bold\">{</span><span style=\"color: #008000; text-decoration-color: #008000\">'classifier__solver'</span>: <span style=\"color: #008000; text-decoration-color: #008000\">'adam'</span>, <span style=\"color: #008000; text-decoration-color: #008000\">'classifier__learning_rate'</span>: <span style=\"color: #008000; text-decoration-color: #008000\">'adaptive'</span>, \n",
       "<span style=\"color: #008000; text-decoration-color: #008000\">'classifier__hidden_layer_sizes'</span>: <span style=\"font-weight: bold\">(</span><span style=\"color: #008080; text-decoration-color: #008080; font-weight: bold\">50</span>, <span style=\"color: #008080; text-decoration-color: #008080; font-weight: bold\">50</span><span style=\"font-weight: bold\">)</span>, <span style=\"color: #008000; text-decoration-color: #008000\">'classifier__activation'</span>: <span style=\"color: #008000; text-decoration-color: #008000\">'tanh'</span><span style=\"font-weight: bold\">}</span>\n",
       "</pre>\n"
      ],
      "text/plain": [
       "Best parameters: \u001b[1m{\u001b[0m\u001b[32m'classifier__solver'\u001b[0m: \u001b[32m'adam'\u001b[0m, \u001b[32m'classifier__learning_rate'\u001b[0m: \u001b[32m'adaptive'\u001b[0m, \n",
       "\u001b[32m'classifier__hidden_layer_sizes'\u001b[0m: \u001b[1m(\u001b[0m\u001b[1;36m50\u001b[0m, \u001b[1;36m50\u001b[0m\u001b[1m)\u001b[0m, \u001b[32m'classifier__activation'\u001b[0m: \u001b[32m'tanh'\u001b[0m\u001b[1m}\u001b[0m\n"
      ]
     },
     "metadata": {},
     "output_type": "display_data"
    },
    {
     "data": {
      "text/html": [
       "<pre style=\"white-space:pre;overflow-x:auto;line-height:normal;font-family:Menlo,'DejaVu Sans Mono',consolas,'Courier New',monospace\">Precision: <span style=\"color: #008080; text-decoration-color: #008080; font-weight: bold\">0.9997876857749469</span>\n",
       "</pre>\n"
      ],
      "text/plain": [
       "Precision: \u001b[1;36m0.9997876857749469\u001b[0m\n"
      ]
     },
     "metadata": {},
     "output_type": "display_data"
    },
    {
     "data": {
      "text/html": [
       "<pre style=\"white-space:pre;overflow-x:auto;line-height:normal;font-family:Menlo,'DejaVu Sans Mono',consolas,'Courier New',monospace\">Recall: <span style=\"color: #008080; text-decoration-color: #008080; font-weight: bold\">0.9993633276740238</span>\n",
       "</pre>\n"
      ],
      "text/plain": [
       "Recall: \u001b[1;36m0.9993633276740238\u001b[0m\n"
      ]
     },
     "metadata": {},
     "output_type": "display_data"
    },
    {
     "data": {
      "text/html": [
       "<pre style=\"white-space:pre;overflow-x:auto;line-height:normal;font-family:Menlo,'DejaVu Sans Mono',consolas,'Courier New',monospace\">F1-score: <span style=\"color: #008080; text-decoration-color: #008080; font-weight: bold\">0.9995754616854171</span>\n",
       "</pre>\n"
      ],
      "text/plain": [
       "F1-score: \u001b[1;36m0.9995754616854171\u001b[0m\n"
      ]
     },
     "metadata": {},
     "output_type": "display_data"
    },
    {
     "data": {
      "text/html": [
       "<pre style=\"white-space:pre;overflow-x:auto;line-height:normal;font-family:Menlo,'DejaVu Sans Mono',consolas,'Courier New',monospace\">AUC-ROC: <span style=\"color: #008080; text-decoration-color: #008080; font-weight: bold\">0.9999989525544404</span>\n",
       "</pre>\n"
      ],
      "text/plain": [
       "AUC-ROC: \u001b[1;36m0.9999989525544404\u001b[0m\n"
      ]
     },
     "metadata": {},
     "output_type": "display_data"
    },
    {
     "data": {
      "text/html": [
       "<pre style=\"white-space:pre;overflow-x:auto;line-height:normal;font-family:Menlo,'DejaVu Sans Mono',consolas,'Courier New',monospace\">Training time: <span style=\"color: #008080; text-decoration-color: #008080; font-weight: bold\">2449.21</span> seconds\n",
       "</pre>\n"
      ],
      "text/plain": [
       "Training time: \u001b[1;36m2449.21\u001b[0m seconds\n"
      ]
     },
     "metadata": {},
     "output_type": "display_data"
    },
    {
     "data": {
      "text/html": [
       "<pre style=\"white-space:pre;overflow-x:auto;line-height:normal;font-family:Menlo,'DejaVu Sans Mono',consolas,'Courier New',monospace\">Confusion Matrix:\n",
       "</pre>\n"
      ],
      "text/plain": [
       "Confusion Matrix:\n"
      ]
     },
     "metadata": {},
     "output_type": "display_data"
    },
    {
     "data": {
      "text/html": [
       "<pre style=\"white-space:pre;overflow-x:auto;line-height:normal;font-family:Menlo,'DejaVu Sans Mono',consolas,'Courier New',monospace\"><span style=\"font-weight: bold\">[[</span><span style=\"color: #008080; text-decoration-color: #008080; font-weight: bold\">3646</span>    <span style=\"color: #008080; text-decoration-color: #008080; font-weight: bold\">1</span><span style=\"font-weight: bold\">]</span>\n",
       " <span style=\"font-weight: bold\">[</span>   <span style=\"color: #008080; text-decoration-color: #008080; font-weight: bold\">3</span> <span style=\"color: #008080; text-decoration-color: #008080; font-weight: bold\">4709</span><span style=\"font-weight: bold\">]]</span>\n",
       "</pre>\n"
      ],
      "text/plain": [
       "\u001b[1m[\u001b[0m\u001b[1m[\u001b[0m\u001b[1;36m3646\u001b[0m    \u001b[1;36m1\u001b[0m\u001b[1m]\u001b[0m\n",
       " \u001b[1m[\u001b[0m   \u001b[1;36m3\u001b[0m \u001b[1;36m4709\u001b[0m\u001b[1m]\u001b[0m\u001b[1m]\u001b[0m\n"
      ]
     },
     "metadata": {},
     "output_type": "display_data"
    },
    {
     "data": {
      "text/html": [
       "<pre style=\"white-space:pre;overflow-x:auto;line-height:normal;font-family:Menlo,'DejaVu Sans Mono',consolas,'Courier New',monospace\">\n",
       "</pre>\n"
      ],
      "text/plain": [
       "\n"
      ]
     },
     "metadata": {},
     "output_type": "display_data"
    }
   ],
   "source": [
    "model_metrics = []\n",
    "\n",
    "# Realiza la búsqueda de hiperparámetros y la evaluación para cada modelo\n",
    "for model_name, pipeline in pipelines.items():\n",
    "    start_time = time.time()  # Start the timer\n",
    "    # grid_search = GridSearchCV(pipeline, param_grids[model_name], cv=cv, scoring=scoring, refit='f1', n_jobs=-1, random_state=42)\n",
    "    random_search = RandomizedSearchCV(pipeline, param_distributions[model_name], n_iter=100, cv=cv, scoring=scoring, refit='f1', n_jobs=-1, random_state=42, error_score='raise') \n",
    "\n",
    "    with mlflow.start_run(run_name=model_name, nested=True):\n",
    "        # Entrena el modelo utilizando el conjunto de entrenamiento transformado\n",
    "        random_search.fit(X_train, y_train_encoded)\n",
    "        \n",
    "        # Encuentra el mejor modelo de acuerdo con el Grid Search\n",
    "        best_model = random_search.best_estimator_\n",
    "        \n",
    "        # Obtiene el preprocesador ajustado del mejor modelo\n",
    "        best_preprocessor = best_model.named_steps['preprocessor']\n",
    "        \n",
    "        # Evalúa el mejor modelo en el conjunto de validación\n",
    "        y_pred_val = best_model.predict(X_val)\n",
    "        precision = precision_score(y_val_encoded, y_pred_val)\n",
    "        recall = recall_score(y_val_encoded, y_pred_val)\n",
    "        f1 = f1_score(y_val_encoded, y_pred_val)\n",
    "        auc_roc = roc_auc_score(y_val_encoded, best_model.predict_proba(X_val)[:, 1])\n",
    "        conf_matrix = confusion_matrix(y_val_encoded, y_pred_val)\n",
    "\n",
    "        end_time = time.time()  # End the timer\n",
    "        training_time = end_time - start_time  # Calculate the training time\n",
    "\n",
    "        # Append model metrics to the list\n",
    "        model_metrics.append((model_name, precision, recall, f1, auc_roc, training_time))\n",
    "                \n",
    "        # Registra el modelo, los parámetros y las métricas en MLflow\n",
    "        mlflow.log_param(\"model\", model_name)\n",
    "        mlflow.log_params(random_search.best_params_)\n",
    "        mlflow.log_metric(\"precision\", precision)\n",
    "        mlflow.log_metric(\"recall\", recall)\n",
    "        mlflow.log_metric(\"f1_score\", f1)\n",
    "        mlflow.log_metric(\"auc_roc\", auc_roc)\n",
    "        mlflow.log_metric(\"training_time\", training_time)\n",
    "        mlflow.sklearn.log_model(best_model, \"model\")\n",
    "\n",
    "        # Extrae nombres de features y crea el diccionario de mapeo\n",
    "        feature_names = best_preprocessor.get_feature_names_out()\n",
    "                \n",
    "        # Imprime las métricas de evaluación y la matriz de confusión\n",
    "        print(f\"Model: {model_name}\")\n",
    "        print(f\"Best parameters: {random_search.best_params_}\")\n",
    "        print(f\"Precision: {precision}\")\n",
    "        print(f\"Recall: {recall}\")\n",
    "        print(f\"F1-score: {f1}\")\n",
    "        print(f\"AUC-ROC: {auc_roc}\")\n",
    "        print(f\"Training time: {training_time:.2f} seconds\")\n",
    "        print(\"Confusion Matrix:\")\n",
    "        print(conf_matrix)\n",
    "        print()"
   ]
  },
  {
   "cell_type": "markdown",
   "metadata": {},
   "source": [
    "### Selección del Mejor Modelo"
   ]
  },
  {
   "cell_type": "code",
   "execution_count": 192,
   "metadata": {},
   "outputs": [
    {
     "data": {
      "text/html": [
       "<pre style=\"white-space:pre;overflow-x:auto;line-height:normal;font-family:Menlo,'DejaVu Sans Mono',consolas,'Courier New',monospace\">Best Model: MLP Classifier\n",
       "</pre>\n"
      ],
      "text/plain": [
       "Best Model: MLP Classifier\n"
      ]
     },
     "metadata": {},
     "output_type": "display_data"
    }
   ],
   "source": [
    "# Comparar el rendimiento de diferentes modelos basado en las métricas de evaluación\n",
    "# model_metrics = []\n",
    "\"\"\"\n",
    "for model_name, pipeline in pipelines.items():\n",
    "    with mlflow.start_run(run_name=model_name):\n",
    "        # Obtener las métricas registradas en MLflow\n",
    "        run = mlflow.active_run()\n",
    "        metrics = mlflow.tracking.MlflowClient().get_run(run.info.run_id).data.metrics\n",
    "        model_metrics.append((model_name, metrics['f1_score'], metrics['auc_roc']))\n",
    "\"\"\"\n",
    "\n",
    "# Ordenar los modelos según el F1-score y AUC-ROC\n",
    "model_metrics.sort(key=lambda x: (x[3], x[4]), reverse=True)\n",
    "\n",
    "# Seleccionar el mejor modelo para pruebas adicionales y despliegue\n",
    "best_model_name = model_metrics[0][0]\n",
    "best_model = pipelines[best_model_name]\n",
    "\n",
    "print(f\"Best Model: {best_model_name}\")"
   ]
  },
  {
   "cell_type": "markdown",
   "metadata": {},
   "source": [
    "### Evaluación del Mejor Modelo en el Conjunto de Prueba"
   ]
  },
  {
   "cell_type": "code",
   "execution_count": 193,
   "metadata": {},
   "outputs": [],
   "source": [
    "# Fit the best_model pipeline on the training data\n",
    "best_model.fit(X_train, y_train_encoded)\n",
    "\n",
    "# Realizar predicciones utilizando el conjunto de prueba\n",
    "y_pred = best_model.predict(X_test)"
   ]
  },
  {
   "cell_type": "code",
   "execution_count": 194,
   "metadata": {},
   "outputs": [
    {
     "data": {
      "text/html": [
       "<pre style=\"white-space:pre;overflow-x:auto;line-height:normal;font-family:Menlo,'DejaVu Sans Mono',consolas,'Courier New',monospace\"><span style=\"font-weight: bold\">[</span><span style=\"color: #008080; text-decoration-color: #008080; font-weight: bold\">0</span> <span style=\"color: #008080; text-decoration-color: #008080; font-weight: bold\">1</span> <span style=\"color: #008080; text-decoration-color: #008080; font-weight: bold\">1</span> <span style=\"color: #808000; text-decoration-color: #808000\">...</span> <span style=\"color: #008080; text-decoration-color: #008080; font-weight: bold\">1</span> <span style=\"color: #008080; text-decoration-color: #008080; font-weight: bold\">0</span> <span style=\"color: #008080; text-decoration-color: #008080; font-weight: bold\">1</span><span style=\"font-weight: bold\">]</span>\n",
       "</pre>\n"
      ],
      "text/plain": [
       "\u001b[1m[\u001b[0m\u001b[1;36m0\u001b[0m \u001b[1;36m1\u001b[0m \u001b[1;36m1\u001b[0m \u001b[33m...\u001b[0m \u001b[1;36m1\u001b[0m \u001b[1;36m0\u001b[0m \u001b[1;36m1\u001b[0m\u001b[1m]\u001b[0m\n"
      ]
     },
     "metadata": {},
     "output_type": "display_data"
    },
    {
     "data": {
      "text/plain": [
       "(8360,)"
      ]
     },
     "execution_count": 194,
     "metadata": {},
     "output_type": "execute_result"
    }
   ],
   "source": [
    "print(y_pred)\n",
    "y_pred.shape"
   ]
  },
  {
   "cell_type": "code",
   "execution_count": 195,
   "metadata": {},
   "outputs": [
    {
     "data": {
      "text/html": [
       "<pre style=\"white-space:pre;overflow-x:auto;line-height:normal;font-family:Menlo,'DejaVu Sans Mono',consolas,'Courier New',monospace\">Accuracy: <span style=\"color: #008080; text-decoration-color: #008080; font-weight: bold\">0.9994019138755981</span>\n",
       "</pre>\n"
      ],
      "text/plain": [
       "Accuracy: \u001b[1;36m0.9994019138755981\u001b[0m\n"
      ]
     },
     "metadata": {},
     "output_type": "display_data"
    },
    {
     "data": {
      "text/html": [
       "<pre style=\"white-space:pre;overflow-x:auto;line-height:normal;font-family:Menlo,'DejaVu Sans Mono',consolas,'Courier New',monospace\">Precision: <span style=\"color: #008080; text-decoration-color: #008080; font-weight: bold\">0.9989402289105553</span>\n",
       "</pre>\n"
      ],
      "text/plain": [
       "Precision: \u001b[1;36m0.9989402289105553\u001b[0m\n"
      ]
     },
     "metadata": {},
     "output_type": "display_data"
    },
    {
     "data": {
      "text/html": [
       "<pre style=\"white-space:pre;overflow-x:auto;line-height:normal;font-family:Menlo,'DejaVu Sans Mono',consolas,'Courier New',monospace\">Recall: <span style=\"color: #008080; text-decoration-color: #008080; font-weight: bold\">1.0</span>\n",
       "</pre>\n"
      ],
      "text/plain": [
       "Recall: \u001b[1;36m1.0\u001b[0m\n"
      ]
     },
     "metadata": {},
     "output_type": "display_data"
    },
    {
     "data": {
      "text/html": [
       "<pre style=\"white-space:pre;overflow-x:auto;line-height:normal;font-family:Menlo,'DejaVu Sans Mono',consolas,'Courier New',monospace\">F1-score: <span style=\"color: #008080; text-decoration-color: #008080; font-weight: bold\">0.9994698335277277</span>\n",
       "</pre>\n"
      ],
      "text/plain": [
       "F1-score: \u001b[1;36m0.9994698335277277\u001b[0m\n"
      ]
     },
     "metadata": {},
     "output_type": "display_data"
    },
    {
     "data": {
      "text/html": [
       "<pre style=\"white-space:pre;overflow-x:auto;line-height:normal;font-family:Menlo,'DejaVu Sans Mono',consolas,'Courier New',monospace\">AUC-ROC: <span style=\"color: #008080; text-decoration-color: #008080; font-weight: bold\">0.9999995345674162</span>\n",
       "</pre>\n"
      ],
      "text/plain": [
       "AUC-ROC: \u001b[1;36m0.9999995345674162\u001b[0m\n"
      ]
     },
     "metadata": {},
     "output_type": "display_data"
    },
    {
     "data": {
      "text/html": [
       "<pre style=\"white-space:pre;overflow-x:auto;line-height:normal;font-family:Menlo,'DejaVu Sans Mono',consolas,'Courier New',monospace\">\n",
       "Confusion Matrix:\n",
       " <span style=\"font-weight: bold\">[[</span><span style=\"color: #008080; text-decoration-color: #008080; font-weight: bold\">3642</span>    <span style=\"color: #008080; text-decoration-color: #008080; font-weight: bold\">5</span><span style=\"font-weight: bold\">]</span>\n",
       " <span style=\"font-weight: bold\">[</span>   <span style=\"color: #008080; text-decoration-color: #008080; font-weight: bold\">0</span> <span style=\"color: #008080; text-decoration-color: #008080; font-weight: bold\">4713</span><span style=\"font-weight: bold\">]]</span>\n",
       "</pre>\n"
      ],
      "text/plain": [
       "\n",
       "Confusion Matrix:\n",
       " \u001b[1m[\u001b[0m\u001b[1m[\u001b[0m\u001b[1;36m3642\u001b[0m    \u001b[1;36m5\u001b[0m\u001b[1m]\u001b[0m\n",
       " \u001b[1m[\u001b[0m   \u001b[1;36m0\u001b[0m \u001b[1;36m4713\u001b[0m\u001b[1m]\u001b[0m\u001b[1m]\u001b[0m\n"
      ]
     },
     "metadata": {},
     "output_type": "display_data"
    },
    {
     "data": {
      "text/html": [
       "<pre style=\"white-space:pre;overflow-x:auto;line-height:normal;font-family:Menlo,'DejaVu Sans Mono',consolas,'Courier New',monospace\">\n",
       "Classification Report:\n",
       "               precision    recall  f1-score   support\n",
       "\n",
       "           <span style=\"color: #008080; text-decoration-color: #008080; font-weight: bold\">0</span>       <span style=\"color: #008080; text-decoration-color: #008080; font-weight: bold\">1.00</span>      <span style=\"color: #008080; text-decoration-color: #008080; font-weight: bold\">1.00</span>      <span style=\"color: #008080; text-decoration-color: #008080; font-weight: bold\">1.00</span>      <span style=\"color: #008080; text-decoration-color: #008080; font-weight: bold\">3647</span>\n",
       "           <span style=\"color: #008080; text-decoration-color: #008080; font-weight: bold\">1</span>       <span style=\"color: #008080; text-decoration-color: #008080; font-weight: bold\">1.00</span>      <span style=\"color: #008080; text-decoration-color: #008080; font-weight: bold\">1.00</span>      <span style=\"color: #008080; text-decoration-color: #008080; font-weight: bold\">1.00</span>      <span style=\"color: #008080; text-decoration-color: #008080; font-weight: bold\">4713</span>\n",
       "\n",
       "    accuracy                           <span style=\"color: #008080; text-decoration-color: #008080; font-weight: bold\">1.00</span>      <span style=\"color: #008080; text-decoration-color: #008080; font-weight: bold\">8360</span>\n",
       "   macro avg       <span style=\"color: #008080; text-decoration-color: #008080; font-weight: bold\">1.00</span>      <span style=\"color: #008080; text-decoration-color: #008080; font-weight: bold\">1.00</span>      <span style=\"color: #008080; text-decoration-color: #008080; font-weight: bold\">1.00</span>      <span style=\"color: #008080; text-decoration-color: #008080; font-weight: bold\">8360</span>\n",
       "weighted avg       <span style=\"color: #008080; text-decoration-color: #008080; font-weight: bold\">1.00</span>      <span style=\"color: #008080; text-decoration-color: #008080; font-weight: bold\">1.00</span>      <span style=\"color: #008080; text-decoration-color: #008080; font-weight: bold\">1.00</span>      <span style=\"color: #008080; text-decoration-color: #008080; font-weight: bold\">8360</span>\n",
       "\n",
       "</pre>\n"
      ],
      "text/plain": [
       "\n",
       "Classification Report:\n",
       "               precision    recall  f1-score   support\n",
       "\n",
       "           \u001b[1;36m0\u001b[0m       \u001b[1;36m1.00\u001b[0m      \u001b[1;36m1.00\u001b[0m      \u001b[1;36m1.00\u001b[0m      \u001b[1;36m3647\u001b[0m\n",
       "           \u001b[1;36m1\u001b[0m       \u001b[1;36m1.00\u001b[0m      \u001b[1;36m1.00\u001b[0m      \u001b[1;36m1.00\u001b[0m      \u001b[1;36m4713\u001b[0m\n",
       "\n",
       "    accuracy                           \u001b[1;36m1.00\u001b[0m      \u001b[1;36m8360\u001b[0m\n",
       "   macro avg       \u001b[1;36m1.00\u001b[0m      \u001b[1;36m1.00\u001b[0m      \u001b[1;36m1.00\u001b[0m      \u001b[1;36m8360\u001b[0m\n",
       "weighted avg       \u001b[1;36m1.00\u001b[0m      \u001b[1;36m1.00\u001b[0m      \u001b[1;36m1.00\u001b[0m      \u001b[1;36m8360\u001b[0m\n",
       "\n"
      ]
     },
     "metadata": {},
     "output_type": "display_data"
    }
   ],
   "source": [
    "# Encode y_test using the same LabelEncoder\n",
    "y_test_encoded = label_encoder.transform(y_test)\n",
    "\n",
    "# Evaluar el rendimiento del mejor modelo en el conjunto de prueba\n",
    "accuracy = accuracy_score(y_test_encoded, y_pred)\n",
    "precision = precision_score(y_test_encoded, y_pred)\n",
    "recall = recall_score(y_test_encoded, y_pred)\n",
    "f1 = f1_score(y_test_encoded, y_pred)\n",
    "auc_roc = roc_auc_score(y_test_encoded, best_model.predict_proba(X_test)[:, 1])\n",
    "conf_matrix = confusion_matrix(y_test_encoded, y_pred)\n",
    "class_report = classification_report(y_test_encoded, y_pred)\n",
    "\n",
    "# Imprimir los resultados\n",
    "print(\"Accuracy:\", accuracy)\n",
    "print(\"Precision:\", precision)\n",
    "print(\"Recall:\", recall)\n",
    "print(\"F1-score:\", f1)\n",
    "print(\"AUC-ROC:\", auc_roc)\n",
    "print(\"\\nConfusion Matrix:\\n\", conf_matrix)\n",
    "print(\"\\nClassification Report:\\n\", class_report)"
   ]
  },
  {
   "cell_type": "code",
   "execution_count": 196,
   "metadata": {},
   "outputs": [
    {
     "data": {
      "image/png": "[encoded data removed]",
      "text/plain": [
       "<Figure size 800x600 with 2 Axes>"
      ]
     },
     "metadata": {},
     "output_type": "display_data"
    }
   ],
   "source": [
    "# Visualizar la matriz de confusión\n",
    "plt.figure(figsize=(8, 6))\n",
    "sns.heatmap(conf_matrix, annot=True, fmt='d', cmap='Blues')\n",
    "plt.xlabel('Predicted')\n",
    "plt.ylabel('Actual')\n",
    "plt.title('Confusion Matrix')\n",
    "plt.show()"
   ]
  },
  {
   "cell_type": "code",
   "execution_count": 197,
   "metadata": {},
   "outputs": [
    {
     "data": {
      "text/plain": [
       "'\\nwith mlflow.start_run(run_name=\"Best Model Test Evaluation\"):\\n    mlflow.log_metric(\"accuracy\", accuracy)\\n    mlflow.log_metric(\"precision\", precision)\\n    mlflow.log_metric(\"recall\", recall)\\n    mlflow.log_metric(\"f1_score\", f1)\\n    mlflow.log_metric(\"auc_roc\", auc_roc)\\n    mlflow.log_artifact(\"confusion_matrix.png\")\\n    mlflow.log_text(class_report, \"classification_report.txt\")\\n'"
      ]
     },
     "execution_count": 197,
     "metadata": {},
     "output_type": "execute_result"
    }
   ],
   "source": [
    "# Registrar las métricas y artefactos en MLflow\n",
    "\"\"\"\n",
    "with mlflow.start_run(run_name=\"Best Model Test Evaluation\"):\n",
    "    mlflow.log_metric(\"accuracy\", accuracy)\n",
    "    mlflow.log_metric(\"precision\", precision)\n",
    "    mlflow.log_metric(\"recall\", recall)\n",
    "    mlflow.log_metric(\"f1_score\", f1)\n",
    "    mlflow.log_metric(\"auc_roc\", auc_roc)\n",
    "    mlflow.log_artifact(\"confusion_matrix.png\")\n",
    "    mlflow.log_text(class_report, \"classification_report.txt\")\n",
    "\"\"\""
   ]
  },
  {
   "cell_type": "markdown",
   "metadata": {},
   "source": [
    "# PENDIENTE: Configurar correctamente MLflow"
   ]
  },
  {
   "cell_type": "markdown",
   "metadata": {},
   "source": [
    "# PENDIENTE: Convertir los notebooks a scripts de Python"
   ]
  },
  {
   "cell_type": "markdown",
   "metadata": {},
   "source": [
    "### Interpretación del Modelo y Análisis de Importancia de Características"
   ]
  },
  {
   "cell_type": "code",
   "execution_count": 198,
   "metadata": {},
   "outputs": [],
   "source": [
    "# Realizar análisis de importancia de características\n",
    "# ...\n",
    "\n",
    "# Visualizar la importancia de las características\n",
    "# ..."
   ]
  },
  {
   "cell_type": "markdown",
   "metadata": {},
   "source": [
    "### Serialización y Guardado del Modelo"
   ]
  },
  {
   "cell_type": "code",
   "execution_count": 199,
   "metadata": {},
   "outputs": [],
   "source": [
    "# Serializar y guardar el mejor modelo\n",
    "# ..."
   ]
  },
  {
   "cell_type": "markdown",
   "metadata": {},
   "source": [
    "### Monitoreo y Seguimiento del Rendimiento del Modelo"
   ]
  },
  {
   "cell_type": "code",
   "execution_count": 200,
   "metadata": {},
   "outputs": [],
   "source": [
    "# Configurar mecanismos de logging y monitoreo\n",
    "# ...\n",
    "\n",
    "# Definir métricas y umbrales para detección de anomalías\n",
    "# ..."
   ]
  },
  {
   "cell_type": "markdown",
   "metadata": {},
   "source": [
    "### Mantenimiento y Reentrenamiento del Modelo"
   ]
  },
  {
   "cell_type": "code",
   "execution_count": 201,
   "metadata": {},
   "outputs": [],
   "source": [
    "# Establecer un proceso para actualizar el modelo con nuevos datos\n",
    "# ...\n",
    "\n",
    "# Definir la frecuencia y criterios para el reentrenamiento del modelo\n",
    "# ..."
   ]
  },
  {
   "cell_type": "markdown",
   "metadata": {},
   "source": []
  }
 ],
 "metadata": {
  "kernelspec": {
   "display_name": "Python (MLOps)",
   "language": "python",
   "name": "kernel_mlops"
  },
  "language_info": {
   "codemirror_mode": {
    "name": "ipython",
    "version": 3
   },
   "file_extension": ".py",
   "mimetype": "text/x-python",
   "name": "python",
   "nbconvert_exporter": "python",
   "pygments_lexer": "ipython3",
   "version": "3.11.6"
  }
 },
 "nbformat": 4,
 "nbformat_minor": 2
}
