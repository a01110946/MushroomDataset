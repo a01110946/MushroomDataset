{
 "cells": [
  {
   "cell_type": "markdown",
   "metadata": {},
   "source": [
    "## Entrenamiento de Modelo"
   ]
  },
  {
   "cell_type": "markdown",
   "metadata": {},
   "source": [
    "### Relevancia de la Estrategia de MLOps"
   ]
  },
  {
   "cell_type": "markdown",
   "metadata": {},
   "source": [
    "La implementación de una estrategia de MLOps en el análisis del dataset de hongos cobra una importancia crucial, especialmente cuando abordamos la pregunta: *\"¿podemos determinar si un hongo es comestible basándonos en sus características físicas?\"*. Esta pregunta no solo plantea un desafío analítico y de modelado significativo, sino que también implica una profunda responsabilidad ética y de seguridad. En ámbitos donde la salud humana podría estar en juego, la precisión y fiabilidad de las predicciones de nuestro modelo no son meramente objetivos deseables, sino imperativos críticos.\n",
    "\n",
    "En este contexto, una estrategia de MLOps es esencial, ya que permite la iteración continua y sistemática sobre el modelo, buscando optimizar su desempeño mientras se asegura la precisión y fiabilidad del sistema. La incorporación de MLOps facilita una mejora constante mediante la automatización, la integración y la entrega continuas, junto con el monitoreo y mantenimiento en producción, lo que es crucial para manejar la delicada naturaleza de la pregunta de investigación y garantizar la seguridad de las predicciones.\n",
    "\n",
    "En consonancia con este enfoque iterativo y basado en la necesidad de equilibrar la precisión con la responsabilidad, elegimos comenzar nuestro proceso de modelado con un modelo base sencillo: la regresión logística. Esta elección se fundamenta en su interpretabilidad, simplicidad y eficacia probada como punto de partida en problemas de clasificación. A partir de este modelo base, podemos evaluar su desempeño como línea de base y, apoyados por la infraestructura y prácticas que MLOps facilita, proceder a experimentar y mejorar iterativamente. Esto nos permite explorar modelos más complejos y ajustar parámetros con el objetivo final de optimizar la precisión y la seguridad de nuestras predicciones, garantizando así que nuestro sistema de predicción evolucione de manera responsable y efectiva para proteger la salud y el bienestar de las personas."
   ]
  },
  {
   "cell_type": "markdown",
   "metadata": {},
   "source": [
    "### Importación de Librerías"
   ]
  },
  {
   "cell_type": "code",
   "execution_count": 1,
   "metadata": {},
   "outputs": [],
   "source": [
    "import os\n",
    "import pandas as pd\n",
    "import numpy as np\n",
    "import matplotlib.pyplot as plt\n",
    "import seaborn as sns\n",
    "from itertools import combinations\n",
    "import scipy.stats as ss\n",
    "import json\n",
    "from pathlib import Path\n",
    "\n",
    "from scipy.stats import randint\n",
    "from scipy.stats import uniform\n",
    "\n",
    "from sklearn.base import BaseEstimator\n",
    "from sklearn.base import TransformerMixin\n",
    "\n",
    "from sklearn.model_selection import train_test_split\n",
    "from sklearn.model_selection import GridSearchCV\n",
    "from sklearn.model_selection import RandomizedSearchCV\n",
    "from sklearn.model_selection import StratifiedKFold\n",
    "\n",
    "from sklearn.pipeline import Pipeline\n",
    "from sklearn.impute import SimpleImputer\n",
    "from sklearn.preprocessing import MinMaxScaler\n",
    "from sklearn.preprocessing import StandardScaler\n",
    "from sklearn.compose import ColumnTransformer\n",
    "from sklearn.preprocessing import OneHotEncoder\n",
    "\n",
    "from sklearn.linear_model import LogisticRegression\n",
    "from sklearn.tree import DecisionTreeClassifier\n",
    "from sklearn.ensemble import RandomForestClassifier\n",
    "from sklearn.ensemble import GradientBoostingClassifier\n",
    "from sklearn.neural_network import MLPClassifier\n",
    "\n",
    "from sklearn.metrics import accuracy_score\n",
    "from sklearn.metrics import precision_score\n",
    "from sklearn.metrics import recall_score\n",
    "from sklearn.metrics import f1_score\n",
    "from sklearn.metrics import roc_auc_score\n",
    "from sklearn.metrics import confusion_matrix\n",
    "from sklearn.metrics import classification_report\n",
    "from sklearn.metrics import make_scorer\n",
    "\n",
    "import mlflow\n",
    "import mlflow.sklearn\n",
    "\n",
    "from rich import print\n",
    "from rich.console import Console\n",
    "from rich.table import Table\n",
    "\n",
    "%matplotlib inline"
   ]
  },
  {
   "cell_type": "markdown",
   "metadata": {},
   "source": [
    "### Carga del Dataset"
   ]
  },
  {
   "cell_type": "code",
   "execution_count": 2,
   "metadata": {},
   "outputs": [
    {
     "name": "stdout",
     "output_type": "stream",
     "text": [
      "<class 'pandas.core.frame.DataFrame'>\n",
      "RangeIndex: 61069 entries, 0 to 61068\n",
      "Data columns (total 21 columns):\n",
      " #   Column                Non-Null Count  Dtype  \n",
      "---  ------                --------------  -----  \n",
      " 0   class                 61069 non-null  object \n",
      " 1   cap-diameter          61069 non-null  float64\n",
      " 2   cap-shape             61069 non-null  object \n",
      " 3   cap-surface           46949 non-null  object \n",
      " 4   cap-color             61069 non-null  object \n",
      " 5   does-bruise-or-bleed  61069 non-null  object \n",
      " 6   gill-attachment       51185 non-null  object \n",
      " 7   gill-spacing          36006 non-null  object \n",
      " 8   gill-color            61069 non-null  object \n",
      " 9   stem-height           61069 non-null  float64\n",
      " 10  stem-width            61069 non-null  float64\n",
      " 11  stem-root             9531 non-null   object \n",
      " 12  stem-surface          22945 non-null  object \n",
      " 13  stem-color            61069 non-null  object \n",
      " 14  veil-type             3177 non-null   object \n",
      " 15  veil-color            7413 non-null   object \n",
      " 16  has-ring              61069 non-null  object \n",
      " 17  ring-type             58598 non-null  object \n",
      " 18  spore-print-color     6354 non-null   object \n",
      " 19  habitat               61069 non-null  object \n",
      " 20  season                61069 non-null  object \n",
      "dtypes: float64(3), object(18)\n",
      "memory usage: 9.8+ MB\n"
     ]
    }
   ],
   "source": [
    "parent_directory = os.path.dirname(os.getcwd())\n",
    "path_primary_data = os.path.join(parent_directory, \"data\", \"secondary_data.csv\")\n",
    "df = pd.read_csv(path_primary_data, sep=\";\")\n",
    "df.info()"
   ]
  },
  {
   "cell_type": "markdown",
   "metadata": {},
   "source": [
    "### Validación de Datos"
   ]
  },
  {
   "cell_type": "code",
   "execution_count": 3,
   "metadata": {},
   "outputs": [
    {
     "data": {
      "text/html": [
       "<pre style=\"white-space:pre;overflow-x:auto;line-height:normal;font-family:Menlo,'DejaVu Sans Mono',consolas,'Courier New',monospace\">Number of duplicate rows: <span style=\"color: #008080; text-decoration-color: #008080; font-weight: bold\">146</span>\n",
       "</pre>\n"
      ],
      "text/plain": [
       "Number of duplicate rows: \u001b[1;36m146\u001b[0m\n"
      ]
     },
     "metadata": {},
     "output_type": "display_data"
    }
   ],
   "source": [
    "# Verificar si hay filas duplicadas\n",
    "duplicates = df.duplicated()\n",
    "print(f\"Number of duplicate rows: {duplicates.sum()}\")"
   ]
  },
  {
   "cell_type": "code",
   "execution_count": 4,
   "metadata": {},
   "outputs": [
    {
     "data": {
      "text/html": [
       "<pre style=\"white-space:pre;overflow-x:auto;line-height:normal;font-family:Menlo,'DejaVu Sans Mono',consolas,'Courier New',monospace\">Missing values per column:\n",
       "</pre>\n"
      ],
      "text/plain": [
       "Missing values per column:\n"
      ]
     },
     "metadata": {},
     "output_type": "display_data"
    },
    {
     "data": {
      "text/html": [
       "<pre style=\"white-space:pre;overflow-x:auto;line-height:normal;font-family:Menlo,'DejaVu Sans Mono',consolas,'Courier New',monospace\">class                       <span style=\"color: #008080; text-decoration-color: #008080; font-weight: bold\">0</span>\n",
       "cap-diameter                <span style=\"color: #008080; text-decoration-color: #008080; font-weight: bold\">0</span>\n",
       "cap-shape                   <span style=\"color: #008080; text-decoration-color: #008080; font-weight: bold\">0</span>\n",
       "cap-surface             <span style=\"color: #008080; text-decoration-color: #008080; font-weight: bold\">14120</span>\n",
       "cap-color                   <span style=\"color: #008080; text-decoration-color: #008080; font-weight: bold\">0</span>\n",
       "does-bruise-or-bleed        <span style=\"color: #008080; text-decoration-color: #008080; font-weight: bold\">0</span>\n",
       "gill-attachment          <span style=\"color: #008080; text-decoration-color: #008080; font-weight: bold\">9884</span>\n",
       "gill-spacing            <span style=\"color: #008080; text-decoration-color: #008080; font-weight: bold\">25063</span>\n",
       "gill-color                  <span style=\"color: #008080; text-decoration-color: #008080; font-weight: bold\">0</span>\n",
       "stem-height                 <span style=\"color: #008080; text-decoration-color: #008080; font-weight: bold\">0</span>\n",
       "stem-width                  <span style=\"color: #008080; text-decoration-color: #008080; font-weight: bold\">0</span>\n",
       "stem-root               <span style=\"color: #008080; text-decoration-color: #008080; font-weight: bold\">51538</span>\n",
       "stem-surface            <span style=\"color: #008080; text-decoration-color: #008080; font-weight: bold\">38124</span>\n",
       "stem-color                  <span style=\"color: #008080; text-decoration-color: #008080; font-weight: bold\">0</span>\n",
       "veil-type               <span style=\"color: #008080; text-decoration-color: #008080; font-weight: bold\">57892</span>\n",
       "veil-color              <span style=\"color: #008080; text-decoration-color: #008080; font-weight: bold\">53656</span>\n",
       "has-ring                    <span style=\"color: #008080; text-decoration-color: #008080; font-weight: bold\">0</span>\n",
       "ring-type                <span style=\"color: #008080; text-decoration-color: #008080; font-weight: bold\">2471</span>\n",
       "spore-print-color       <span style=\"color: #008080; text-decoration-color: #008080; font-weight: bold\">54715</span>\n",
       "habitat                     <span style=\"color: #008080; text-decoration-color: #008080; font-weight: bold\">0</span>\n",
       "season                      <span style=\"color: #008080; text-decoration-color: #008080; font-weight: bold\">0</span>\n",
       "dtype: int64\n",
       "</pre>\n"
      ],
      "text/plain": [
       "class                       \u001b[1;36m0\u001b[0m\n",
       "cap-diameter                \u001b[1;36m0\u001b[0m\n",
       "cap-shape                   \u001b[1;36m0\u001b[0m\n",
       "cap-surface             \u001b[1;36m14120\u001b[0m\n",
       "cap-color                   \u001b[1;36m0\u001b[0m\n",
       "does-bruise-or-bleed        \u001b[1;36m0\u001b[0m\n",
       "gill-attachment          \u001b[1;36m9884\u001b[0m\n",
       "gill-spacing            \u001b[1;36m25063\u001b[0m\n",
       "gill-color                  \u001b[1;36m0\u001b[0m\n",
       "stem-height                 \u001b[1;36m0\u001b[0m\n",
       "stem-width                  \u001b[1;36m0\u001b[0m\n",
       "stem-root               \u001b[1;36m51538\u001b[0m\n",
       "stem-surface            \u001b[1;36m38124\u001b[0m\n",
       "stem-color                  \u001b[1;36m0\u001b[0m\n",
       "veil-type               \u001b[1;36m57892\u001b[0m\n",
       "veil-color              \u001b[1;36m53656\u001b[0m\n",
       "has-ring                    \u001b[1;36m0\u001b[0m\n",
       "ring-type                \u001b[1;36m2471\u001b[0m\n",
       "spore-print-color       \u001b[1;36m54715\u001b[0m\n",
       "habitat                     \u001b[1;36m0\u001b[0m\n",
       "season                      \u001b[1;36m0\u001b[0m\n",
       "dtype: int64\n"
      ]
     },
     "metadata": {},
     "output_type": "display_data"
    }
   ],
   "source": [
    "# Verificar si hay valores faltantes en cada columna\n",
    "missing_values = df.isnull().sum()\n",
    "print(\"Missing values per column:\")\n",
    "print(missing_values)"
   ]
  },
  {
   "cell_type": "code",
   "execution_count": 5,
   "metadata": {},
   "outputs": [],
   "source": [
    "def detect_outliers_iqr(dataframe):\n",
    "    \"\"\"\n",
    "    Detecta outliers en todas las columnas numéricas de un DataFrame usando el método del rango intercuartílico (IQR).\n",
    "    \n",
    "    Parámetros:\n",
    "    - dataframe: DataFrame de pandas que contiene las variables numéricas.\n",
    "    \n",
    "    Retorna:\n",
    "    - Un DataFrame que contiene solo las filas que son consideradas outliers en alguna de las columnas numéricas.\n",
    "    \"\"\"\n",
    "    outliers_df = pd.DataFrame(columns=dataframe.columns)\n",
    "    \n",
    "    # Selecciona solo las columnas numéricas; en caso de que se haya ingresado un DataFrame con columnas categóricas\n",
    "    numeric_cols = dataframe.select_dtypes(include=['int64', 'float64'])\n",
    "    \n",
    "    for column in numeric_cols:\n",
    "        Q1 = dataframe[column].quantile(0.25)\n",
    "        Q3 = dataframe[column].quantile(0.75)\n",
    "        IQR = Q3 - Q1\n",
    "        lower_bound = Q1 - 1.5 * IQR\n",
    "        upper_bound = Q3 + 1.5 * IQR\n",
    "        \n",
    "        # Filtra los outliers\n",
    "        filter_outliers = (dataframe[column] < lower_bound) | (dataframe[column] > upper_bound)\n",
    "        outliers_in_column = dataframe[filter_outliers]\n",
    "        \n",
    "        # Agrega los outliers al DataFrame de outliers\n",
    "        outliers_df = pd.concat([outliers_df, outliers_in_column], axis=0).drop_duplicates().reset_index(drop=True)\n",
    "    \n",
    "    return outliers_df\n"
   ]
  },
  {
   "cell_type": "code",
   "execution_count": 6,
   "metadata": {},
   "outputs": [
    {
     "name": "stderr",
     "output_type": "stream",
     "text": [
      "C:\\Users\\ferna\\AppData\\Local\\Temp\\ipykernel_19936\\2658367427.py:28: FutureWarning: The behavior of DataFrame concatenation with empty or all-NA entries is deprecated. In a future version, this will no longer exclude empty or all-NA columns when determining the result dtypes. To retain the old behavior, exclude the relevant entries before the concat operation.\n",
      "  outliers_df = pd.concat([outliers_df, outliers_in_column], axis=0).drop_duplicates().reset_index(drop=True)\n"
     ]
    }
   ],
   "source": [
    "# %%capture --no-display\n",
    "# Detectando outliers en el DataFrame de variables numéricas\n",
    "outliers_df = detect_outliers_iqr(df)"
   ]
  },
  {
   "cell_type": "markdown",
   "metadata": {},
   "source": [
    "### Limpieza de Datos"
   ]
  },
  {
   "cell_type": "markdown",
   "metadata": {},
   "source": [
    "- Tratar los valores faltantes (imputación, eliminación de filas/columnas, etc.).\n",
    "- Identificar y manejar valores atípicos (outliers).\n",
    "- Manejar datos duplicados y/o inconsistentes."
   ]
  },
  {
   "cell_type": "markdown",
   "metadata": {},
   "source": [
    "#### Eliminación de outliers"
   ]
  },
  {
   "cell_type": "code",
   "execution_count": 7,
   "metadata": {},
   "outputs": [
    {
     "name": "stdout",
     "output_type": "stream",
     "text": [
      "<class 'pandas.core.frame.DataFrame'>\n",
      "RangeIndex: 55729 entries, 5340 to 61068\n",
      "Data columns (total 21 columns):\n",
      " #   Column                Non-Null Count  Dtype  \n",
      "---  ------                --------------  -----  \n",
      " 0   class                 55729 non-null  object \n",
      " 1   cap-diameter          55729 non-null  float64\n",
      " 2   cap-shape             55729 non-null  object \n",
      " 3   cap-surface           43419 non-null  object \n",
      " 4   cap-color             55729 non-null  object \n",
      " 5   does-bruise-or-bleed  55729 non-null  object \n",
      " 6   gill-attachment       47257 non-null  object \n",
      " 7   gill-spacing          33843 non-null  object \n",
      " 8   gill-color            55729 non-null  object \n",
      " 9   stem-height           55729 non-null  float64\n",
      " 10  stem-width            55729 non-null  float64\n",
      " 11  stem-root             8074 non-null   object \n",
      " 12  stem-surface          20474 non-null  object \n",
      " 13  stem-color            55729 non-null  object \n",
      " 14  veil-type             353 non-null    object \n",
      " 15  veil-color            4589 non-null   object \n",
      " 16  has-ring              55729 non-null  object \n",
      " 17  ring-type             53611 non-null  object \n",
      " 18  spore-print-color     6354 non-null   object \n",
      " 19  habitat               55729 non-null  object \n",
      " 20  season                55729 non-null  object \n",
      "dtypes: float64(3), object(18)\n",
      "memory usage: 8.9+ MB\n"
     ]
    }
   ],
   "source": [
    "# Eliminar filas con outliers del conjunto de datos original\n",
    "df_no_outliers = df.drop(outliers_df.index)\n",
    "df_no_outliers.info()"
   ]
  },
  {
   "cell_type": "markdown",
   "metadata": {},
   "source": [
    "#### Eliminación de Variables No Deseadas"
   ]
  },
  {
   "cell_type": "code",
   "execution_count": 8,
   "metadata": {},
   "outputs": [
    {
     "data": {
      "text/html": [
       "<div>\n",
       "<style scoped>\n",
       "    .dataframe tbody tr th:only-of-type {\n",
       "        vertical-align: middle;\n",
       "    }\n",
       "\n",
       "    .dataframe tbody tr th {\n",
       "        vertical-align: top;\n",
       "    }\n",
       "\n",
       "    .dataframe thead th {\n",
       "        text-align: right;\n",
       "    }\n",
       "</style>\n",
       "<table border=\"1\" class=\"dataframe\">\n",
       "  <thead>\n",
       "    <tr style=\"text-align: right;\">\n",
       "      <th></th>\n",
       "      <th>class</th>\n",
       "      <th>cap-diameter</th>\n",
       "      <th>cap-shape</th>\n",
       "      <th>cap-surface</th>\n",
       "      <th>cap-color</th>\n",
       "      <th>does-bruise-or-bleed</th>\n",
       "      <th>gill-attachment</th>\n",
       "      <th>gill-color</th>\n",
       "      <th>stem-height</th>\n",
       "      <th>stem-width</th>\n",
       "      <th>stem-color</th>\n",
       "      <th>has-ring</th>\n",
       "      <th>ring-type</th>\n",
       "      <th>habitat</th>\n",
       "      <th>season</th>\n",
       "    </tr>\n",
       "  </thead>\n",
       "  <tbody>\n",
       "    <tr>\n",
       "      <th>5340</th>\n",
       "      <td>e</td>\n",
       "      <td>9.58</td>\n",
       "      <td>f</td>\n",
       "      <td>NaN</td>\n",
       "      <td>g</td>\n",
       "      <td>f</td>\n",
       "      <td>s</td>\n",
       "      <td>g</td>\n",
       "      <td>7.46</td>\n",
       "      <td>21.69</td>\n",
       "      <td>u</td>\n",
       "      <td>f</td>\n",
       "      <td>f</td>\n",
       "      <td>g</td>\n",
       "      <td>w</td>\n",
       "    </tr>\n",
       "    <tr>\n",
       "      <th>5341</th>\n",
       "      <td>e</td>\n",
       "      <td>8.19</td>\n",
       "      <td>f</td>\n",
       "      <td>NaN</td>\n",
       "      <td>n</td>\n",
       "      <td>f</td>\n",
       "      <td>s</td>\n",
       "      <td>g</td>\n",
       "      <td>6.77</td>\n",
       "      <td>20.02</td>\n",
       "      <td>u</td>\n",
       "      <td>f</td>\n",
       "      <td>f</td>\n",
       "      <td>g</td>\n",
       "      <td>w</td>\n",
       "    </tr>\n",
       "    <tr>\n",
       "      <th>5342</th>\n",
       "      <td>e</td>\n",
       "      <td>9.04</td>\n",
       "      <td>f</td>\n",
       "      <td>NaN</td>\n",
       "      <td>g</td>\n",
       "      <td>f</td>\n",
       "      <td>s</td>\n",
       "      <td>g</td>\n",
       "      <td>7.00</td>\n",
       "      <td>21.65</td>\n",
       "      <td>u</td>\n",
       "      <td>f</td>\n",
       "      <td>f</td>\n",
       "      <td>g</td>\n",
       "      <td>w</td>\n",
       "    </tr>\n",
       "    <tr>\n",
       "      <th>5343</th>\n",
       "      <td>e</td>\n",
       "      <td>9.49</td>\n",
       "      <td>x</td>\n",
       "      <td>NaN</td>\n",
       "      <td>n</td>\n",
       "      <td>f</td>\n",
       "      <td>s</td>\n",
       "      <td>g</td>\n",
       "      <td>7.77</td>\n",
       "      <td>19.68</td>\n",
       "      <td>u</td>\n",
       "      <td>f</td>\n",
       "      <td>f</td>\n",
       "      <td>g</td>\n",
       "      <td>w</td>\n",
       "    </tr>\n",
       "    <tr>\n",
       "      <th>5344</th>\n",
       "      <td>e</td>\n",
       "      <td>10.01</td>\n",
       "      <td>x</td>\n",
       "      <td>NaN</td>\n",
       "      <td>n</td>\n",
       "      <td>f</td>\n",
       "      <td>s</td>\n",
       "      <td>g</td>\n",
       "      <td>7.62</td>\n",
       "      <td>21.06</td>\n",
       "      <td>u</td>\n",
       "      <td>f</td>\n",
       "      <td>f</td>\n",
       "      <td>g</td>\n",
       "      <td>a</td>\n",
       "    </tr>\n",
       "    <tr>\n",
       "      <th>5345</th>\n",
       "      <td>e</td>\n",
       "      <td>7.63</td>\n",
       "      <td>f</td>\n",
       "      <td>NaN</td>\n",
       "      <td>n</td>\n",
       "      <td>f</td>\n",
       "      <td>s</td>\n",
       "      <td>p</td>\n",
       "      <td>6.35</td>\n",
       "      <td>20.53</td>\n",
       "      <td>u</td>\n",
       "      <td>f</td>\n",
       "      <td>f</td>\n",
       "      <td>g</td>\n",
       "      <td>a</td>\n",
       "    </tr>\n",
       "    <tr>\n",
       "      <th>5346</th>\n",
       "      <td>e</td>\n",
       "      <td>7.80</td>\n",
       "      <td>f</td>\n",
       "      <td>NaN</td>\n",
       "      <td>n</td>\n",
       "      <td>f</td>\n",
       "      <td>s</td>\n",
       "      <td>p</td>\n",
       "      <td>5.52</td>\n",
       "      <td>18.09</td>\n",
       "      <td>u</td>\n",
       "      <td>f</td>\n",
       "      <td>f</td>\n",
       "      <td>d</td>\n",
       "      <td>a</td>\n",
       "    </tr>\n",
       "    <tr>\n",
       "      <th>5347</th>\n",
       "      <td>e</td>\n",
       "      <td>9.11</td>\n",
       "      <td>f</td>\n",
       "      <td>NaN</td>\n",
       "      <td>g</td>\n",
       "      <td>f</td>\n",
       "      <td>s</td>\n",
       "      <td>p</td>\n",
       "      <td>7.71</td>\n",
       "      <td>18.91</td>\n",
       "      <td>u</td>\n",
       "      <td>f</td>\n",
       "      <td>f</td>\n",
       "      <td>g</td>\n",
       "      <td>a</td>\n",
       "    </tr>\n",
       "    <tr>\n",
       "      <th>5348</th>\n",
       "      <td>e</td>\n",
       "      <td>6.72</td>\n",
       "      <td>f</td>\n",
       "      <td>NaN</td>\n",
       "      <td>n</td>\n",
       "      <td>f</td>\n",
       "      <td>s</td>\n",
       "      <td>p</td>\n",
       "      <td>6.90</td>\n",
       "      <td>19.54</td>\n",
       "      <td>u</td>\n",
       "      <td>f</td>\n",
       "      <td>f</td>\n",
       "      <td>g</td>\n",
       "      <td>a</td>\n",
       "    </tr>\n",
       "    <tr>\n",
       "      <th>5349</th>\n",
       "      <td>e</td>\n",
       "      <td>9.69</td>\n",
       "      <td>f</td>\n",
       "      <td>NaN</td>\n",
       "      <td>n</td>\n",
       "      <td>f</td>\n",
       "      <td>s</td>\n",
       "      <td>g</td>\n",
       "      <td>5.47</td>\n",
       "      <td>21.30</td>\n",
       "      <td>u</td>\n",
       "      <td>f</td>\n",
       "      <td>f</td>\n",
       "      <td>d</td>\n",
       "      <td>a</td>\n",
       "    </tr>\n",
       "  </tbody>\n",
       "</table>\n",
       "</div>"
      ],
      "text/plain": [
       "     class  cap-diameter cap-shape cap-surface cap-color does-bruise-or-bleed  \\\n",
       "5340     e          9.58         f         NaN         g                    f   \n",
       "5341     e          8.19         f         NaN         n                    f   \n",
       "5342     e          9.04         f         NaN         g                    f   \n",
       "5343     e          9.49         x         NaN         n                    f   \n",
       "5344     e         10.01         x         NaN         n                    f   \n",
       "5345     e          7.63         f         NaN         n                    f   \n",
       "5346     e          7.80         f         NaN         n                    f   \n",
       "5347     e          9.11         f         NaN         g                    f   \n",
       "5348     e          6.72         f         NaN         n                    f   \n",
       "5349     e          9.69         f         NaN         n                    f   \n",
       "\n",
       "     gill-attachment gill-color  stem-height  stem-width stem-color has-ring  \\\n",
       "5340               s          g         7.46       21.69          u        f   \n",
       "5341               s          g         6.77       20.02          u        f   \n",
       "5342               s          g         7.00       21.65          u        f   \n",
       "5343               s          g         7.77       19.68          u        f   \n",
       "5344               s          g         7.62       21.06          u        f   \n",
       "5345               s          p         6.35       20.53          u        f   \n",
       "5346               s          p         5.52       18.09          u        f   \n",
       "5347               s          p         7.71       18.91          u        f   \n",
       "5348               s          p         6.90       19.54          u        f   \n",
       "5349               s          g         5.47       21.30          u        f   \n",
       "\n",
       "     ring-type habitat season  \n",
       "5340         f       g      w  \n",
       "5341         f       g      w  \n",
       "5342         f       g      w  \n",
       "5343         f       g      w  \n",
       "5344         f       g      a  \n",
       "5345         f       g      a  \n",
       "5346         f       d      a  \n",
       "5347         f       g      a  \n",
       "5348         f       g      a  \n",
       "5349         f       d      a  "
      ]
     },
     "execution_count": 8,
     "metadata": {},
     "output_type": "execute_result"
    }
   ],
   "source": [
    "# Eliminar columnas con alto índice de registros nulos\n",
    "df_clean = df_no_outliers.drop(columns=['veil-type', 'spore-print-color', 'veil-color', 'stem-root', 'stem-surface', 'gill-spacing'])\n",
    "df_clean.head(10)"
   ]
  },
  {
   "cell_type": "markdown",
   "metadata": {},
   "source": [
    "### División de Datos"
   ]
  },
  {
   "cell_type": "markdown",
   "metadata": {},
   "source": [
    "#### Conjunto de Entrenamiento y Prueba"
   ]
  },
  {
   "cell_type": "code",
   "execution_count": 9,
   "metadata": {},
   "outputs": [
    {
     "data": {
      "text/html": [
       "<pre style=\"white-space:pre;overflow-x:auto;line-height:normal;font-family:Menlo,'DejaVu Sans Mono',consolas,'Courier New',monospace\">Tamaño del conjunto de entrenamiento:\n",
       "<span style=\"font-weight: bold\">(</span><span style=\"color: #008080; text-decoration-color: #008080; font-weight: bold\">44583</span>, <span style=\"color: #008080; text-decoration-color: #008080; font-weight: bold\">14</span><span style=\"font-weight: bold\">)</span>\n",
       "</pre>\n"
      ],
      "text/plain": [
       "Tamaño del conjunto de entrenamiento:\n",
       "\u001b[1m(\u001b[0m\u001b[1;36m44583\u001b[0m, \u001b[1;36m14\u001b[0m\u001b[1m)\u001b[0m\n"
      ]
     },
     "metadata": {},
     "output_type": "display_data"
    },
    {
     "data": {
      "text/html": [
       "<pre style=\"white-space:pre;overflow-x:auto;line-height:normal;font-family:Menlo,'DejaVu Sans Mono',consolas,'Courier New',monospace\">Tamaño del conjunto de prueba:\n",
       "<span style=\"font-weight: bold\">(</span><span style=\"color: #008080; text-decoration-color: #008080; font-weight: bold\">11146</span>, <span style=\"color: #008080; text-decoration-color: #008080; font-weight: bold\">14</span><span style=\"font-weight: bold\">)</span>\n",
       "</pre>\n"
      ],
      "text/plain": [
       "Tamaño del conjunto de prueba:\n",
       "\u001b[1m(\u001b[0m\u001b[1;36m11146\u001b[0m, \u001b[1;36m14\u001b[0m\u001b[1m)\u001b[0m\n"
      ]
     },
     "metadata": {},
     "output_type": "display_data"
    }
   ],
   "source": [
    "# División de datos en variables independientes (X) y dependientes (y)\n",
    "X = df_clean.drop('class', axis=1)  # Características o variables independientes\n",
    "y = df_clean['class']  # Variable objetivo o dependiente\n",
    "\n",
    "# División en conjunto de entrenamiento (80%) y prueba (20%)\n",
    "X_train, X_test, y_train, y_test = train_test_split(X, y, test_size=0.2, stratify=y, random_state=42)\n",
    "\n",
    "# Imprimir información sobre la división de datos\n",
    "print(\"Tamaño del conjunto de entrenamiento:\", X_train.shape)\n",
    "print(\"Tamaño del conjunto de prueba:\", X_test.shape)"
   ]
  },
  {
   "cell_type": "markdown",
   "metadata": {},
   "source": [
    "#### Conjunto de Entrenamiento: Variables Numéricas y Categóricas"
   ]
  },
  {
   "cell_type": "code",
   "execution_count": 10,
   "metadata": {},
   "outputs": [],
   "source": [
    "# Identificar características numéricas y categóricas en el conjunto de entrenamiento\n",
    "numeric_features = X_train.select_dtypes(include=['int64', 'float64']).columns\n",
    "categorical_features = X_train.select_dtypes(include=['object']).columns"
   ]
  },
  {
   "cell_type": "code",
   "execution_count": 11,
   "metadata": {},
   "outputs": [],
   "source": [
    "def get_feature_names_out_with_mapping(preprocessor):\n",
    "  \"\"\"\n",
    "  Extrae los nombres de las features transformadas y crea un diccionario con la \n",
    "  correspondencia entre nombres originales y transformados.\n",
    "\n",
    "  Parámetros:\n",
    "    preprocessor: Objeto ColumnTransformer ya ajustado.\n",
    "\n",
    "  Retorno:\n",
    "    - feature_names: Lista con nombres de features transformadas.\n",
    "    - feature_mapping: Diccionario con la correspondencia entre nombres originales \n",
    "      y transformados.\n",
    "  \"\"\"\n",
    "  feature_names = preprocessor.get_feature_names_out()\n",
    "  feature_mapping = {}\n",
    "\n",
    "  for i, name in enumerate(feature_names):\n",
    "    if name.startswith('numeric__'):\n",
    "      original_name = name.split('__')[1]\n",
    "      feature_mapping[i] = original_name\n",
    "    elif name.startswith('categorical__'):\n",
    "      original_name = name.split('__')[1].split('_')[0]\n",
    "      feature_mapping[i] = original_name\n",
    "\n",
    "  return feature_mapping\n"
   ]
  },
  {
   "cell_type": "code",
   "execution_count": 12,
   "metadata": {},
   "outputs": [],
   "source": [
    "class CustomPreprocessor(BaseEstimator, TransformerMixin):\n",
    "    def __init__(self, numeric_transformer, categorical_transformer, numeric_features, categorical_features):\n",
    "        self.numeric_transformer = numeric_transformer\n",
    "        self.categorical_transformer = categorical_transformer\n",
    "        self.numeric_features = numeric_features\n",
    "        self.categorical_features = categorical_features\n",
    "        self.preprocessor = None\n",
    "        self.feature_mapping = {}\n",
    "\n",
    "    def fit(self, X, y=None):\n",
    "        self.preprocessor = ColumnTransformer(\n",
    "            transformers=[\n",
    "                ('numeric', self.numeric_transformer, self.numeric_features),\n",
    "                ('categorical', self.categorical_transformer, self.categorical_features)\n",
    "            ])\n",
    "        self.preprocessor.fit(X)\n",
    "        self.feature_mapping = self.get_feature_names_out_with_mapping()\n",
    "        return self\n",
    "\n",
    "    def transform(self, X):\n",
    "        return self.preprocessor.transform(X)\n",
    "\n",
    "    def get_feature_names_out_with_mapping(self):\n",
    "        feature_names = self.preprocessor.get_feature_names_out()\n",
    "        feature_mapping = {}\n",
    "        for i, name in enumerate(feature_names):\n",
    "            if name.startswith('numeric__'):\n",
    "                original_name = name.split('__')[1]\n",
    "                feature_mapping[i] = original_name\n",
    "            elif name.startswith('categorical__'):\n",
    "                original_name = name.split('__')[1].split('_')[0]\n",
    "                feature_mapping[i] = original_name\n",
    "        return feature_mapping"
   ]
  },
  {
   "cell_type": "markdown",
   "metadata": {},
   "source": [
    "### Transformación de Datos"
   ]
  },
  {
   "cell_type": "code",
   "execution_count": 13,
   "metadata": {},
   "outputs": [],
   "source": [
    "# Definir transformadores para variables numéricas y categóricas\n",
    "numeric_transformer = Pipeline(steps=[\n",
    "    ('imputer', SimpleImputer(strategy='median')),  # Imputación utilizando la mediana, debido a la distribución sesgada de los datos\n",
    "    ('standard_scaler', StandardScaler()),  # Estandarización\n",
    "    ('min_max_scaler', MinMaxScaler())  # Normalización\n",
    "])\n",
    "\n",
    "categorical_transformer = Pipeline(steps=[\n",
    "    ('imputer', SimpleImputer(strategy='most_frequent')),  # Imputación utilizando la moda\n",
    "    ('encoder', OneHotEncoder(handle_unknown='ignore'))  # Codificación utilizando OneHotEncoder, solo tenemos variables categóricas nominales\n",
    "])"
   ]
  },
  {
   "cell_type": "code",
   "execution_count": 14,
   "metadata": {},
   "outputs": [],
   "source": [
    "# Crear el preprocesador con ColumnTransformer\n",
    "preprocessor = ColumnTransformer(\n",
    "    transformers=[\n",
    "        ('numeric', numeric_transformer, numeric_features),\n",
    "        ('categorical', categorical_transformer, categorical_features)\n",
    "    ])\n",
    "\n",
    "# %%\n",
    "# Ajusta el preprocesador solo en el conjunto de entrenamiento\n",
    "preprocessor.fit(X_train)\n",
    "\n",
    "# Transforma los conjuntos de entrenamiento, validación y prueba\n",
    "X_train_transformed = preprocessor.transform(X_train)\n",
    "X_test_transformed = preprocessor.transform(X_test)\n"
   ]
  },
  {
   "cell_type": "code",
   "execution_count": 15,
   "metadata": {},
   "outputs": [],
   "source": [
    "# Crear una instancia del transformador personalizado\n",
    "custom_preprocessor = CustomPreprocessor(numeric_transformer, categorical_transformer, numeric_features, categorical_features)\n",
    "\n",
    "# Ajusta el transformador personalizado solo en el conjunto de entrenamiento\n",
    "custom_preprocessor.fit(X_train)\n",
    "\n",
    "# Transforma los conjuntos de entrenamiento, validación y prueba\n",
    "X_train_transformed = custom_preprocessor.transform(X_train)\n",
    "X_test_transformed = custom_preprocessor.transform(X_test)"
   ]
  },
  {
   "cell_type": "code",
   "execution_count": 16,
   "metadata": {},
   "outputs": [],
   "source": [
    "# Obtiene los nombres de las características transformadas y el mapeo de características\n",
    "feature_names = custom_preprocessor.preprocessor.get_feature_names_out()\n",
    "feature_mapping = custom_preprocessor.feature_mapping"
   ]
  },
  {
   "cell_type": "code",
   "execution_count": 17,
   "metadata": {},
   "outputs": [],
   "source": [
    "# Convierte las matrices dispersas a matrices densas y crea DataFrames\n",
    "X_train_transformed = pd.DataFrame(X_train_transformed.toarray(), columns=feature_names)\n",
    "X_test_transformed = pd.DataFrame(X_test_transformed.toarray(), columns=feature_names)"
   ]
  },
  {
   "cell_type": "code",
   "execution_count": 18,
   "metadata": {},
   "outputs": [],
   "source": [
    "# Identify numeric and categorical features in the transformed training set\n",
    "numeric_features = [col for col in feature_names if col.startswith('numeric__')]\n",
    "categorical_features = [col for col in feature_names if col.startswith('categorical__')]"
   ]
  },
  {
   "cell_type": "code",
   "execution_count": 19,
   "metadata": {},
   "outputs": [],
   "source": [
    "# Create an instance of the custom transformer\n",
    "custom_preprocessor = CustomPreprocessor(numeric_transformer, categorical_transformer, numeric_features, categorical_features)"
   ]
  },
  {
   "cell_type": "code",
   "execution_count": 20,
   "metadata": {},
   "outputs": [],
   "source": [
    "# Crear el pipeline con el preprocesador y el modelo de regresión logística\n",
    "baseline_pipeline = Pipeline([\n",
    "    ('preprocessor', custom_preprocessor),\n",
    "    ('classifier', LogisticRegression(max_iter=1000))\n",
    "])"
   ]
  },
  {
   "cell_type": "code",
   "execution_count": 21,
   "metadata": {},
   "outputs": [
    {
     "data": {
      "text/html": [
       "<div>\n",
       "<style scoped>\n",
       "    .dataframe tbody tr th:only-of-type {\n",
       "        vertical-align: middle;\n",
       "    }\n",
       "\n",
       "    .dataframe tbody tr th {\n",
       "        vertical-align: top;\n",
       "    }\n",
       "\n",
       "    .dataframe thead th {\n",
       "        text-align: right;\n",
       "    }\n",
       "</style>\n",
       "<table border=\"1\" class=\"dataframe\">\n",
       "  <thead>\n",
       "    <tr style=\"text-align: right;\">\n",
       "      <th></th>\n",
       "      <th>numeric__cap-diameter</th>\n",
       "      <th>numeric__stem-height</th>\n",
       "      <th>numeric__stem-width</th>\n",
       "      <th>categorical__cap-shape_b</th>\n",
       "      <th>categorical__cap-shape_c</th>\n",
       "      <th>categorical__cap-shape_f</th>\n",
       "      <th>categorical__cap-shape_o</th>\n",
       "      <th>categorical__cap-shape_p</th>\n",
       "      <th>categorical__cap-shape_s</th>\n",
       "      <th>categorical__cap-shape_x</th>\n",
       "      <th>...</th>\n",
       "      <th>categorical__habitat_h</th>\n",
       "      <th>categorical__habitat_l</th>\n",
       "      <th>categorical__habitat_m</th>\n",
       "      <th>categorical__habitat_p</th>\n",
       "      <th>categorical__habitat_u</th>\n",
       "      <th>categorical__habitat_w</th>\n",
       "      <th>categorical__season_a</th>\n",
       "      <th>categorical__season_s</th>\n",
       "      <th>categorical__season_u</th>\n",
       "      <th>categorical__season_w</th>\n",
       "    </tr>\n",
       "  </thead>\n",
       "  <tbody>\n",
       "    <tr>\n",
       "      <th>0</th>\n",
       "      <td>0.119432</td>\n",
       "      <td>0.275045</td>\n",
       "      <td>0.178905</td>\n",
       "      <td>0.0</td>\n",
       "      <td>0.0</td>\n",
       "      <td>0.0</td>\n",
       "      <td>0.0</td>\n",
       "      <td>0.0</td>\n",
       "      <td>0.0</td>\n",
       "      <td>1.0</td>\n",
       "      <td>...</td>\n",
       "      <td>0.0</td>\n",
       "      <td>0.0</td>\n",
       "      <td>0.0</td>\n",
       "      <td>0.0</td>\n",
       "      <td>0.0</td>\n",
       "      <td>0.0</td>\n",
       "      <td>1.0</td>\n",
       "      <td>0.0</td>\n",
       "      <td>0.0</td>\n",
       "      <td>0.0</td>\n",
       "    </tr>\n",
       "    <tr>\n",
       "      <th>1</th>\n",
       "      <td>0.095223</td>\n",
       "      <td>0.089767</td>\n",
       "      <td>0.211144</td>\n",
       "      <td>0.0</td>\n",
       "      <td>0.0</td>\n",
       "      <td>0.0</td>\n",
       "      <td>1.0</td>\n",
       "      <td>0.0</td>\n",
       "      <td>0.0</td>\n",
       "      <td>0.0</td>\n",
       "      <td>...</td>\n",
       "      <td>0.0</td>\n",
       "      <td>0.0</td>\n",
       "      <td>0.0</td>\n",
       "      <td>0.0</td>\n",
       "      <td>0.0</td>\n",
       "      <td>0.0</td>\n",
       "      <td>0.0</td>\n",
       "      <td>0.0</td>\n",
       "      <td>1.0</td>\n",
       "      <td>0.0</td>\n",
       "    </tr>\n",
       "    <tr>\n",
       "      <th>2</th>\n",
       "      <td>0.018560</td>\n",
       "      <td>0.075045</td>\n",
       "      <td>0.024733</td>\n",
       "      <td>0.0</td>\n",
       "      <td>0.0</td>\n",
       "      <td>0.0</td>\n",
       "      <td>0.0</td>\n",
       "      <td>0.0</td>\n",
       "      <td>0.0</td>\n",
       "      <td>1.0</td>\n",
       "      <td>...</td>\n",
       "      <td>0.0</td>\n",
       "      <td>0.0</td>\n",
       "      <td>0.0</td>\n",
       "      <td>0.0</td>\n",
       "      <td>0.0</td>\n",
       "      <td>0.0</td>\n",
       "      <td>1.0</td>\n",
       "      <td>0.0</td>\n",
       "      <td>0.0</td>\n",
       "      <td>0.0</td>\n",
       "    </tr>\n",
       "    <tr>\n",
       "      <th>3</th>\n",
       "      <td>0.136378</td>\n",
       "      <td>0.222980</td>\n",
       "      <td>0.172264</td>\n",
       "      <td>0.0</td>\n",
       "      <td>0.0</td>\n",
       "      <td>0.0</td>\n",
       "      <td>0.0</td>\n",
       "      <td>0.0</td>\n",
       "      <td>1.0</td>\n",
       "      <td>0.0</td>\n",
       "      <td>...</td>\n",
       "      <td>0.0</td>\n",
       "      <td>0.0</td>\n",
       "      <td>0.0</td>\n",
       "      <td>0.0</td>\n",
       "      <td>0.0</td>\n",
       "      <td>0.0</td>\n",
       "      <td>0.0</td>\n",
       "      <td>0.0</td>\n",
       "      <td>1.0</td>\n",
       "      <td>0.0</td>\n",
       "    </tr>\n",
       "    <tr>\n",
       "      <th>4</th>\n",
       "      <td>0.137024</td>\n",
       "      <td>0.595332</td>\n",
       "      <td>0.168800</td>\n",
       "      <td>0.0</td>\n",
       "      <td>0.0</td>\n",
       "      <td>0.0</td>\n",
       "      <td>0.0</td>\n",
       "      <td>1.0</td>\n",
       "      <td>0.0</td>\n",
       "      <td>0.0</td>\n",
       "      <td>...</td>\n",
       "      <td>0.0</td>\n",
       "      <td>0.0</td>\n",
       "      <td>0.0</td>\n",
       "      <td>0.0</td>\n",
       "      <td>0.0</td>\n",
       "      <td>0.0</td>\n",
       "      <td>1.0</td>\n",
       "      <td>0.0</td>\n",
       "      <td>0.0</td>\n",
       "      <td>0.0</td>\n",
       "    </tr>\n",
       "  </tbody>\n",
       "</table>\n",
       "<p>5 rows × 86 columns</p>\n",
       "</div>"
      ],
      "text/plain": [
       "   numeric__cap-diameter  numeric__stem-height  numeric__stem-width  \\\n",
       "0               0.119432              0.275045             0.178905   \n",
       "1               0.095223              0.089767             0.211144   \n",
       "2               0.018560              0.075045             0.024733   \n",
       "3               0.136378              0.222980             0.172264   \n",
       "4               0.137024              0.595332             0.168800   \n",
       "\n",
       "   categorical__cap-shape_b  categorical__cap-shape_c  \\\n",
       "0                       0.0                       0.0   \n",
       "1                       0.0                       0.0   \n",
       "2                       0.0                       0.0   \n",
       "3                       0.0                       0.0   \n",
       "4                       0.0                       0.0   \n",
       "\n",
       "   categorical__cap-shape_f  categorical__cap-shape_o  \\\n",
       "0                       0.0                       0.0   \n",
       "1                       0.0                       1.0   \n",
       "2                       0.0                       0.0   \n",
       "3                       0.0                       0.0   \n",
       "4                       0.0                       0.0   \n",
       "\n",
       "   categorical__cap-shape_p  categorical__cap-shape_s  \\\n",
       "0                       0.0                       0.0   \n",
       "1                       0.0                       0.0   \n",
       "2                       0.0                       0.0   \n",
       "3                       0.0                       1.0   \n",
       "4                       1.0                       0.0   \n",
       "\n",
       "   categorical__cap-shape_x  ...  categorical__habitat_h  \\\n",
       "0                       1.0  ...                     0.0   \n",
       "1                       0.0  ...                     0.0   \n",
       "2                       1.0  ...                     0.0   \n",
       "3                       0.0  ...                     0.0   \n",
       "4                       0.0  ...                     0.0   \n",
       "\n",
       "   categorical__habitat_l  categorical__habitat_m  categorical__habitat_p  \\\n",
       "0                     0.0                     0.0                     0.0   \n",
       "1                     0.0                     0.0                     0.0   \n",
       "2                     0.0                     0.0                     0.0   \n",
       "3                     0.0                     0.0                     0.0   \n",
       "4                     0.0                     0.0                     0.0   \n",
       "\n",
       "   categorical__habitat_u  categorical__habitat_w  categorical__season_a  \\\n",
       "0                     0.0                     0.0                    1.0   \n",
       "1                     0.0                     0.0                    0.0   \n",
       "2                     0.0                     0.0                    1.0   \n",
       "3                     0.0                     0.0                    0.0   \n",
       "4                     0.0                     0.0                    1.0   \n",
       "\n",
       "   categorical__season_s  categorical__season_u  categorical__season_w  \n",
       "0                    0.0                    0.0                    0.0  \n",
       "1                    0.0                    1.0                    0.0  \n",
       "2                    0.0                    0.0                    0.0  \n",
       "3                    0.0                    1.0                    0.0  \n",
       "4                    0.0                    0.0                    0.0  \n",
       "\n",
       "[5 rows x 86 columns]"
      ]
     },
     "execution_count": 21,
     "metadata": {},
     "output_type": "execute_result"
    }
   ],
   "source": [
    "X_train_transformed.head()"
   ]
  },
  {
   "cell_type": "markdown",
   "metadata": {},
   "source": [
    "### Entrenamiento y Validación del Modelo"
   ]
  },
  {
   "cell_type": "code",
   "execution_count": 22,
   "metadata": {},
   "outputs": [],
   "source": [
    "# Entrenar el modelo base de regresión logística utilizando el conjunto de entrenamiento transformado\n",
    "baseline_model = baseline_pipeline.fit(X_train_transformed, y_train)"
   ]
  },
  {
   "cell_type": "markdown",
   "metadata": {},
   "source": [
    "### Evaluación del Modelo (Baseline)"
   ]
  },
  {
   "cell_type": "code",
   "execution_count": 23,
   "metadata": {},
   "outputs": [],
   "source": [
    "# Realizar predicciones utilizando el conjunto de prueba transformado\n",
    "y_pred = baseline_model.predict(X_test_transformed)"
   ]
  },
  {
   "cell_type": "code",
   "execution_count": 24,
   "metadata": {},
   "outputs": [
    {
     "data": {
      "text/html": [
       "<pre style=\"white-space:pre;overflow-x:auto;line-height:normal;font-family:Menlo,'DejaVu Sans Mono',consolas,'Courier New',monospace\">Accuracy: <span style=\"color: #008080; text-decoration-color: #008080; font-weight: bold\">0.802888928763682</span>\n",
       "</pre>\n"
      ],
      "text/plain": [
       "Accuracy: \u001b[1;36m0.802888928763682\u001b[0m\n"
      ]
     },
     "metadata": {},
     "output_type": "display_data"
    },
    {
     "data": {
      "text/html": [
       "<pre style=\"white-space:pre;overflow-x:auto;line-height:normal;font-family:Menlo,'DejaVu Sans Mono',consolas,'Courier New',monospace\">Precision: <span style=\"color: #008080; text-decoration-color: #008080; font-weight: bold\">0.8277465918203689</span>\n",
       "</pre>\n"
      ],
      "text/plain": [
       "Precision: \u001b[1;36m0.8277465918203689\u001b[0m\n"
      ]
     },
     "metadata": {},
     "output_type": "display_data"
    },
    {
     "data": {
      "text/html": [
       "<pre style=\"white-space:pre;overflow-x:auto;line-height:normal;font-family:Menlo,'DejaVu Sans Mono',consolas,'Courier New',monospace\">Recall: <span style=\"color: #008080; text-decoration-color: #008080; font-weight: bold\">0.8212921705919797</span>\n",
       "</pre>\n"
      ],
      "text/plain": [
       "Recall: \u001b[1;36m0.8212921705919797\u001b[0m\n"
      ]
     },
     "metadata": {},
     "output_type": "display_data"
    },
    {
     "data": {
      "text/html": [
       "<pre style=\"white-space:pre;overflow-x:auto;line-height:normal;font-family:Menlo,'DejaVu Sans Mono',consolas,'Courier New',monospace\">F1-score: <span style=\"color: #008080; text-decoration-color: #008080; font-weight: bold\">0.8245067497403946</span>\n",
       "</pre>\n"
      ],
      "text/plain": [
       "F1-score: \u001b[1;36m0.8245067497403946\u001b[0m\n"
      ]
     },
     "metadata": {},
     "output_type": "display_data"
    },
    {
     "data": {
      "text/html": [
       "<pre style=\"white-space:pre;overflow-x:auto;line-height:normal;font-family:Menlo,'DejaVu Sans Mono',consolas,'Courier New',monospace\">AUC-ROC: <span style=\"color: #008080; text-decoration-color: #008080; font-weight: bold\">0.8796573460612851</span>\n",
       "</pre>\n"
      ],
      "text/plain": [
       "AUC-ROC: \u001b[1;36m0.8796573460612851\u001b[0m\n"
      ]
     },
     "metadata": {},
     "output_type": "display_data"
    },
    {
     "data": {
      "text/html": [
       "<pre style=\"white-space:pre;overflow-x:auto;line-height:normal;font-family:Menlo,'DejaVu Sans Mono',consolas,'Courier New',monospace\">\n",
       "Confusion Matrix:\n",
       " <span style=\"font-weight: bold\">[[</span><span style=\"color: #008080; text-decoration-color: #008080; font-weight: bold\">3788</span> <span style=\"color: #008080; text-decoration-color: #008080; font-weight: bold\">1074</span><span style=\"font-weight: bold\">]</span>\n",
       " <span style=\"font-weight: bold\">[</span><span style=\"color: #008080; text-decoration-color: #008080; font-weight: bold\">1123</span> <span style=\"color: #008080; text-decoration-color: #008080; font-weight: bold\">5161</span><span style=\"font-weight: bold\">]]</span>\n",
       "</pre>\n"
      ],
      "text/plain": [
       "\n",
       "Confusion Matrix:\n",
       " \u001b[1m[\u001b[0m\u001b[1m[\u001b[0m\u001b[1;36m3788\u001b[0m \u001b[1;36m1074\u001b[0m\u001b[1m]\u001b[0m\n",
       " \u001b[1m[\u001b[0m\u001b[1;36m1123\u001b[0m \u001b[1;36m5161\u001b[0m\u001b[1m]\u001b[0m\u001b[1m]\u001b[0m\n"
      ]
     },
     "metadata": {},
     "output_type": "display_data"
    },
    {
     "data": {
      "text/html": [
       "<pre style=\"white-space:pre;overflow-x:auto;line-height:normal;font-family:Menlo,'DejaVu Sans Mono',consolas,'Courier New',monospace\">\n",
       "Classification Report:\n",
       "               precision    recall  f1-score   support\n",
       "\n",
       "           e       <span style=\"color: #008080; text-decoration-color: #008080; font-weight: bold\">0.77</span>      <span style=\"color: #008080; text-decoration-color: #008080; font-weight: bold\">0.78</span>      <span style=\"color: #008080; text-decoration-color: #008080; font-weight: bold\">0.78</span>      <span style=\"color: #008080; text-decoration-color: #008080; font-weight: bold\">4862</span>\n",
       "           p       <span style=\"color: #008080; text-decoration-color: #008080; font-weight: bold\">0.83</span>      <span style=\"color: #008080; text-decoration-color: #008080; font-weight: bold\">0.82</span>      <span style=\"color: #008080; text-decoration-color: #008080; font-weight: bold\">0.82</span>      <span style=\"color: #008080; text-decoration-color: #008080; font-weight: bold\">6284</span>\n",
       "\n",
       "    accuracy                           <span style=\"color: #008080; text-decoration-color: #008080; font-weight: bold\">0.80</span>     <span style=\"color: #008080; text-decoration-color: #008080; font-weight: bold\">11146</span>\n",
       "   macro avg       <span style=\"color: #008080; text-decoration-color: #008080; font-weight: bold\">0.80</span>      <span style=\"color: #008080; text-decoration-color: #008080; font-weight: bold\">0.80</span>      <span style=\"color: #008080; text-decoration-color: #008080; font-weight: bold\">0.80</span>     <span style=\"color: #008080; text-decoration-color: #008080; font-weight: bold\">11146</span>\n",
       "weighted avg       <span style=\"color: #008080; text-decoration-color: #008080; font-weight: bold\">0.80</span>      <span style=\"color: #008080; text-decoration-color: #008080; font-weight: bold\">0.80</span>      <span style=\"color: #008080; text-decoration-color: #008080; font-weight: bold\">0.80</span>     <span style=\"color: #008080; text-decoration-color: #008080; font-weight: bold\">11146</span>\n",
       "\n",
       "</pre>\n"
      ],
      "text/plain": [
       "\n",
       "Classification Report:\n",
       "               precision    recall  f1-score   support\n",
       "\n",
       "           e       \u001b[1;36m0.77\u001b[0m      \u001b[1;36m0.78\u001b[0m      \u001b[1;36m0.78\u001b[0m      \u001b[1;36m4862\u001b[0m\n",
       "           p       \u001b[1;36m0.83\u001b[0m      \u001b[1;36m0.82\u001b[0m      \u001b[1;36m0.82\u001b[0m      \u001b[1;36m6284\u001b[0m\n",
       "\n",
       "    accuracy                           \u001b[1;36m0.80\u001b[0m     \u001b[1;36m11146\u001b[0m\n",
       "   macro avg       \u001b[1;36m0.80\u001b[0m      \u001b[1;36m0.80\u001b[0m      \u001b[1;36m0.80\u001b[0m     \u001b[1;36m11146\u001b[0m\n",
       "weighted avg       \u001b[1;36m0.80\u001b[0m      \u001b[1;36m0.80\u001b[0m      \u001b[1;36m0.80\u001b[0m     \u001b[1;36m11146\u001b[0m\n",
       "\n"
      ]
     },
     "metadata": {},
     "output_type": "display_data"
    }
   ],
   "source": [
    "# Evaluar el rendimiento del modelo base en el conjunto de prueba\n",
    "accuracy = accuracy_score(y_test, y_pred)\n",
    "precision = precision_score(y_test, y_pred, pos_label='p')\n",
    "recall = recall_score(y_test, y_pred, pos_label='p')\n",
    "f1 = f1_score(y_test, y_pred, pos_label='p')\n",
    "auc_roc = roc_auc_score(y_test, baseline_model.predict_proba(X_test_transformed)[:, 1])\n",
    "conf_matrix = confusion_matrix(y_test, y_pred)\n",
    "class_report = classification_report(y_test, y_pred)\n",
    "\n",
    "# Imprimir los resultados\n",
    "print(\"Accuracy:\", accuracy)\n",
    "print(\"Precision:\", precision)\n",
    "print(\"Recall:\", recall)\n",
    "print(\"F1-score:\", f1)\n",
    "print(\"AUC-ROC:\", auc_roc)\n",
    "print(\"\\nConfusion Matrix:\\n\", conf_matrix)\n",
    "print(\"\\nClassification Report:\\n\", class_report)"
   ]
  },
  {
   "cell_type": "code",
   "execution_count": 25,
   "metadata": {},
   "outputs": [
    {
     "data": {
      "image/png": "[encoded data removed]",
      "text/plain": [
       "<Figure size 800x600 with 2 Axes>"
      ]
     },
     "metadata": {},
     "output_type": "display_data"
    }
   ],
   "source": [
    "# Visualizar la matriz de confusión\n",
    "plt.figure(figsize=(8, 6))\n",
    "sns.heatmap(conf_matrix, annot=True, fmt='d', cmap='Blues')\n",
    "plt.xlabel('Predicted')\n",
    "plt.ylabel('Actual')\n",
    "plt.title('Confusion Matrix')\n",
    "plt.savefig('confusion_matrix_baseline.png')  # Save the confusion matrix plot\n",
    "plt.show()"
   ]
  },
  {
   "cell_type": "markdown",
   "metadata": {},
   "source": [
    "### Set Up MLflow"
   ]
  },
  {
   "cell_type": "code",
   "execution_count": 26,
   "metadata": {},
   "outputs": [],
   "source": [
    "def setup_mlflow_tracking(mlruns_path, experiment_name, tags=None):\n",
    "    \"\"\"\n",
    "    Sets up MLflow tracking with a local file storage backend.\n",
    "    Creates an experiment if it doesn't exist.\n",
    "\n",
    "    Args:\n",
    "        mlruns_path (str): The path to the mlruns directory.\n",
    "        experiment_name (str): The name of the experiment.\n",
    "\n",
    "    Returns:\n",
    "        mlflow.entities.Experiment: The active MLflow experiment.\n",
    "    \"\"\"\n",
    "\n",
    "    tracking_uri = \"file:///\" + os.path.abspath(mlruns_path)\n",
    "    os.environ[\"MLFLOW_TRACKING_URI\"] = tracking_uri\n",
    "    mlflow.set_tracking_uri(tracking_uri)\n",
    "\n",
    "    print(f\"MLflow Tracking URI: {tracking_uri}\")\n",
    "\n",
    "    experiment = mlflow.get_experiment_by_name(experiment_name)\n",
    "    if experiment:\n",
    "        print(f\"Existing experiment found: {experiment.name}\")\n",
    "    else:\n",
    "        experiment = mlflow.create_experiment(\n",
    "            experiment_name, artifact_location=mlruns_path, tags=tags\n",
    "        )\n",
    "        print(f\"New experiment created: {experiment.experiment_id}\")\n",
    "\n",
    "    mlflow.set_experiment(experiment.experiment_id)  \n",
    "    return experiment\n"
   ]
  },
  {
   "cell_type": "code",
   "execution_count": 27,
   "metadata": {},
   "outputs": [
    {
     "data": {
      "text/html": [
       "<pre style=\"white-space:pre;overflow-x:auto;line-height:normal;font-family:Menlo,'DejaVu Sans Mono',consolas,'Courier New',monospace\">MLflow Tracking URI: <span style=\"color: #0000ff; text-decoration-color: #0000ff; text-decoration: underline\">file:///c:</span>\\Users\\ferna\\.vscode\\GitHub\\a01110946\\MushroomDataset\\mlruns\n",
       "</pre>\n"
      ],
      "text/plain": [
       "MLflow Tracking URI: \u001b[4;94mfile:///c:\u001b[0m\\Users\\ferna\\.vscode\\GitHub\\a01110946\\MushroomDataset\\mlruns\n"
      ]
     },
     "metadata": {},
     "output_type": "display_data"
    },
    {
     "data": {
      "text/html": [
       "<pre style=\"white-space:pre;overflow-x:auto;line-height:normal;font-family:Menlo,'DejaVu Sans Mono',consolas,'Courier New',monospace\">Existing experiment found: mushroom_classification\n",
       "</pre>\n"
      ],
      "text/plain": [
       "Existing experiment found: mushroom_classification\n"
      ]
     },
     "metadata": {},
     "output_type": "display_data"
    }
   ],
   "source": [
    "mlruns_path = 'c:/Users/ferna/.vscode/GitHub/a01110946/MushroomDataset/mlruns'\n",
    "experiment_name = \"mushroom_classification\"\n",
    "tags = {\"data\": \"mushrooms\"}\n",
    "\n",
    "experiment = setup_mlflow_tracking(mlruns_path, experiment_name)"
   ]
  },
  {
   "cell_type": "code",
   "execution_count": 28,
   "metadata": {},
   "outputs": [
    {
     "data": {
      "text/html": [
       "<pre style=\"white-space:pre;overflow-x:auto;line-height:normal;font-family:Menlo,'DejaVu Sans Mono',consolas,'Courier New',monospace\">Artifact URI: \n",
       "<span style=\"color: #0000ff; text-decoration-color: #0000ff; text-decoration: underline\">file:///c:</span>\\Users\\ferna\\.vscode\\GitHub\\a01110946\\MushroomDataset\\mlruns/<span style=\"color: #008080; text-decoration-color: #008080; font-weight: bold\">683075790092034796</span>/1d2b569cb0944105ab7c3e53e\n",
       "685f833/artifacts\n",
       "</pre>\n"
      ],
      "text/plain": [
       "Artifact URI: \n",
       "\u001b[4;94mfile:///c:\u001b[0m\\Users\\ferna\\.vscode\\GitHub\\a01110946\\MushroomDataset\\mlruns/\u001b[1;36m683075790092034796\u001b[0m/1d2b569cb0944105ab7c3e53e\n",
       "685f833/artifacts\n"
      ]
     },
     "metadata": {},
     "output_type": "display_data"
    },
    {
     "data": {
      "text/html": [
       "<pre style=\"white-space:pre;overflow-x:auto;line-height:normal;font-family:Menlo,'DejaVu Sans Mono',consolas,'Courier New',monospace\">Experiment Name: mushroom_classification\n",
       "</pre>\n"
      ],
      "text/plain": [
       "Experiment Name: mushroom_classification\n"
      ]
     },
     "metadata": {},
     "output_type": "display_data"
    },
    {
     "data": {
      "text/html": [
       "<pre style=\"white-space:pre;overflow-x:auto;line-height:normal;font-family:Menlo,'DejaVu Sans Mono',consolas,'Courier New',monospace\">Experiment ID: <span style=\"color: #008080; text-decoration-color: #008080; font-weight: bold\">225828532496014960</span>\n",
       "</pre>\n"
      ],
      "text/plain": [
       "Experiment ID: \u001b[1;36m225828532496014960\u001b[0m\n"
      ]
     },
     "metadata": {},
     "output_type": "display_data"
    },
    {
     "data": {
      "text/html": [
       "<pre style=\"white-space:pre;overflow-x:auto;line-height:normal;font-family:Menlo,'DejaVu Sans Mono',consolas,'Courier New',monospace\">Experiment Location: c:<span style=\"color: #800080; text-decoration-color: #800080\">/Users/ferna/.vscode/GitHub/a01110946/MushroomDataset/</span><span style=\"color: #ff00ff; text-decoration-color: #ff00ff\">mlruns</span>\n",
       "</pre>\n"
      ],
      "text/plain": [
       "Experiment Location: c:\u001b[35m/Users/ferna/.vscode/GitHub/a01110946/MushroomDataset/\u001b[0m\u001b[95mmlruns\u001b[0m\n"
      ]
     },
     "metadata": {},
     "output_type": "display_data"
    }
   ],
   "source": [
    "# Confirm data at the end\n",
    "print(f\"Artifact URI: {mlflow.get_artifact_uri()}\")\n",
    "print(f\"Experiment Name: {experiment.name}\")\n",
    "print(f\"Experiment ID: {experiment.experiment_id}\")\n",
    "print(f\"Experiment Location: {experiment.artifact_location}\") "
   ]
  },
  {
   "cell_type": "code",
   "execution_count": 29,
   "metadata": {},
   "outputs": [
    {
     "data": {
      "text/html": [
       "<pre style=\"white-space:pre;overflow-x:auto;line-height:normal;font-family:Menlo,'DejaVu Sans Mono',consolas,'Courier New',monospace\">run_id: 1d2b569cb0944105ab7c3e53e685f833\n",
       "</pre>\n"
      ],
      "text/plain": [
       "run_id: 1d2b569cb0944105ab7c3e53e685f833\n"
      ]
     },
     "metadata": {},
     "output_type": "display_data"
    }
   ],
   "source": [
    "run = mlflow.active_run()\n",
    "if run:  # Check if a run is still active\n",
    "    print(f\"run_id: {run.info.run_id}\")\n",
    "    mlflow.end_run()\n",
    "else:\n",
    "    print(\"No active run found\")"
   ]
  },
  {
   "cell_type": "code",
   "execution_count": 30,
   "metadata": {},
   "outputs": [],
   "source": [
    "# Registrar las métricas y artefactos en MLflow\n",
    "with mlflow.start_run(run_name=\"Baseline Model Evaluation\"):\n",
    "    mlflow.log_param(\"model\", \"Logistic Regression\")\n",
    "    mlflow.log_metric(\"accuracy\", accuracy)\n",
    "    mlflow.log_metric(\"precision\", precision)\n",
    "    mlflow.log_metric(\"recall\", recall)\n",
    "    mlflow.log_metric(\"f1_score\", f1)\n",
    "    mlflow.log_metric(\"auc_roc\", auc_roc)\n",
    "    mlflow.log_artifact(\"confusion_matrix_baseline.png\")\n",
    "    mlflow.log_text(class_report, \"classification_report_baseline.txt\")"
   ]
  }
 ],
 "metadata": {
  "kernelspec": {
   "display_name": "env_mlops",
   "language": "python",
   "name": "python3"
  },
  "language_info": {
   "codemirror_mode": {
    "name": "ipython",
    "version": 3
   },
   "file_extension": ".py",
   "mimetype": "text/x-python",
   "name": "python",
   "nbconvert_exporter": "python",
   "pygments_lexer": "ipython3",
   "version": "3.11.6"
  }
 },
 "nbformat": 4,
 "nbformat_minor": 2
}
