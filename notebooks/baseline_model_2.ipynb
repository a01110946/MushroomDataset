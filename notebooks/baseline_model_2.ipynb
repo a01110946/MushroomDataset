{
 "cells": [
  {
   "cell_type": "markdown",
   "metadata": {},
   "source": [
    "## Entrenamiento de Modelo"
   ]
  },
  {
   "cell_type": "markdown",
   "metadata": {},
   "source": [
    "### Relevancia de la Estrategia de MLOps"
   ]
  },
  {
   "cell_type": "markdown",
   "metadata": {},
   "source": [
    "La implementación de una estrategia de MLOps en el análisis del dataset de hongos cobra una importancia crucial, especialmente cuando abordamos la pregunta: *\"¿podemos determinar si un hongo es comestible basándonos en sus características físicas?\"*. Esta pregunta no solo plantea un desafío analítico y de modelado significativo, sino que también implica una profunda responsabilidad ética y de seguridad. En ámbitos donde la salud humana podría estar en juego, la precisión y fiabilidad de las predicciones de nuestro modelo no son meramente objetivos deseables, sino imperativos críticos.\n",
    "\n",
    "En este contexto, una estrategia de MLOps es esencial, ya que permite la iteración continua y sistemática sobre el modelo, buscando optimizar su desempeño mientras se asegura la precisión y fiabilidad del sistema. La incorporación de MLOps facilita una mejora constante mediante la automatización, la integración y la entrega continuas, junto con el monitoreo y mantenimiento en producción, lo que es crucial para manejar la delicada naturaleza de la pregunta de investigación y garantizar la seguridad de las predicciones.\n",
    "\n",
    "En consonancia con este enfoque iterativo y basado en la necesidad de equilibrar la precisión con la responsabilidad, elegimos comenzar nuestro proceso de modelado con un modelo base sencillo: la regresión logística. Esta elección se fundamenta en su interpretabilidad, simplicidad y eficacia probada como punto de partida en problemas de clasificación. A partir de este modelo base, podemos evaluar su desempeño como línea de base y, apoyados por la infraestructura y prácticas que MLOps facilita, proceder a experimentar y mejorar iterativamente. Esto nos permite explorar modelos más complejos y ajustar parámetros con el objetivo final de optimizar la precisión y la seguridad de nuestras predicciones, garantizando así que nuestro sistema de predicción evolucione de manera responsable y efectiva para proteger la salud y el bienestar de las personas."
   ]
  },
  {
   "cell_type": "markdown",
   "metadata": {},
   "source": [
    "### Importación de Librerías"
   ]
  },
  {
   "cell_type": "code",
   "execution_count": 61,
   "metadata": {},
   "outputs": [],
   "source": [
    "import os\n",
    "import pandas as pd\n",
    "import matplotlib.pyplot as plt\n",
    "import seaborn as sns\n",
    "\n",
    "from sklearn.model_selection import train_test_split\n",
    "from sklearn.pipeline import Pipeline\n",
    "from sklearn.impute import SimpleImputer\n",
    "from sklearn.preprocessing import MinMaxScaler\n",
    "from sklearn.preprocessing import StandardScaler\n",
    "from sklearn.compose import ColumnTransformer\n",
    "from sklearn.preprocessing import OneHotEncoder\n",
    "from sklearn.linear_model import LogisticRegression\n",
    "from sklearn.metrics import accuracy_score\n",
    "from sklearn.metrics import precision_score\n",
    "from sklearn.metrics import recall_score\n",
    "from sklearn.metrics import f1_score\n",
    "from sklearn.metrics import roc_auc_score\n",
    "from sklearn.metrics import confusion_matrix\n",
    "from sklearn.metrics import classification_report\n",
    "\n",
    "from rich import print\n",
    "\n",
    "%matplotlib inline"
   ]
  },
  {
   "cell_type": "markdown",
   "metadata": {},
   "source": [
    "### Carga del Dataset"
   ]
  },
  {
   "cell_type": "code",
   "execution_count": 62,
   "metadata": {},
   "outputs": [
    {
     "name": "stdout",
     "output_type": "stream",
     "text": [
      "<class 'pandas.core.frame.DataFrame'>\n",
      "RangeIndex: 61069 entries, 0 to 61068\n",
      "Data columns (total 21 columns):\n",
      " #   Column                Non-Null Count  Dtype  \n",
      "---  ------                --------------  -----  \n",
      " 0   class                 61069 non-null  object \n",
      " 1   cap-diameter          61069 non-null  float64\n",
      " 2   cap-shape             61069 non-null  object \n",
      " 3   cap-surface           46949 non-null  object \n",
      " 4   cap-color             61069 non-null  object \n",
      " 5   does-bruise-or-bleed  61069 non-null  object \n",
      " 6   gill-attachment       51185 non-null  object \n",
      " 7   gill-spacing          36006 non-null  object \n",
      " 8   gill-color            61069 non-null  object \n",
      " 9   stem-height           61069 non-null  float64\n",
      " 10  stem-width            61069 non-null  float64\n",
      " 11  stem-root             9531 non-null   object \n",
      " 12  stem-surface          22945 non-null  object \n",
      " 13  stem-color            61069 non-null  object \n",
      " 14  veil-type             3177 non-null   object \n",
      " 15  veil-color            7413 non-null   object \n",
      " 16  has-ring              61069 non-null  object \n",
      " 17  ring-type             58598 non-null  object \n",
      " 18  spore-print-color     6354 non-null   object \n",
      " 19  habitat               61069 non-null  object \n",
      " 20  season                61069 non-null  object \n",
      "dtypes: float64(3), object(18)\n",
      "memory usage: 9.8+ MB\n"
     ]
    }
   ],
   "source": [
    "parent_directory = os.path.dirname(os.getcwd())\n",
    "path_primary_data = os.path.join(parent_directory, \"data\", \"secondary_data.csv\")\n",
    "df = pd.read_csv(path_primary_data, sep=\";\")\n",
    "df.info()"
   ]
  },
  {
   "cell_type": "markdown",
   "metadata": {},
   "source": [
    "### Validación de Datos"
   ]
  },
  {
   "cell_type": "code",
   "execution_count": 63,
   "metadata": {},
   "outputs": [
    {
     "data": {
      "text/html": [
       "<pre style=\"white-space:pre;overflow-x:auto;line-height:normal;font-family:Menlo,'DejaVu Sans Mono',consolas,'Courier New',monospace\">Number of duplicate rows: <span style=\"color: #008080; text-decoration-color: #008080; font-weight: bold\">146</span>\n",
       "</pre>\n"
      ],
      "text/plain": [
       "Number of duplicate rows: \u001b[1;36m146\u001b[0m\n"
      ]
     },
     "metadata": {},
     "output_type": "display_data"
    }
   ],
   "source": [
    "# Verificar si hay filas duplicadas\n",
    "duplicates = df.duplicated()\n",
    "print(f\"Number of duplicate rows: {duplicates.sum()}\")"
   ]
  },
  {
   "cell_type": "code",
   "execution_count": 64,
   "metadata": {},
   "outputs": [
    {
     "data": {
      "text/html": [
       "<pre style=\"white-space:pre;overflow-x:auto;line-height:normal;font-family:Menlo,'DejaVu Sans Mono',consolas,'Courier New',monospace\">Missing values per column:\n",
       "</pre>\n"
      ],
      "text/plain": [
       "Missing values per column:\n"
      ]
     },
     "metadata": {},
     "output_type": "display_data"
    },
    {
     "data": {
      "text/html": [
       "<pre style=\"white-space:pre;overflow-x:auto;line-height:normal;font-family:Menlo,'DejaVu Sans Mono',consolas,'Courier New',monospace\">class                       <span style=\"color: #008080; text-decoration-color: #008080; font-weight: bold\">0</span>\n",
       "cap-diameter                <span style=\"color: #008080; text-decoration-color: #008080; font-weight: bold\">0</span>\n",
       "cap-shape                   <span style=\"color: #008080; text-decoration-color: #008080; font-weight: bold\">0</span>\n",
       "cap-surface             <span style=\"color: #008080; text-decoration-color: #008080; font-weight: bold\">14120</span>\n",
       "cap-color                   <span style=\"color: #008080; text-decoration-color: #008080; font-weight: bold\">0</span>\n",
       "does-bruise-or-bleed        <span style=\"color: #008080; text-decoration-color: #008080; font-weight: bold\">0</span>\n",
       "gill-attachment          <span style=\"color: #008080; text-decoration-color: #008080; font-weight: bold\">9884</span>\n",
       "gill-spacing            <span style=\"color: #008080; text-decoration-color: #008080; font-weight: bold\">25063</span>\n",
       "gill-color                  <span style=\"color: #008080; text-decoration-color: #008080; font-weight: bold\">0</span>\n",
       "stem-height                 <span style=\"color: #008080; text-decoration-color: #008080; font-weight: bold\">0</span>\n",
       "stem-width                  <span style=\"color: #008080; text-decoration-color: #008080; font-weight: bold\">0</span>\n",
       "stem-root               <span style=\"color: #008080; text-decoration-color: #008080; font-weight: bold\">51538</span>\n",
       "stem-surface            <span style=\"color: #008080; text-decoration-color: #008080; font-weight: bold\">38124</span>\n",
       "stem-color                  <span style=\"color: #008080; text-decoration-color: #008080; font-weight: bold\">0</span>\n",
       "veil-type               <span style=\"color: #008080; text-decoration-color: #008080; font-weight: bold\">57892</span>\n",
       "veil-color              <span style=\"color: #008080; text-decoration-color: #008080; font-weight: bold\">53656</span>\n",
       "has-ring                    <span style=\"color: #008080; text-decoration-color: #008080; font-weight: bold\">0</span>\n",
       "ring-type                <span style=\"color: #008080; text-decoration-color: #008080; font-weight: bold\">2471</span>\n",
       "spore-print-color       <span style=\"color: #008080; text-decoration-color: #008080; font-weight: bold\">54715</span>\n",
       "habitat                     <span style=\"color: #008080; text-decoration-color: #008080; font-weight: bold\">0</span>\n",
       "season                      <span style=\"color: #008080; text-decoration-color: #008080; font-weight: bold\">0</span>\n",
       "dtype: int64\n",
       "</pre>\n"
      ],
      "text/plain": [
       "class                       \u001b[1;36m0\u001b[0m\n",
       "cap-diameter                \u001b[1;36m0\u001b[0m\n",
       "cap-shape                   \u001b[1;36m0\u001b[0m\n",
       "cap-surface             \u001b[1;36m14120\u001b[0m\n",
       "cap-color                   \u001b[1;36m0\u001b[0m\n",
       "does-bruise-or-bleed        \u001b[1;36m0\u001b[0m\n",
       "gill-attachment          \u001b[1;36m9884\u001b[0m\n",
       "gill-spacing            \u001b[1;36m25063\u001b[0m\n",
       "gill-color                  \u001b[1;36m0\u001b[0m\n",
       "stem-height                 \u001b[1;36m0\u001b[0m\n",
       "stem-width                  \u001b[1;36m0\u001b[0m\n",
       "stem-root               \u001b[1;36m51538\u001b[0m\n",
       "stem-surface            \u001b[1;36m38124\u001b[0m\n",
       "stem-color                  \u001b[1;36m0\u001b[0m\n",
       "veil-type               \u001b[1;36m57892\u001b[0m\n",
       "veil-color              \u001b[1;36m53656\u001b[0m\n",
       "has-ring                    \u001b[1;36m0\u001b[0m\n",
       "ring-type                \u001b[1;36m2471\u001b[0m\n",
       "spore-print-color       \u001b[1;36m54715\u001b[0m\n",
       "habitat                     \u001b[1;36m0\u001b[0m\n",
       "season                      \u001b[1;36m0\u001b[0m\n",
       "dtype: int64\n"
      ]
     },
     "metadata": {},
     "output_type": "display_data"
    }
   ],
   "source": [
    "# Verificar si hay valores faltantes en cada columna\n",
    "missing_values = df.isnull().sum()\n",
    "print(\"Missing values per column:\")\n",
    "print(missing_values)"
   ]
  },
  {
   "cell_type": "code",
   "execution_count": 65,
   "metadata": {},
   "outputs": [],
   "source": [
    "def detect_outliers_iqr(dataframe):\n",
    "    \"\"\"\n",
    "    Detecta outliers en todas las columnas numéricas de un DataFrame usando el método del rango intercuartílico (IQR).\n",
    "    \n",
    "    Parámetros:\n",
    "    - dataframe: DataFrame de pandas que contiene las variables numéricas.\n",
    "    \n",
    "    Retorna:\n",
    "    - Un DataFrame que contiene solo las filas que son consideradas outliers en alguna de las columnas numéricas.\n",
    "    \"\"\"\n",
    "    outliers_df = pd.DataFrame(columns=dataframe.columns)\n",
    "    \n",
    "    # Selecciona solo las columnas numéricas; en caso de que se haya ingresado un DataFrame con columnas categóricas\n",
    "    numeric_cols = dataframe.select_dtypes(include=['int64', 'float64'])\n",
    "    \n",
    "    for column in numeric_cols:\n",
    "        Q1 = dataframe[column].quantile(0.25)\n",
    "        Q3 = dataframe[column].quantile(0.75)\n",
    "        IQR = Q3 - Q1\n",
    "        lower_bound = Q1 - 1.5 * IQR\n",
    "        upper_bound = Q3 + 1.5 * IQR\n",
    "        \n",
    "        # Filtra los outliers\n",
    "        filter_outliers = (dataframe[column] < lower_bound) | (dataframe[column] > upper_bound)\n",
    "        outliers_in_column = dataframe[filter_outliers]\n",
    "        \n",
    "        # Agrega los outliers al DataFrame de outliers\n",
    "        outliers_df = pd.concat([outliers_df, outliers_in_column], axis=0).drop_duplicates().reset_index(drop=True)\n",
    "    \n",
    "    return outliers_df\n"
   ]
  },
  {
   "cell_type": "code",
   "execution_count": 66,
   "metadata": {},
   "outputs": [
    {
     "name": "stderr",
     "output_type": "stream",
     "text": [
      "C:\\Users\\ferna\\AppData\\Local\\Temp\\ipykernel_27760\\2658367427.py:28: FutureWarning: The behavior of DataFrame concatenation with empty or all-NA entries is deprecated. In a future version, this will no longer exclude empty or all-NA columns when determining the result dtypes. To retain the old behavior, exclude the relevant entries before the concat operation.\n",
      "  outliers_df = pd.concat([outliers_df, outliers_in_column], axis=0).drop_duplicates().reset_index(drop=True)\n"
     ]
    }
   ],
   "source": [
    "# %%capture --no-display\n",
    "# Detectando outliers en el DataFrame de variables numéricas\n",
    "outliers_df = detect_outliers_iqr(df)"
   ]
  },
  {
   "cell_type": "markdown",
   "metadata": {},
   "source": [
    "### Limpieza de Datos"
   ]
  },
  {
   "cell_type": "markdown",
   "metadata": {},
   "source": [
    "- Tratar los valores faltantes (imputación, eliminación de filas/columnas, etc.).\n",
    "- Identificar y manejar valores atípicos (outliers).\n",
    "- Manejar datos duplicados y/o inconsistentes."
   ]
  },
  {
   "cell_type": "markdown",
   "metadata": {},
   "source": [
    "#### Eliminación de outliers"
   ]
  },
  {
   "cell_type": "code",
   "execution_count": 67,
   "metadata": {},
   "outputs": [
    {
     "name": "stdout",
     "output_type": "stream",
     "text": [
      "<class 'pandas.core.frame.DataFrame'>\n",
      "RangeIndex: 55729 entries, 5340 to 61068\n",
      "Data columns (total 21 columns):\n",
      " #   Column                Non-Null Count  Dtype  \n",
      "---  ------                --------------  -----  \n",
      " 0   class                 55729 non-null  object \n",
      " 1   cap-diameter          55729 non-null  float64\n",
      " 2   cap-shape             55729 non-null  object \n",
      " 3   cap-surface           43419 non-null  object \n",
      " 4   cap-color             55729 non-null  object \n",
      " 5   does-bruise-or-bleed  55729 non-null  object \n",
      " 6   gill-attachment       47257 non-null  object \n",
      " 7   gill-spacing          33843 non-null  object \n",
      " 8   gill-color            55729 non-null  object \n",
      " 9   stem-height           55729 non-null  float64\n",
      " 10  stem-width            55729 non-null  float64\n",
      " 11  stem-root             8074 non-null   object \n",
      " 12  stem-surface          20474 non-null  object \n",
      " 13  stem-color            55729 non-null  object \n",
      " 14  veil-type             353 non-null    object \n",
      " 15  veil-color            4589 non-null   object \n",
      " 16  has-ring              55729 non-null  object \n",
      " 17  ring-type             53611 non-null  object \n",
      " 18  spore-print-color     6354 non-null   object \n",
      " 19  habitat               55729 non-null  object \n",
      " 20  season                55729 non-null  object \n",
      "dtypes: float64(3), object(18)\n",
      "memory usage: 8.9+ MB\n"
     ]
    }
   ],
   "source": [
    "# Eliminar filas con outliers del conjunto de datos original\n",
    "df_no_outliers = df.drop(outliers_df.index)\n",
    "df_no_outliers.info()"
   ]
  },
  {
   "cell_type": "markdown",
   "metadata": {},
   "source": [
    "#### Eliminación de Variables No Deseadas"
   ]
  },
  {
   "cell_type": "code",
   "execution_count": 69,
   "metadata": {},
   "outputs": [
    {
     "data": {
      "text/html": [
       "<div>\n",
       "<style scoped>\n",
       "    .dataframe tbody tr th:only-of-type {\n",
       "        vertical-align: middle;\n",
       "    }\n",
       "\n",
       "    .dataframe tbody tr th {\n",
       "        vertical-align: top;\n",
       "    }\n",
       "\n",
       "    .dataframe thead th {\n",
       "        text-align: right;\n",
       "    }\n",
       "</style>\n",
       "<table border=\"1\" class=\"dataframe\">\n",
       "  <thead>\n",
       "    <tr style=\"text-align: right;\">\n",
       "      <th></th>\n",
       "      <th>class</th>\n",
       "      <th>cap-diameter</th>\n",
       "      <th>cap-surface</th>\n",
       "      <th>cap-color</th>\n",
       "      <th>gill-attachment</th>\n",
       "      <th>stem-width</th>\n",
       "      <th>stem-root</th>\n",
       "      <th>stem-surface</th>\n",
       "      <th>veil-type</th>\n",
       "      <th>veil-color</th>\n",
       "      <th>has-ring</th>\n",
       "      <th>spore-print-color</th>\n",
       "    </tr>\n",
       "  </thead>\n",
       "  <tbody>\n",
       "    <tr>\n",
       "      <th>5340</th>\n",
       "      <td>e</td>\n",
       "      <td>9.58</td>\n",
       "      <td>NaN</td>\n",
       "      <td>g</td>\n",
       "      <td>s</td>\n",
       "      <td>21.69</td>\n",
       "      <td>b</td>\n",
       "      <td>NaN</td>\n",
       "      <td>NaN</td>\n",
       "      <td>NaN</td>\n",
       "      <td>f</td>\n",
       "      <td>NaN</td>\n",
       "    </tr>\n",
       "    <tr>\n",
       "      <th>5341</th>\n",
       "      <td>e</td>\n",
       "      <td>8.19</td>\n",
       "      <td>NaN</td>\n",
       "      <td>n</td>\n",
       "      <td>s</td>\n",
       "      <td>20.02</td>\n",
       "      <td>b</td>\n",
       "      <td>NaN</td>\n",
       "      <td>NaN</td>\n",
       "      <td>NaN</td>\n",
       "      <td>f</td>\n",
       "      <td>NaN</td>\n",
       "    </tr>\n",
       "    <tr>\n",
       "      <th>5342</th>\n",
       "      <td>e</td>\n",
       "      <td>9.04</td>\n",
       "      <td>NaN</td>\n",
       "      <td>g</td>\n",
       "      <td>s</td>\n",
       "      <td>21.65</td>\n",
       "      <td>b</td>\n",
       "      <td>NaN</td>\n",
       "      <td>NaN</td>\n",
       "      <td>NaN</td>\n",
       "      <td>f</td>\n",
       "      <td>NaN</td>\n",
       "    </tr>\n",
       "    <tr>\n",
       "      <th>5343</th>\n",
       "      <td>e</td>\n",
       "      <td>9.49</td>\n",
       "      <td>NaN</td>\n",
       "      <td>n</td>\n",
       "      <td>s</td>\n",
       "      <td>19.68</td>\n",
       "      <td>b</td>\n",
       "      <td>NaN</td>\n",
       "      <td>NaN</td>\n",
       "      <td>NaN</td>\n",
       "      <td>f</td>\n",
       "      <td>NaN</td>\n",
       "    </tr>\n",
       "    <tr>\n",
       "      <th>5344</th>\n",
       "      <td>e</td>\n",
       "      <td>10.01</td>\n",
       "      <td>NaN</td>\n",
       "      <td>n</td>\n",
       "      <td>s</td>\n",
       "      <td>21.06</td>\n",
       "      <td>b</td>\n",
       "      <td>NaN</td>\n",
       "      <td>NaN</td>\n",
       "      <td>NaN</td>\n",
       "      <td>f</td>\n",
       "      <td>NaN</td>\n",
       "    </tr>\n",
       "    <tr>\n",
       "      <th>5345</th>\n",
       "      <td>e</td>\n",
       "      <td>7.63</td>\n",
       "      <td>NaN</td>\n",
       "      <td>n</td>\n",
       "      <td>s</td>\n",
       "      <td>20.53</td>\n",
       "      <td>b</td>\n",
       "      <td>NaN</td>\n",
       "      <td>NaN</td>\n",
       "      <td>NaN</td>\n",
       "      <td>f</td>\n",
       "      <td>NaN</td>\n",
       "    </tr>\n",
       "    <tr>\n",
       "      <th>5346</th>\n",
       "      <td>e</td>\n",
       "      <td>7.80</td>\n",
       "      <td>NaN</td>\n",
       "      <td>n</td>\n",
       "      <td>s</td>\n",
       "      <td>18.09</td>\n",
       "      <td>b</td>\n",
       "      <td>NaN</td>\n",
       "      <td>NaN</td>\n",
       "      <td>NaN</td>\n",
       "      <td>f</td>\n",
       "      <td>NaN</td>\n",
       "    </tr>\n",
       "    <tr>\n",
       "      <th>5347</th>\n",
       "      <td>e</td>\n",
       "      <td>9.11</td>\n",
       "      <td>NaN</td>\n",
       "      <td>g</td>\n",
       "      <td>s</td>\n",
       "      <td>18.91</td>\n",
       "      <td>b</td>\n",
       "      <td>NaN</td>\n",
       "      <td>NaN</td>\n",
       "      <td>NaN</td>\n",
       "      <td>f</td>\n",
       "      <td>NaN</td>\n",
       "    </tr>\n",
       "    <tr>\n",
       "      <th>5348</th>\n",
       "      <td>e</td>\n",
       "      <td>6.72</td>\n",
       "      <td>NaN</td>\n",
       "      <td>n</td>\n",
       "      <td>s</td>\n",
       "      <td>19.54</td>\n",
       "      <td>b</td>\n",
       "      <td>NaN</td>\n",
       "      <td>NaN</td>\n",
       "      <td>NaN</td>\n",
       "      <td>f</td>\n",
       "      <td>NaN</td>\n",
       "    </tr>\n",
       "    <tr>\n",
       "      <th>5349</th>\n",
       "      <td>e</td>\n",
       "      <td>9.69</td>\n",
       "      <td>NaN</td>\n",
       "      <td>n</td>\n",
       "      <td>s</td>\n",
       "      <td>21.30</td>\n",
       "      <td>b</td>\n",
       "      <td>NaN</td>\n",
       "      <td>NaN</td>\n",
       "      <td>NaN</td>\n",
       "      <td>f</td>\n",
       "      <td>NaN</td>\n",
       "    </tr>\n",
       "  </tbody>\n",
       "</table>\n",
       "</div>"
      ],
      "text/plain": [
       "     class  cap-diameter cap-surface cap-color gill-attachment  stem-width  \\\n",
       "5340     e          9.58         NaN         g               s       21.69   \n",
       "5341     e          8.19         NaN         n               s       20.02   \n",
       "5342     e          9.04         NaN         g               s       21.65   \n",
       "5343     e          9.49         NaN         n               s       19.68   \n",
       "5344     e         10.01         NaN         n               s       21.06   \n",
       "5345     e          7.63         NaN         n               s       20.53   \n",
       "5346     e          7.80         NaN         n               s       18.09   \n",
       "5347     e          9.11         NaN         g               s       18.91   \n",
       "5348     e          6.72         NaN         n               s       19.54   \n",
       "5349     e          9.69         NaN         n               s       21.30   \n",
       "\n",
       "     stem-root stem-surface veil-type veil-color has-ring spore-print-color  \n",
       "5340         b          NaN       NaN        NaN        f               NaN  \n",
       "5341         b          NaN       NaN        NaN        f               NaN  \n",
       "5342         b          NaN       NaN        NaN        f               NaN  \n",
       "5343         b          NaN       NaN        NaN        f               NaN  \n",
       "5344         b          NaN       NaN        NaN        f               NaN  \n",
       "5345         b          NaN       NaN        NaN        f               NaN  \n",
       "5346         b          NaN       NaN        NaN        f               NaN  \n",
       "5347         b          NaN       NaN        NaN        f               NaN  \n",
       "5348         b          NaN       NaN        NaN        f               NaN  \n",
       "5349         b          NaN       NaN        NaN        f               NaN  "
      ]
     },
     "execution_count": 69,
     "metadata": {},
     "output_type": "execute_result"
    }
   ],
   "source": [
    "# Eliminar columnas de acuerdo con observaciones en el análisis exploratorio\n",
    "features_to_drop = ['cap-shape', 'does-bruise-or-bleed', 'gill-spacing', 'gill-color', 'stem-height', 'stem-color', 'ring-type', 'habitat', 'season']\n",
    "df_clean = df_no_outliers.drop(columns=features_to_drop)\n",
    "df_clean.head(10)"
   ]
  },
  {
   "cell_type": "markdown",
   "metadata": {},
   "source": [
    "### División de Datos"
   ]
  },
  {
   "cell_type": "markdown",
   "metadata": {},
   "source": [
    "#### Conjunto de Entrenamiento y Prueba"
   ]
  },
  {
   "cell_type": "code",
   "execution_count": 70,
   "metadata": {},
   "outputs": [
    {
     "data": {
      "text/html": [
       "<pre style=\"white-space:pre;overflow-x:auto;line-height:normal;font-family:Menlo,'DejaVu Sans Mono',consolas,'Courier New',monospace\">Tamaño del conjunto de entrenamiento:\n",
       "<span style=\"font-weight: bold\">(</span><span style=\"color: #008080; text-decoration-color: #008080; font-weight: bold\">44583</span>, <span style=\"color: #008080; text-decoration-color: #008080; font-weight: bold\">11</span><span style=\"font-weight: bold\">)</span>\n",
       "</pre>\n"
      ],
      "text/plain": [
       "Tamaño del conjunto de entrenamiento:\n",
       "\u001b[1m(\u001b[0m\u001b[1;36m44583\u001b[0m, \u001b[1;36m11\u001b[0m\u001b[1m)\u001b[0m\n"
      ]
     },
     "metadata": {},
     "output_type": "display_data"
    },
    {
     "data": {
      "text/html": [
       "<pre style=\"white-space:pre;overflow-x:auto;line-height:normal;font-family:Menlo,'DejaVu Sans Mono',consolas,'Courier New',monospace\">Tamaño del conjunto de prueba:\n",
       "<span style=\"font-weight: bold\">(</span><span style=\"color: #008080; text-decoration-color: #008080; font-weight: bold\">11146</span>, <span style=\"color: #008080; text-decoration-color: #008080; font-weight: bold\">11</span><span style=\"font-weight: bold\">)</span>\n",
       "</pre>\n"
      ],
      "text/plain": [
       "Tamaño del conjunto de prueba:\n",
       "\u001b[1m(\u001b[0m\u001b[1;36m11146\u001b[0m, \u001b[1;36m11\u001b[0m\u001b[1m)\u001b[0m\n"
      ]
     },
     "metadata": {},
     "output_type": "display_data"
    }
   ],
   "source": [
    "# División de datos en variables independientes (X) y dependientes (y)\n",
    "X = df_clean.drop('class', axis=1)  # Características o variables independientes\n",
    "y = df_clean['class']  # Variable objetivo o dependiente\n",
    "\n",
    "# División en conjunto de entrenamiento (80%) y prueba (20%)\n",
    "X_train, X_test, y_train, y_test = train_test_split(X, y, test_size=0.2, stratify=y, random_state=42)\n",
    "\n",
    "# Imprimir información sobre la división de datos\n",
    "print(\"Tamaño del conjunto de entrenamiento:\", X_train.shape)\n",
    "print(\"Tamaño del conjunto de prueba:\", X_test.shape)"
   ]
  },
  {
   "cell_type": "markdown",
   "metadata": {},
   "source": [
    "#### Conjunto de Entrenamiento: Variables Numéricas y Categóricas"
   ]
  },
  {
   "cell_type": "code",
   "execution_count": 71,
   "metadata": {},
   "outputs": [],
   "source": [
    "# Identificar características numéricas y categóricas en el conjunto de entrenamiento\n",
    "numeric_features = X_train.select_dtypes(include=['int64', 'float64']).columns\n",
    "categorical_features = X_train.select_dtypes(include=['object']).columns"
   ]
  },
  {
   "cell_type": "markdown",
   "metadata": {},
   "source": [
    "### Transformación de Datos"
   ]
  },
  {
   "cell_type": "code",
   "execution_count": 72,
   "metadata": {},
   "outputs": [],
   "source": [
    "# Definir transformadores para variables numéricas y categóricas\n",
    "numeric_transformer = Pipeline(steps=[\n",
    "    ('imputer', SimpleImputer(strategy='median')),  # Imputación utilizando la mediana, debido a la distribución sesgada de los datos\n",
    "    ('standard_scaler', StandardScaler()),  # Estandarización\n",
    "    ('min_max_scaler', MinMaxScaler())  # Normalización\n",
    "])\n",
    "\n",
    "categorical_transformer = Pipeline(steps=[\n",
    "    ('imputer', SimpleImputer(strategy='most_frequent')),  # Imputación utilizando la moda\n",
    "    ('encoder', OneHotEncoder(handle_unknown='ignore'))  # Codificación utilizando OneHotEncoder, solo tenemos variables categóricas nominales\n",
    "])"
   ]
  },
  {
   "cell_type": "code",
   "execution_count": 73,
   "metadata": {},
   "outputs": [],
   "source": [
    "# Crear el preprocesador con ColumnTransformer\n",
    "preprocessor = ColumnTransformer(\n",
    "    transformers=[\n",
    "        ('numeric', numeric_transformer, numeric_features),\n",
    "        ('categorical', categorical_transformer, categorical_features)\n",
    "    ])\n"
   ]
  },
  {
   "cell_type": "code",
   "execution_count": 74,
   "metadata": {},
   "outputs": [],
   "source": [
    "# Crear el pipeline con el preprocesador y el modelo de regresión logística\n",
    "baseline_pipeline = Pipeline([\n",
    "    ('preprocessor', preprocessor),\n",
    "    ('classifier', LogisticRegression(max_iter=1000))\n",
    "])"
   ]
  },
  {
   "cell_type": "markdown",
   "metadata": {},
   "source": [
    "### Entrenamiento del Modelo"
   ]
  },
  {
   "cell_type": "code",
   "execution_count": 75,
   "metadata": {},
   "outputs": [],
   "source": [
    "# Entrenar el modelo base de regresión logística utilizando el conjunto de entrenamiento transformado\n",
    "baseline_model = baseline_pipeline.fit(X_train, y_train)"
   ]
  },
  {
   "cell_type": "code",
   "execution_count": 76,
   "metadata": {},
   "outputs": [
    {
     "data": {
      "text/html": [
       "<style>#sk-container-id-4 {\n",
       "  /* Definition of color scheme common for light and dark mode */\n",
       "  --sklearn-color-text: black;\n",
       "  --sklearn-color-line: gray;\n",
       "  /* Definition of color scheme for unfitted estimators */\n",
       "  --sklearn-color-unfitted-level-0: #fff5e6;\n",
       "  --sklearn-color-unfitted-level-1: #f6e4d2;\n",
       "  --sklearn-color-unfitted-level-2: #ffe0b3;\n",
       "  --sklearn-color-unfitted-level-3: chocolate;\n",
       "  /* Definition of color scheme for fitted estimators */\n",
       "  --sklearn-color-fitted-level-0: #f0f8ff;\n",
       "  --sklearn-color-fitted-level-1: #d4ebff;\n",
       "  --sklearn-color-fitted-level-2: #b3dbfd;\n",
       "  --sklearn-color-fitted-level-3: cornflowerblue;\n",
       "\n",
       "  /* Specific color for light theme */\n",
       "  --sklearn-color-text-on-default-background: var(--sg-text-color, var(--theme-code-foreground, var(--jp-content-font-color1, black)));\n",
       "  --sklearn-color-background: var(--sg-background-color, var(--theme-background, var(--jp-layout-color0, white)));\n",
       "  --sklearn-color-border-box: var(--sg-text-color, var(--theme-code-foreground, var(--jp-content-font-color1, black)));\n",
       "  --sklearn-color-icon: #696969;\n",
       "\n",
       "  @media (prefers-color-scheme: dark) {\n",
       "    /* Redefinition of color scheme for dark theme */\n",
       "    --sklearn-color-text-on-default-background: var(--sg-text-color, var(--theme-code-foreground, var(--jp-content-font-color1, white)));\n",
       "    --sklearn-color-background: var(--sg-background-color, var(--theme-background, var(--jp-layout-color0, #111)));\n",
       "    --sklearn-color-border-box: var(--sg-text-color, var(--theme-code-foreground, var(--jp-content-font-color1, white)));\n",
       "    --sklearn-color-icon: #878787;\n",
       "  }\n",
       "}\n",
       "\n",
       "#sk-container-id-4 {\n",
       "  color: var(--sklearn-color-text);\n",
       "}\n",
       "\n",
       "#sk-container-id-4 pre {\n",
       "  padding: 0;\n",
       "}\n",
       "\n",
       "#sk-container-id-4 input.sk-hidden--visually {\n",
       "  border: 0;\n",
       "  clip: rect(1px 1px 1px 1px);\n",
       "  clip: rect(1px, 1px, 1px, 1px);\n",
       "  height: 1px;\n",
       "  margin: -1px;\n",
       "  overflow: hidden;\n",
       "  padding: 0;\n",
       "  position: absolute;\n",
       "  width: 1px;\n",
       "}\n",
       "\n",
       "#sk-container-id-4 div.sk-dashed-wrapped {\n",
       "  border: 1px dashed var(--sklearn-color-line);\n",
       "  margin: 0 0.4em 0.5em 0.4em;\n",
       "  box-sizing: border-box;\n",
       "  padding-bottom: 0.4em;\n",
       "  background-color: var(--sklearn-color-background);\n",
       "}\n",
       "\n",
       "#sk-container-id-4 div.sk-container {\n",
       "  /* jupyter's `normalize.less` sets `[hidden] { display: none; }`\n",
       "     but bootstrap.min.css set `[hidden] { display: none !important; }`\n",
       "     so we also need the `!important` here to be able to override the\n",
       "     default hidden behavior on the sphinx rendered scikit-learn.org.\n",
       "     See: https://github.com/scikit-learn/scikit-learn/issues/21755 */\n",
       "  display: inline-block !important;\n",
       "  position: relative;\n",
       "}\n",
       "\n",
       "#sk-container-id-4 div.sk-text-repr-fallback {\n",
       "  display: none;\n",
       "}\n",
       "\n",
       "div.sk-parallel-item,\n",
       "div.sk-serial,\n",
       "div.sk-item {\n",
       "  /* draw centered vertical line to link estimators */\n",
       "  background-image: linear-gradient(var(--sklearn-color-text-on-default-background), var(--sklearn-color-text-on-default-background));\n",
       "  background-size: 2px 100%;\n",
       "  background-repeat: no-repeat;\n",
       "  background-position: center center;\n",
       "}\n",
       "\n",
       "/* Parallel-specific style estimator block */\n",
       "\n",
       "#sk-container-id-4 div.sk-parallel-item::after {\n",
       "  content: \"\";\n",
       "  width: 100%;\n",
       "  border-bottom: 2px solid var(--sklearn-color-text-on-default-background);\n",
       "  flex-grow: 1;\n",
       "}\n",
       "\n",
       "#sk-container-id-4 div.sk-parallel {\n",
       "  display: flex;\n",
       "  align-items: stretch;\n",
       "  justify-content: center;\n",
       "  background-color: var(--sklearn-color-background);\n",
       "  position: relative;\n",
       "}\n",
       "\n",
       "#sk-container-id-4 div.sk-parallel-item {\n",
       "  display: flex;\n",
       "  flex-direction: column;\n",
       "}\n",
       "\n",
       "#sk-container-id-4 div.sk-parallel-item:first-child::after {\n",
       "  align-self: flex-end;\n",
       "  width: 50%;\n",
       "}\n",
       "\n",
       "#sk-container-id-4 div.sk-parallel-item:last-child::after {\n",
       "  align-self: flex-start;\n",
       "  width: 50%;\n",
       "}\n",
       "\n",
       "#sk-container-id-4 div.sk-parallel-item:only-child::after {\n",
       "  width: 0;\n",
       "}\n",
       "\n",
       "/* Serial-specific style estimator block */\n",
       "\n",
       "#sk-container-id-4 div.sk-serial {\n",
       "  display: flex;\n",
       "  flex-direction: column;\n",
       "  align-items: center;\n",
       "  background-color: var(--sklearn-color-background);\n",
       "  padding-right: 1em;\n",
       "  padding-left: 1em;\n",
       "}\n",
       "\n",
       "\n",
       "/* Toggleable style: style used for estimator/Pipeline/ColumnTransformer box that is\n",
       "clickable and can be expanded/collapsed.\n",
       "- Pipeline and ColumnTransformer use this feature and define the default style\n",
       "- Estimators will overwrite some part of the style using the `sk-estimator` class\n",
       "*/\n",
       "\n",
       "/* Pipeline and ColumnTransformer style (default) */\n",
       "\n",
       "#sk-container-id-4 div.sk-toggleable {\n",
       "  /* Default theme specific background. It is overwritten whether we have a\n",
       "  specific estimator or a Pipeline/ColumnTransformer */\n",
       "  background-color: var(--sklearn-color-background);\n",
       "}\n",
       "\n",
       "/* Toggleable label */\n",
       "#sk-container-id-4 label.sk-toggleable__label {\n",
       "  cursor: pointer;\n",
       "  display: block;\n",
       "  width: 100%;\n",
       "  margin-bottom: 0;\n",
       "  padding: 0.5em;\n",
       "  box-sizing: border-box;\n",
       "  text-align: center;\n",
       "}\n",
       "\n",
       "#sk-container-id-4 label.sk-toggleable__label-arrow:before {\n",
       "  /* Arrow on the left of the label */\n",
       "  content: \"▸\";\n",
       "  float: left;\n",
       "  margin-right: 0.25em;\n",
       "  color: var(--sklearn-color-icon);\n",
       "}\n",
       "\n",
       "#sk-container-id-4 label.sk-toggleable__label-arrow:hover:before {\n",
       "  color: var(--sklearn-color-text);\n",
       "}\n",
       "\n",
       "/* Toggleable content - dropdown */\n",
       "\n",
       "#sk-container-id-4 div.sk-toggleable__content {\n",
       "  max-height: 0;\n",
       "  max-width: 0;\n",
       "  overflow: hidden;\n",
       "  text-align: left;\n",
       "  /* unfitted */\n",
       "  background-color: var(--sklearn-color-unfitted-level-0);\n",
       "}\n",
       "\n",
       "#sk-container-id-4 div.sk-toggleable__content.fitted {\n",
       "  /* fitted */\n",
       "  background-color: var(--sklearn-color-fitted-level-0);\n",
       "}\n",
       "\n",
       "#sk-container-id-4 div.sk-toggleable__content pre {\n",
       "  margin: 0.2em;\n",
       "  border-radius: 0.25em;\n",
       "  color: var(--sklearn-color-text);\n",
       "  /* unfitted */\n",
       "  background-color: var(--sklearn-color-unfitted-level-0);\n",
       "}\n",
       "\n",
       "#sk-container-id-4 div.sk-toggleable__content.fitted pre {\n",
       "  /* unfitted */\n",
       "  background-color: var(--sklearn-color-fitted-level-0);\n",
       "}\n",
       "\n",
       "#sk-container-id-4 input.sk-toggleable__control:checked~div.sk-toggleable__content {\n",
       "  /* Expand drop-down */\n",
       "  max-height: 200px;\n",
       "  max-width: 100%;\n",
       "  overflow: auto;\n",
       "}\n",
       "\n",
       "#sk-container-id-4 input.sk-toggleable__control:checked~label.sk-toggleable__label-arrow:before {\n",
       "  content: \"▾\";\n",
       "}\n",
       "\n",
       "/* Pipeline/ColumnTransformer-specific style */\n",
       "\n",
       "#sk-container-id-4 div.sk-label input.sk-toggleable__control:checked~label.sk-toggleable__label {\n",
       "  color: var(--sklearn-color-text);\n",
       "  background-color: var(--sklearn-color-unfitted-level-2);\n",
       "}\n",
       "\n",
       "#sk-container-id-4 div.sk-label.fitted input.sk-toggleable__control:checked~label.sk-toggleable__label {\n",
       "  background-color: var(--sklearn-color-fitted-level-2);\n",
       "}\n",
       "\n",
       "/* Estimator-specific style */\n",
       "\n",
       "/* Colorize estimator box */\n",
       "#sk-container-id-4 div.sk-estimator input.sk-toggleable__control:checked~label.sk-toggleable__label {\n",
       "  /* unfitted */\n",
       "  background-color: var(--sklearn-color-unfitted-level-2);\n",
       "}\n",
       "\n",
       "#sk-container-id-4 div.sk-estimator.fitted input.sk-toggleable__control:checked~label.sk-toggleable__label {\n",
       "  /* fitted */\n",
       "  background-color: var(--sklearn-color-fitted-level-2);\n",
       "}\n",
       "\n",
       "#sk-container-id-4 div.sk-label label.sk-toggleable__label,\n",
       "#sk-container-id-4 div.sk-label label {\n",
       "  /* The background is the default theme color */\n",
       "  color: var(--sklearn-color-text-on-default-background);\n",
       "}\n",
       "\n",
       "/* On hover, darken the color of the background */\n",
       "#sk-container-id-4 div.sk-label:hover label.sk-toggleable__label {\n",
       "  color: var(--sklearn-color-text);\n",
       "  background-color: var(--sklearn-color-unfitted-level-2);\n",
       "}\n",
       "\n",
       "/* Label box, darken color on hover, fitted */\n",
       "#sk-container-id-4 div.sk-label.fitted:hover label.sk-toggleable__label.fitted {\n",
       "  color: var(--sklearn-color-text);\n",
       "  background-color: var(--sklearn-color-fitted-level-2);\n",
       "}\n",
       "\n",
       "/* Estimator label */\n",
       "\n",
       "#sk-container-id-4 div.sk-label label {\n",
       "  font-family: monospace;\n",
       "  font-weight: bold;\n",
       "  display: inline-block;\n",
       "  line-height: 1.2em;\n",
       "}\n",
       "\n",
       "#sk-container-id-4 div.sk-label-container {\n",
       "  text-align: center;\n",
       "}\n",
       "\n",
       "/* Estimator-specific */\n",
       "#sk-container-id-4 div.sk-estimator {\n",
       "  font-family: monospace;\n",
       "  border: 1px dotted var(--sklearn-color-border-box);\n",
       "  border-radius: 0.25em;\n",
       "  box-sizing: border-box;\n",
       "  margin-bottom: 0.5em;\n",
       "  /* unfitted */\n",
       "  background-color: var(--sklearn-color-unfitted-level-0);\n",
       "}\n",
       "\n",
       "#sk-container-id-4 div.sk-estimator.fitted {\n",
       "  /* fitted */\n",
       "  background-color: var(--sklearn-color-fitted-level-0);\n",
       "}\n",
       "\n",
       "/* on hover */\n",
       "#sk-container-id-4 div.sk-estimator:hover {\n",
       "  /* unfitted */\n",
       "  background-color: var(--sklearn-color-unfitted-level-2);\n",
       "}\n",
       "\n",
       "#sk-container-id-4 div.sk-estimator.fitted:hover {\n",
       "  /* fitted */\n",
       "  background-color: var(--sklearn-color-fitted-level-2);\n",
       "}\n",
       "\n",
       "/* Specification for estimator info (e.g. \"i\" and \"?\") */\n",
       "\n",
       "/* Common style for \"i\" and \"?\" */\n",
       "\n",
       ".sk-estimator-doc-link,\n",
       "a:link.sk-estimator-doc-link,\n",
       "a:visited.sk-estimator-doc-link {\n",
       "  float: right;\n",
       "  font-size: smaller;\n",
       "  line-height: 1em;\n",
       "  font-family: monospace;\n",
       "  background-color: var(--sklearn-color-background);\n",
       "  border-radius: 1em;\n",
       "  height: 1em;\n",
       "  width: 1em;\n",
       "  text-decoration: none !important;\n",
       "  margin-left: 1ex;\n",
       "  /* unfitted */\n",
       "  border: var(--sklearn-color-unfitted-level-1) 1pt solid;\n",
       "  color: var(--sklearn-color-unfitted-level-1);\n",
       "}\n",
       "\n",
       ".sk-estimator-doc-link.fitted,\n",
       "a:link.sk-estimator-doc-link.fitted,\n",
       "a:visited.sk-estimator-doc-link.fitted {\n",
       "  /* fitted */\n",
       "  border: var(--sklearn-color-fitted-level-1) 1pt solid;\n",
       "  color: var(--sklearn-color-fitted-level-1);\n",
       "}\n",
       "\n",
       "/* On hover */\n",
       "div.sk-estimator:hover .sk-estimator-doc-link:hover,\n",
       ".sk-estimator-doc-link:hover,\n",
       "div.sk-label-container:hover .sk-estimator-doc-link:hover,\n",
       ".sk-estimator-doc-link:hover {\n",
       "  /* unfitted */\n",
       "  background-color: var(--sklearn-color-unfitted-level-3);\n",
       "  color: var(--sklearn-color-background);\n",
       "  text-decoration: none;\n",
       "}\n",
       "\n",
       "div.sk-estimator.fitted:hover .sk-estimator-doc-link.fitted:hover,\n",
       ".sk-estimator-doc-link.fitted:hover,\n",
       "div.sk-label-container:hover .sk-estimator-doc-link.fitted:hover,\n",
       ".sk-estimator-doc-link.fitted:hover {\n",
       "  /* fitted */\n",
       "  background-color: var(--sklearn-color-fitted-level-3);\n",
       "  color: var(--sklearn-color-background);\n",
       "  text-decoration: none;\n",
       "}\n",
       "\n",
       "/* Span, style for the box shown on hovering the info icon */\n",
       ".sk-estimator-doc-link span {\n",
       "  display: none;\n",
       "  z-index: 9999;\n",
       "  position: relative;\n",
       "  font-weight: normal;\n",
       "  right: .2ex;\n",
       "  padding: .5ex;\n",
       "  margin: .5ex;\n",
       "  width: min-content;\n",
       "  min-width: 20ex;\n",
       "  max-width: 50ex;\n",
       "  color: var(--sklearn-color-text);\n",
       "  box-shadow: 2pt 2pt 4pt #999;\n",
       "  /* unfitted */\n",
       "  background: var(--sklearn-color-unfitted-level-0);\n",
       "  border: .5pt solid var(--sklearn-color-unfitted-level-3);\n",
       "}\n",
       "\n",
       ".sk-estimator-doc-link.fitted span {\n",
       "  /* fitted */\n",
       "  background: var(--sklearn-color-fitted-level-0);\n",
       "  border: var(--sklearn-color-fitted-level-3);\n",
       "}\n",
       "\n",
       ".sk-estimator-doc-link:hover span {\n",
       "  display: block;\n",
       "}\n",
       "\n",
       "/* \"?\"-specific style due to the `<a>` HTML tag */\n",
       "\n",
       "#sk-container-id-4 a.estimator_doc_link {\n",
       "  float: right;\n",
       "  font-size: 1rem;\n",
       "  line-height: 1em;\n",
       "  font-family: monospace;\n",
       "  background-color: var(--sklearn-color-background);\n",
       "  border-radius: 1rem;\n",
       "  height: 1rem;\n",
       "  width: 1rem;\n",
       "  text-decoration: none;\n",
       "  /* unfitted */\n",
       "  color: var(--sklearn-color-unfitted-level-1);\n",
       "  border: var(--sklearn-color-unfitted-level-1) 1pt solid;\n",
       "}\n",
       "\n",
       "#sk-container-id-4 a.estimator_doc_link.fitted {\n",
       "  /* fitted */\n",
       "  border: var(--sklearn-color-fitted-level-1) 1pt solid;\n",
       "  color: var(--sklearn-color-fitted-level-1);\n",
       "}\n",
       "\n",
       "/* On hover */\n",
       "#sk-container-id-4 a.estimator_doc_link:hover {\n",
       "  /* unfitted */\n",
       "  background-color: var(--sklearn-color-unfitted-level-3);\n",
       "  color: var(--sklearn-color-background);\n",
       "  text-decoration: none;\n",
       "}\n",
       "\n",
       "#sk-container-id-4 a.estimator_doc_link.fitted:hover {\n",
       "  /* fitted */\n",
       "  background-color: var(--sklearn-color-fitted-level-3);\n",
       "}\n",
       "</style><div id=\"sk-container-id-4\" class=\"sk-top-container\"><div class=\"sk-text-repr-fallback\"><pre>Pipeline(steps=[(&#x27;preprocessor&#x27;,\n",
       "                 ColumnTransformer(transformers=[(&#x27;numeric&#x27;,\n",
       "                                                  Pipeline(steps=[(&#x27;imputer&#x27;,\n",
       "                                                                   SimpleImputer(strategy=&#x27;median&#x27;)),\n",
       "                                                                  (&#x27;standard_scaler&#x27;,\n",
       "                                                                   StandardScaler()),\n",
       "                                                                  (&#x27;min_max_scaler&#x27;,\n",
       "                                                                   MinMaxScaler())]),\n",
       "                                                  Index([&#x27;cap-diameter&#x27;, &#x27;stem-width&#x27;], dtype=&#x27;object&#x27;)),\n",
       "                                                 (&#x27;categorical&#x27;,\n",
       "                                                  Pipeline(steps=[(&#x27;imputer&#x27;,\n",
       "                                                                   SimpleImputer(strategy=&#x27;most_frequent&#x27;)),\n",
       "                                                                  (&#x27;encoder&#x27;,\n",
       "                                                                   OneHotEncoder(handle_unknown=&#x27;ignore&#x27;))]),\n",
       "                                                  Index([&#x27;cap-surface&#x27;, &#x27;cap-color&#x27;, &#x27;gill-attachment&#x27;, &#x27;stem-root&#x27;,\n",
       "       &#x27;stem-surface&#x27;, &#x27;veil-type&#x27;, &#x27;veil-color&#x27;, &#x27;has-ring&#x27;,\n",
       "       &#x27;spore-print-color&#x27;],\n",
       "      dtype=&#x27;object&#x27;))])),\n",
       "                (&#x27;classifier&#x27;, LogisticRegression(max_iter=1000))])</pre><b>In a Jupyter environment, please rerun this cell to show the HTML representation or trust the notebook. <br />On GitHub, the HTML representation is unable to render, please try loading this page with nbviewer.org.</b></div><div class=\"sk-container\" hidden><div class=\"sk-item sk-dashed-wrapped\"><div class=\"sk-label-container\"><div class=\"sk-label fitted sk-toggleable\"><input class=\"sk-toggleable__control sk-hidden--visually\" id=\"sk-estimator-id-31\" type=\"checkbox\" ><label for=\"sk-estimator-id-31\" class=\"sk-toggleable__label fitted sk-toggleable__label-arrow fitted\">&nbsp;&nbsp;Pipeline<a class=\"sk-estimator-doc-link fitted\" rel=\"noreferrer\" target=\"_blank\" href=\"https://scikit-learn.org/1.4/modules/generated/sklearn.pipeline.Pipeline.html\">?<span>Documentation for Pipeline</span></a><span class=\"sk-estimator-doc-link fitted\">i<span>Fitted</span></span></label><div class=\"sk-toggleable__content fitted\"><pre>Pipeline(steps=[(&#x27;preprocessor&#x27;,\n",
       "                 ColumnTransformer(transformers=[(&#x27;numeric&#x27;,\n",
       "                                                  Pipeline(steps=[(&#x27;imputer&#x27;,\n",
       "                                                                   SimpleImputer(strategy=&#x27;median&#x27;)),\n",
       "                                                                  (&#x27;standard_scaler&#x27;,\n",
       "                                                                   StandardScaler()),\n",
       "                                                                  (&#x27;min_max_scaler&#x27;,\n",
       "                                                                   MinMaxScaler())]),\n",
       "                                                  Index([&#x27;cap-diameter&#x27;, &#x27;stem-width&#x27;], dtype=&#x27;object&#x27;)),\n",
       "                                                 (&#x27;categorical&#x27;,\n",
       "                                                  Pipeline(steps=[(&#x27;imputer&#x27;,\n",
       "                                                                   SimpleImputer(strategy=&#x27;most_frequent&#x27;)),\n",
       "                                                                  (&#x27;encoder&#x27;,\n",
       "                                                                   OneHotEncoder(handle_unknown=&#x27;ignore&#x27;))]),\n",
       "                                                  Index([&#x27;cap-surface&#x27;, &#x27;cap-color&#x27;, &#x27;gill-attachment&#x27;, &#x27;stem-root&#x27;,\n",
       "       &#x27;stem-surface&#x27;, &#x27;veil-type&#x27;, &#x27;veil-color&#x27;, &#x27;has-ring&#x27;,\n",
       "       &#x27;spore-print-color&#x27;],\n",
       "      dtype=&#x27;object&#x27;))])),\n",
       "                (&#x27;classifier&#x27;, LogisticRegression(max_iter=1000))])</pre></div> </div></div><div class=\"sk-serial\"><div class=\"sk-item sk-dashed-wrapped\"><div class=\"sk-label-container\"><div class=\"sk-label fitted sk-toggleable\"><input class=\"sk-toggleable__control sk-hidden--visually\" id=\"sk-estimator-id-32\" type=\"checkbox\" ><label for=\"sk-estimator-id-32\" class=\"sk-toggleable__label fitted sk-toggleable__label-arrow fitted\">&nbsp;preprocessor: ColumnTransformer<a class=\"sk-estimator-doc-link fitted\" rel=\"noreferrer\" target=\"_blank\" href=\"https://scikit-learn.org/1.4/modules/generated/sklearn.compose.ColumnTransformer.html\">?<span>Documentation for preprocessor: ColumnTransformer</span></a></label><div class=\"sk-toggleable__content fitted\"><pre>ColumnTransformer(transformers=[(&#x27;numeric&#x27;,\n",
       "                                 Pipeline(steps=[(&#x27;imputer&#x27;,\n",
       "                                                  SimpleImputer(strategy=&#x27;median&#x27;)),\n",
       "                                                 (&#x27;standard_scaler&#x27;,\n",
       "                                                  StandardScaler()),\n",
       "                                                 (&#x27;min_max_scaler&#x27;,\n",
       "                                                  MinMaxScaler())]),\n",
       "                                 Index([&#x27;cap-diameter&#x27;, &#x27;stem-width&#x27;], dtype=&#x27;object&#x27;)),\n",
       "                                (&#x27;categorical&#x27;,\n",
       "                                 Pipeline(steps=[(&#x27;imputer&#x27;,\n",
       "                                                  SimpleImputer(strategy=&#x27;most_frequent&#x27;)),\n",
       "                                                 (&#x27;encoder&#x27;,\n",
       "                                                  OneHotEncoder(handle_unknown=&#x27;ignore&#x27;))]),\n",
       "                                 Index([&#x27;cap-surface&#x27;, &#x27;cap-color&#x27;, &#x27;gill-attachment&#x27;, &#x27;stem-root&#x27;,\n",
       "       &#x27;stem-surface&#x27;, &#x27;veil-type&#x27;, &#x27;veil-color&#x27;, &#x27;has-ring&#x27;,\n",
       "       &#x27;spore-print-color&#x27;],\n",
       "      dtype=&#x27;object&#x27;))])</pre></div> </div></div><div class=\"sk-parallel\"><div class=\"sk-parallel-item\"><div class=\"sk-item\"><div class=\"sk-label-container\"><div class=\"sk-label fitted sk-toggleable\"><input class=\"sk-toggleable__control sk-hidden--visually\" id=\"sk-estimator-id-33\" type=\"checkbox\" ><label for=\"sk-estimator-id-33\" class=\"sk-toggleable__label fitted sk-toggleable__label-arrow fitted\">numeric</label><div class=\"sk-toggleable__content fitted\"><pre>Index([&#x27;cap-diameter&#x27;, &#x27;stem-width&#x27;], dtype=&#x27;object&#x27;)</pre></div> </div></div><div class=\"sk-serial\"><div class=\"sk-item\"><div class=\"sk-serial\"><div class=\"sk-item\"><div class=\"sk-estimator fitted sk-toggleable\"><input class=\"sk-toggleable__control sk-hidden--visually\" id=\"sk-estimator-id-34\" type=\"checkbox\" ><label for=\"sk-estimator-id-34\" class=\"sk-toggleable__label fitted sk-toggleable__label-arrow fitted\">&nbsp;SimpleImputer<a class=\"sk-estimator-doc-link fitted\" rel=\"noreferrer\" target=\"_blank\" href=\"https://scikit-learn.org/1.4/modules/generated/sklearn.impute.SimpleImputer.html\">?<span>Documentation for SimpleImputer</span></a></label><div class=\"sk-toggleable__content fitted\"><pre>SimpleImputer(strategy=&#x27;median&#x27;)</pre></div> </div></div><div class=\"sk-item\"><div class=\"sk-estimator fitted sk-toggleable\"><input class=\"sk-toggleable__control sk-hidden--visually\" id=\"sk-estimator-id-35\" type=\"checkbox\" ><label for=\"sk-estimator-id-35\" class=\"sk-toggleable__label fitted sk-toggleable__label-arrow fitted\">&nbsp;StandardScaler<a class=\"sk-estimator-doc-link fitted\" rel=\"noreferrer\" target=\"_blank\" href=\"https://scikit-learn.org/1.4/modules/generated/sklearn.preprocessing.StandardScaler.html\">?<span>Documentation for StandardScaler</span></a></label><div class=\"sk-toggleable__content fitted\"><pre>StandardScaler()</pre></div> </div></div><div class=\"sk-item\"><div class=\"sk-estimator fitted sk-toggleable\"><input class=\"sk-toggleable__control sk-hidden--visually\" id=\"sk-estimator-id-36\" type=\"checkbox\" ><label for=\"sk-estimator-id-36\" class=\"sk-toggleable__label fitted sk-toggleable__label-arrow fitted\">&nbsp;MinMaxScaler<a class=\"sk-estimator-doc-link fitted\" rel=\"noreferrer\" target=\"_blank\" href=\"https://scikit-learn.org/1.4/modules/generated/sklearn.preprocessing.MinMaxScaler.html\">?<span>Documentation for MinMaxScaler</span></a></label><div class=\"sk-toggleable__content fitted\"><pre>MinMaxScaler()</pre></div> </div></div></div></div></div></div></div><div class=\"sk-parallel-item\"><div class=\"sk-item\"><div class=\"sk-label-container\"><div class=\"sk-label fitted sk-toggleable\"><input class=\"sk-toggleable__control sk-hidden--visually\" id=\"sk-estimator-id-37\" type=\"checkbox\" ><label for=\"sk-estimator-id-37\" class=\"sk-toggleable__label fitted sk-toggleable__label-arrow fitted\">categorical</label><div class=\"sk-toggleable__content fitted\"><pre>Index([&#x27;cap-surface&#x27;, &#x27;cap-color&#x27;, &#x27;gill-attachment&#x27;, &#x27;stem-root&#x27;,\n",
       "       &#x27;stem-surface&#x27;, &#x27;veil-type&#x27;, &#x27;veil-color&#x27;, &#x27;has-ring&#x27;,\n",
       "       &#x27;spore-print-color&#x27;],\n",
       "      dtype=&#x27;object&#x27;)</pre></div> </div></div><div class=\"sk-serial\"><div class=\"sk-item\"><div class=\"sk-serial\"><div class=\"sk-item\"><div class=\"sk-estimator fitted sk-toggleable\"><input class=\"sk-toggleable__control sk-hidden--visually\" id=\"sk-estimator-id-38\" type=\"checkbox\" ><label for=\"sk-estimator-id-38\" class=\"sk-toggleable__label fitted sk-toggleable__label-arrow fitted\">&nbsp;SimpleImputer<a class=\"sk-estimator-doc-link fitted\" rel=\"noreferrer\" target=\"_blank\" href=\"https://scikit-learn.org/1.4/modules/generated/sklearn.impute.SimpleImputer.html\">?<span>Documentation for SimpleImputer</span></a></label><div class=\"sk-toggleable__content fitted\"><pre>SimpleImputer(strategy=&#x27;most_frequent&#x27;)</pre></div> </div></div><div class=\"sk-item\"><div class=\"sk-estimator fitted sk-toggleable\"><input class=\"sk-toggleable__control sk-hidden--visually\" id=\"sk-estimator-id-39\" type=\"checkbox\" ><label for=\"sk-estimator-id-39\" class=\"sk-toggleable__label fitted sk-toggleable__label-arrow fitted\">&nbsp;OneHotEncoder<a class=\"sk-estimator-doc-link fitted\" rel=\"noreferrer\" target=\"_blank\" href=\"https://scikit-learn.org/1.4/modules/generated/sklearn.preprocessing.OneHotEncoder.html\">?<span>Documentation for OneHotEncoder</span></a></label><div class=\"sk-toggleable__content fitted\"><pre>OneHotEncoder(handle_unknown=&#x27;ignore&#x27;)</pre></div> </div></div></div></div></div></div></div></div></div><div class=\"sk-item\"><div class=\"sk-estimator fitted sk-toggleable\"><input class=\"sk-toggleable__control sk-hidden--visually\" id=\"sk-estimator-id-40\" type=\"checkbox\" ><label for=\"sk-estimator-id-40\" class=\"sk-toggleable__label fitted sk-toggleable__label-arrow fitted\">&nbsp;LogisticRegression<a class=\"sk-estimator-doc-link fitted\" rel=\"noreferrer\" target=\"_blank\" href=\"https://scikit-learn.org/1.4/modules/generated/sklearn.linear_model.LogisticRegression.html\">?<span>Documentation for LogisticRegression</span></a></label><div class=\"sk-toggleable__content fitted\"><pre>LogisticRegression(max_iter=1000)</pre></div> </div></div></div></div></div></div>"
      ],
      "text/plain": [
       "Pipeline(steps=[('preprocessor',\n",
       "                 ColumnTransformer(transformers=[('numeric',\n",
       "                                                  Pipeline(steps=[('imputer',\n",
       "                                                                   SimpleImputer(strategy='median')),\n",
       "                                                                  ('standard_scaler',\n",
       "                                                                   StandardScaler()),\n",
       "                                                                  ('min_max_scaler',\n",
       "                                                                   MinMaxScaler())]),\n",
       "                                                  Index(['cap-diameter', 'stem-width'], dtype='object')),\n",
       "                                                 ('categorical',\n",
       "                                                  Pipeline(steps=[('imputer',\n",
       "                                                                   SimpleImputer(strategy='most_frequent')),\n",
       "                                                                  ('encoder',\n",
       "                                                                   OneHotEncoder(handle_unknown='ignore'))]),\n",
       "                                                  Index(['cap-surface', 'cap-color', 'gill-attachment', 'stem-root',\n",
       "       'stem-surface', 'veil-type', 'veil-color', 'has-ring',\n",
       "       'spore-print-color'],\n",
       "      dtype='object'))])),\n",
       "                ('classifier', LogisticRegression(max_iter=1000))])"
      ]
     },
     "execution_count": 76,
     "metadata": {},
     "output_type": "execute_result"
    }
   ],
   "source": [
    "baseline_model"
   ]
  },
  {
   "cell_type": "markdown",
   "metadata": {},
   "source": [
    "### Evaluación del Modelo (Baseline)"
   ]
  },
  {
   "cell_type": "code",
   "execution_count": 77,
   "metadata": {},
   "outputs": [
    {
     "data": {
      "text/html": [
       "<pre style=\"white-space:pre;overflow-x:auto;line-height:normal;font-family:Menlo,'DejaVu Sans Mono',consolas,'Courier New',monospace\"><span style=\"font-weight: bold\">[</span><span style=\"color: #008000; text-decoration-color: #008000\">'p'</span> <span style=\"color: #008000; text-decoration-color: #008000\">'e'</span> <span style=\"color: #008000; text-decoration-color: #008000\">'e'</span> <span style=\"color: #808000; text-decoration-color: #808000\">...</span> <span style=\"color: #008000; text-decoration-color: #008000\">'e'</span> <span style=\"color: #008000; text-decoration-color: #008000\">'p'</span> <span style=\"color: #008000; text-decoration-color: #008000\">'p'</span><span style=\"font-weight: bold\">]</span>\n",
       "</pre>\n"
      ],
      "text/plain": [
       "\u001b[1m[\u001b[0m\u001b[32m'p'\u001b[0m \u001b[32m'e'\u001b[0m \u001b[32m'e'\u001b[0m \u001b[33m...\u001b[0m \u001b[32m'e'\u001b[0m \u001b[32m'p'\u001b[0m \u001b[32m'p'\u001b[0m\u001b[1m]\u001b[0m\n"
      ]
     },
     "metadata": {},
     "output_type": "display_data"
    }
   ],
   "source": [
    "# Realizar predicciones utilizando el conjunto de prueba transformado\n",
    "y_pred = baseline_model.predict(X_test)\n",
    "print(y_pred)"
   ]
  },
  {
   "cell_type": "code",
   "execution_count": 78,
   "metadata": {},
   "outputs": [
    {
     "data": {
      "text/html": [
       "<pre style=\"white-space:pre;overflow-x:auto;line-height:normal;font-family:Menlo,'DejaVu Sans Mono',consolas,'Courier New',monospace\">Accuracy: <span style=\"color: #008080; text-decoration-color: #008080; font-weight: bold\">0.7769603445182128</span>\n",
       "</pre>\n"
      ],
      "text/plain": [
       "Accuracy: \u001b[1;36m0.7769603445182128\u001b[0m\n"
      ]
     },
     "metadata": {},
     "output_type": "display_data"
    },
    {
     "data": {
      "text/html": [
       "<pre style=\"white-space:pre;overflow-x:auto;line-height:normal;font-family:Menlo,'DejaVu Sans Mono',consolas,'Courier New',monospace\">Precision: <span style=\"color: #008080; text-decoration-color: #008080; font-weight: bold\">0.8034515819750719</span>\n",
       "</pre>\n"
      ],
      "text/plain": [
       "Precision: \u001b[1;36m0.8034515819750719\u001b[0m\n"
      ]
     },
     "metadata": {},
     "output_type": "display_data"
    },
    {
     "data": {
      "text/html": [
       "<pre style=\"white-space:pre;overflow-x:auto;line-height:normal;font-family:Menlo,'DejaVu Sans Mono',consolas,'Courier New',monospace\">Recall: <span style=\"color: #008080; text-decoration-color: #008080; font-weight: bold\">0.8001273074474857</span>\n",
       "</pre>\n"
      ],
      "text/plain": [
       "Recall: \u001b[1;36m0.8001273074474857\u001b[0m\n"
      ]
     },
     "metadata": {},
     "output_type": "display_data"
    },
    {
     "data": {
      "text/html": [
       "<pre style=\"white-space:pre;overflow-x:auto;line-height:normal;font-family:Menlo,'DejaVu Sans Mono',consolas,'Courier New',monospace\">F1-score: <span style=\"color: #008080; text-decoration-color: #008080; font-weight: bold\">0.8017859990432148</span>\n",
       "</pre>\n"
      ],
      "text/plain": [
       "F1-score: \u001b[1;36m0.8017859990432148\u001b[0m\n"
      ]
     },
     "metadata": {},
     "output_type": "display_data"
    },
    {
     "data": {
      "text/html": [
       "<pre style=\"white-space:pre;overflow-x:auto;line-height:normal;font-family:Menlo,'DejaVu Sans Mono',consolas,'Courier New',monospace\">AUC-ROC: <span style=\"color: #008080; text-decoration-color: #008080; font-weight: bold\">0.8647388154961075</span>\n",
       "</pre>\n"
      ],
      "text/plain": [
       "AUC-ROC: \u001b[1;36m0.8647388154961075\u001b[0m\n"
      ]
     },
     "metadata": {},
     "output_type": "display_data"
    },
    {
     "data": {
      "text/html": [
       "<pre style=\"white-space:pre;overflow-x:auto;line-height:normal;font-family:Menlo,'DejaVu Sans Mono',consolas,'Courier New',monospace\">\n",
       "Confusion Matrix:\n",
       " <span style=\"font-weight: bold\">[[</span><span style=\"color: #008080; text-decoration-color: #008080; font-weight: bold\">3632</span> <span style=\"color: #008080; text-decoration-color: #008080; font-weight: bold\">1230</span><span style=\"font-weight: bold\">]</span>\n",
       " <span style=\"font-weight: bold\">[</span><span style=\"color: #008080; text-decoration-color: #008080; font-weight: bold\">1256</span> <span style=\"color: #008080; text-decoration-color: #008080; font-weight: bold\">5028</span><span style=\"font-weight: bold\">]]</span>\n",
       "</pre>\n"
      ],
      "text/plain": [
       "\n",
       "Confusion Matrix:\n",
       " \u001b[1m[\u001b[0m\u001b[1m[\u001b[0m\u001b[1;36m3632\u001b[0m \u001b[1;36m1230\u001b[0m\u001b[1m]\u001b[0m\n",
       " \u001b[1m[\u001b[0m\u001b[1;36m1256\u001b[0m \u001b[1;36m5028\u001b[0m\u001b[1m]\u001b[0m\u001b[1m]\u001b[0m\n"
      ]
     },
     "metadata": {},
     "output_type": "display_data"
    },
    {
     "data": {
      "text/html": [
       "<pre style=\"white-space:pre;overflow-x:auto;line-height:normal;font-family:Menlo,'DejaVu Sans Mono',consolas,'Courier New',monospace\">\n",
       "Classification Report:\n",
       "               precision    recall  f1-score   support\n",
       "\n",
       "           e       <span style=\"color: #008080; text-decoration-color: #008080; font-weight: bold\">0.74</span>      <span style=\"color: #008080; text-decoration-color: #008080; font-weight: bold\">0.75</span>      <span style=\"color: #008080; text-decoration-color: #008080; font-weight: bold\">0.75</span>      <span style=\"color: #008080; text-decoration-color: #008080; font-weight: bold\">4862</span>\n",
       "           p       <span style=\"color: #008080; text-decoration-color: #008080; font-weight: bold\">0.80</span>      <span style=\"color: #008080; text-decoration-color: #008080; font-weight: bold\">0.80</span>      <span style=\"color: #008080; text-decoration-color: #008080; font-weight: bold\">0.80</span>      <span style=\"color: #008080; text-decoration-color: #008080; font-weight: bold\">6284</span>\n",
       "\n",
       "    accuracy                           <span style=\"color: #008080; text-decoration-color: #008080; font-weight: bold\">0.78</span>     <span style=\"color: #008080; text-decoration-color: #008080; font-weight: bold\">11146</span>\n",
       "   macro avg       <span style=\"color: #008080; text-decoration-color: #008080; font-weight: bold\">0.77</span>      <span style=\"color: #008080; text-decoration-color: #008080; font-weight: bold\">0.77</span>      <span style=\"color: #008080; text-decoration-color: #008080; font-weight: bold\">0.77</span>     <span style=\"color: #008080; text-decoration-color: #008080; font-weight: bold\">11146</span>\n",
       "weighted avg       <span style=\"color: #008080; text-decoration-color: #008080; font-weight: bold\">0.78</span>      <span style=\"color: #008080; text-decoration-color: #008080; font-weight: bold\">0.78</span>      <span style=\"color: #008080; text-decoration-color: #008080; font-weight: bold\">0.78</span>     <span style=\"color: #008080; text-decoration-color: #008080; font-weight: bold\">11146</span>\n",
       "\n",
       "</pre>\n"
      ],
      "text/plain": [
       "\n",
       "Classification Report:\n",
       "               precision    recall  f1-score   support\n",
       "\n",
       "           e       \u001b[1;36m0.74\u001b[0m      \u001b[1;36m0.75\u001b[0m      \u001b[1;36m0.75\u001b[0m      \u001b[1;36m4862\u001b[0m\n",
       "           p       \u001b[1;36m0.80\u001b[0m      \u001b[1;36m0.80\u001b[0m      \u001b[1;36m0.80\u001b[0m      \u001b[1;36m6284\u001b[0m\n",
       "\n",
       "    accuracy                           \u001b[1;36m0.78\u001b[0m     \u001b[1;36m11146\u001b[0m\n",
       "   macro avg       \u001b[1;36m0.77\u001b[0m      \u001b[1;36m0.77\u001b[0m      \u001b[1;36m0.77\u001b[0m     \u001b[1;36m11146\u001b[0m\n",
       "weighted avg       \u001b[1;36m0.78\u001b[0m      \u001b[1;36m0.78\u001b[0m      \u001b[1;36m0.78\u001b[0m     \u001b[1;36m11146\u001b[0m\n",
       "\n"
      ]
     },
     "metadata": {},
     "output_type": "display_data"
    }
   ],
   "source": [
    "# Evaluar el rendimiento del modelo base en el conjunto de prueba\n",
    "accuracy = accuracy_score(y_test, y_pred)\n",
    "precision = precision_score(y_test, y_pred, pos_label='p')\n",
    "recall = recall_score(y_test, y_pred, pos_label='p')\n",
    "f1 = f1_score(y_test, y_pred, pos_label='p')\n",
    "auc_roc = roc_auc_score(y_test, baseline_model.predict_proba(X_test)[:, 1])\n",
    "conf_matrix = confusion_matrix(y_test, y_pred)\n",
    "class_report = classification_report(y_test, y_pred)\n",
    "\n",
    "# Imprimir los resultados\n",
    "print(\"Accuracy:\", accuracy)\n",
    "print(\"Precision:\", precision)\n",
    "print(\"Recall:\", recall)\n",
    "print(\"F1-score:\", f1)\n",
    "print(\"AUC-ROC:\", auc_roc)\n",
    "print(\"\\nConfusion Matrix:\\n\", conf_matrix)\n",
    "print(\"\\nClassification Report:\\n\", class_report)"
   ]
  },
  {
   "cell_type": "code",
   "execution_count": 79,
   "metadata": {},
   "outputs": [
    {
     "data": {
      "image/png": "[encoded data removed]",
      "text/plain": [
       "<Figure size 800x600 with 2 Axes>"
      ]
     },
     "metadata": {},
     "output_type": "display_data"
    }
   ],
   "source": [
    "# Visualizar la matriz de confusión\n",
    "plt.figure(figsize=(8, 6))\n",
    "sns.heatmap(conf_matrix, annot=True, fmt='d', cmap='Blues')\n",
    "plt.xlabel('Predicted')\n",
    "plt.ylabel('Actual')\n",
    "plt.title('Confusion Matrix')\n",
    "plt.savefig('confusion_matrix_baseline.png')  # Save the confusion matrix plot\n",
    "plt.show()"
   ]
  },
  {
   "cell_type": "code",
   "execution_count": 80,
   "metadata": {},
   "outputs": [
    {
     "ename": "Exception",
     "evalue": "Stopping execution",
     "output_type": "error",
     "traceback": [
      "\u001b[1;31m---------------------------------------------------------------------------\u001b[0m",
      "\u001b[1;31mException\u001b[0m                                 Traceback (most recent call last)",
      "Cell \u001b[1;32mIn[80], line 1\u001b[0m\n\u001b[1;32m----> 1\u001b[0m \u001b[38;5;28;01mraise\u001b[39;00m \u001b[38;5;167;01mException\u001b[39;00m(\u001b[38;5;124m'\u001b[39m\u001b[38;5;124mStopping execution\u001b[39m\u001b[38;5;124m'\u001b[39m)\n",
      "\u001b[1;31mException\u001b[0m: Stopping execution"
     ]
    }
   ],
   "source": [
    "raise Exception('Stopping execution')"
   ]
  },
  {
   "cell_type": "markdown",
   "metadata": {},
   "source": [
    "### Set Up MLflow"
   ]
  },
  {
   "cell_type": "code",
   "execution_count": null,
   "metadata": {},
   "outputs": [],
   "source": [
    "\"\"\"\n",
    "def setup_mlflow_tracking(mlruns_path, experiment_name, tags=None):\n",
    "    \"\"\"\n",
    "    Sets up MLflow tracking with a local file storage backend.\n",
    "    Creates an experiment if it doesn't exist.\n",
    "\n",
    "    Args:\n",
    "        mlruns_path (str): The path to the mlruns directory.\n",
    "        experiment_name (str): The name of the experiment.\n",
    "\n",
    "    Returns:\n",
    "        mlflow.entities.Experiment: The active MLflow experiment.\n",
    "    \"\"\"\n",
    "\n",
    "    tracking_uri = \"file:///\" + os.path.abspath(mlruns_path)\n",
    "    os.environ[\"MLFLOW_TRACKING_URI\"] = tracking_uri\n",
    "    mlflow.set_tracking_uri(tracking_uri)\n",
    "\n",
    "    print(f\"MLflow Tracking URI: {tracking_uri}\")\n",
    "\n",
    "    experiment = mlflow.get_experiment_by_name(experiment_name)\n",
    "    if experiment:\n",
    "        print(f\"Existing experiment found: {experiment.name}\")\n",
    "    else:\n",
    "        experiment = mlflow.create_experiment(\n",
    "            experiment_name, artifact_location=mlruns_path, tags=tags\n",
    "        )\n",
    "        print(f\"New experiment created: {experiment.experiment_id}\")\n",
    "\n",
    "    mlflow.set_experiment(experiment.experiment_id)  \n",
    "    return experiment\n",
    "\n",
    "\n",
    "mlruns_path = 'c:/Users/ferna/.vscode/GitHub/a01110946/MushroomDataset/mlruns'\n",
    "experiment_name = \"mushroom_classification\"\n",
    "tags = {\"data\": \"mushrooms\"}\n",
    "\n",
    "experiment = setup_mlflow_tracking(mlruns_path, experiment_name)\n",
    "\n",
    "\n",
    "# Confirm data at the end\n",
    "print(f\"Artifact URI: {mlflow.get_artifact_uri()}\")\n",
    "print(f\"Experiment Name: {experiment.name}\")\n",
    "print(f\"Experiment ID: {experiment.experiment_id}\")\n",
    "print(f\"Experiment Location: {experiment.artifact_location}\")\n",
    "\n",
    "\n",
    "run = mlflow.active_run()\n",
    "if run:  # Check if a run is still active\n",
    "    print(f\"run_id: {run.info.run_id}\")\n",
    "    mlflow.end_run()\n",
    "else:\n",
    "    print(\"No active run found\")\n",
    "\n",
    "\n",
    "# Registrar las métricas y artefactos en MLflow\n",
    "with mlflow.start_run(run_name=\"Baseline Model Evaluation\"):\n",
    "    mlflow.log_param(\"model\", \"Logistic Regression\")\n",
    "    mlflow.log_metric(\"accuracy\", accuracy)\n",
    "    mlflow.log_metric(\"precision\", precision)\n",
    "    mlflow.log_metric(\"recall\", recall)\n",
    "    mlflow.log_metric(\"f1_score\", f1)\n",
    "    mlflow.log_metric(\"auc_roc\", auc_roc)\n",
    "    mlflow.log_artifact(\"confusion_matrix_baseline.png\")\n",
    "    mlflow.log_text(class_report, \"classification_report_baseline.txt\")\n",
    "\"\"\""
   ]
  }
 ],
 "metadata": {
  "kernelspec": {
   "display_name": "env_mlops",
   "language": "python",
   "name": "python3"
  },
  "language_info": {
   "codemirror_mode": {
    "name": "ipython",
    "version": 3
   },
   "file_extension": ".py",
   "mimetype": "text/x-python",
   "name": "python",
   "nbconvert_exporter": "python",
   "pygments_lexer": "ipython3",
   "version": "3.11.6"
  }
 },
 "nbformat": 4,
 "nbformat_minor": 2
}
